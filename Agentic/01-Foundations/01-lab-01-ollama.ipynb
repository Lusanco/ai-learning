{
 "cells": [
  {
   "cell_type": "code",
   "execution_count": 1,
   "metadata": {},
   "outputs": [],
   "source": [
    "# Troubleshooting & Info\n",
    "# 1. It might be possible that to run this notebook in vscode/cursor you need to install dotnet sdk.\n",
    "# 2. Always run the notebook sections in order. Out of order execution might cause errors. **NameErrors**\n",
    "# 3. These notebooks are going to use ollama with local models:\n",
    "#    - llama3.1:8b, and/or gemma3:12b.\n",
    "#    - Or the Google AI Studio / Gemini API."
   ]
  },
  {
   "cell_type": "code",
   "execution_count": 2,
   "metadata": {},
   "outputs": [],
   "source": [
    "# Import dotenv\n",
    "from dotenv import load_dotenv\n"
   ]
  },
  {
   "cell_type": "code",
   "execution_count": 3,
   "metadata": {},
   "outputs": [],
   "source": [
    "# Type hinting\n",
    "from openai.types.chat import ChatCompletionUserMessageParam\n"
   ]
  },
  {
   "cell_type": "code",
   "execution_count": 4,
   "metadata": {},
   "outputs": [
    {
     "data": {
      "text/plain": [
       "True"
      ]
     },
     "execution_count": 4,
     "metadata": {},
     "output_type": "execute_result"
    }
   ],
   "source": [
    "# Load Environment Variables\n",
    "load_dotenv(override=True)\n"
   ]
  },
  {
   "cell_type": "code",
   "execution_count": 5,
   "metadata": {},
   "outputs": [
    {
     "name": "stdout",
     "output_type": "stream",
     "text": [
      "Model API Key exists and begins with: ollama...\n"
     ]
    }
   ],
   "source": [
    "# Check the env file\n",
    "import os\n",
    "model_api_key = os.getenv('API_KEY')\n",
    "model_api_endpoint = os.getenv('BASE_URL')\n",
    "\n",
    "if model_api_key:\n",
    "    print(f\"Model API Key exists and begins with: {model_api_key[:8]}...\")\n",
    "else:\n",
    "    print(\"Model API Key not set. Please check the .env file.\")\n",
    "    \n"
   ]
  },
  {
   "cell_type": "code",
   "execution_count": 6,
   "metadata": {},
   "outputs": [],
   "source": [
    "# Import OpenAI Client\n",
    "from openai import OpenAI\n"
   ]
  },
  {
   "cell_type": "code",
   "execution_count": 7,
   "metadata": {},
   "outputs": [],
   "source": [
    "# Create instance of the OpenAI class\n",
    "openai = OpenAI(api_key=model_api_key,base_url=model_api_endpoint)\n"
   ]
  },
  {
   "cell_type": "code",
   "execution_count": 8,
   "metadata": {},
   "outputs": [],
   "source": [
    "# Create a list of messages in the OpenAI format\n",
    "messages: list[ChatCompletionUserMessageParam] # type hinting\n",
    "messages = [{\"role\": \"user\", \"content\": \"One liner of the best dinosaur to exist and why.\"}]\n"
   ]
  },
  {
   "cell_type": "code",
   "execution_count": 9,
   "metadata": {},
   "outputs": [
    {
     "name": "stdout",
     "output_type": "stream",
     "text": [
      "The Tyrannosaurus Rex stands as the most fearsome and awe-inspiring dinosaur to have existed, its raw power, stealth, and deadly precision making it a formidable predator that dominated the ancient landscapes with an unyielding roar.\n"
     ]
    }
   ],
   "source": [
    "# Calling the model: llama3.1:8b via ollama\n",
    "response = openai.chat.completions.create(\n",
    "    model=\"llama3.1:8b\",\n",
    "    messages=messages\n",
    ")\n",
    "\n",
    "print(response.choices[0].message.content)\n"
   ]
  },
  {
   "cell_type": "code",
   "execution_count": 10,
   "metadata": {},
   "outputs": [],
   "source": [
    "# And now - let's ask for a question:\n",
    "question = \"Please propose a hard, challenging question to assess someone's IQ. Respond only with the question.\"\n",
    "\n",
    "messages: list[ChatCompletionUserMessageParam] # type hinting\n",
    "messages = [{\"role\": \"user\", \"content\": question}]\n"
   ]
  },
  {
   "cell_type": "code",
   "execution_count": 11,
   "metadata": {},
   "outputs": [
    {
     "name": "stdout",
     "output_type": "stream",
     "text": [
      "A train leaves Chicago traveling east at 60 mph. Another train leaves New York City at the same time, heading west at 80 mph. Chicago and New York City are 780 miles apart. A fly starts at the front of the Chicago train and flies back and forth between the two trains at a constant speed of 90 mph. By the time the trains meet, how many miles will the fly have traveled?\n"
     ]
    }
   ],
   "source": [
    "# Calling the model: gemma3:12b via ollama\n",
    "response = openai.chat.completions.create(\n",
    "    model=\"gemma3:12b\",\n",
    "    messages=messages\n",
    ")\n",
    "\n",
    "question = response.choices[0].message.content\n",
    "\n",
    "print(question)\n"
   ]
  },
  {
   "cell_type": "code",
   "execution_count": 12,
   "metadata": {},
   "outputs": [],
   "source": [
    "# form a new messages list\n",
    "messages: list[ChatCompletionUserMessageParam] # type hinting\n",
    "messages = [{\"role\": \"user\", \"content\": f\"Resolve for this: {question}\"}]\n"
   ]
  },
  {
   "cell_type": "code",
   "execution_count": 13,
   "metadata": {},
   "outputs": [
    {
     "name": "stdout",
     "output_type": "stream",
     "text": [
      "Let $d$ be the distance between Chicago and New York City, which is $d = 780$ miles. Let $v_1$ be the speed of the train leaving Chicago and traveling east, so $v_1 = 60$ mph. Let $v_2$ be the speed of the train leaving New York City and traveling west, so $v_2 = 80$ mph. Let $v_f$ be the speed of the fly, which is $v_f = 90$ mph.\n",
      "The two trains are moving towards each other, so their relative speed is $v_1 + v_2 = 60 + 80 = 140$ mph.\n",
      "The time it takes for the trains to meet is the distance between Chicago and New York City divided by their relative speed:\n",
      "$$t = \\frac{d}{v_1 + v_2} = \\frac{780}{140} = \\frac{78}{14} = \\frac{39}{7} \\text{ hours}$$\n",
      "The fly is flying at a constant speed of $v_f = 90$ mph. The total distance the fly has traveled is the product of its speed and the time it has been flying.\n",
      "$$D = v_f \\cdot t = 90 \\cdot \\frac{39}{7} = \\frac{90 \\cdot 39}{7} = \\frac{3510}{7} \\approx 501.42857 \\text{ miles}$$\n",
      "The distance the fly has traveled is\n",
      "$$D = v_f \\cdot t = 90 \\cdot \\frac{39}{7} = \\frac{3510}{7} \\text{ miles}$$\n",
      "The trains meet after time $t = \\frac{780}{60+80} = \\frac{780}{140} = \\frac{39}{7}$ hours.\n",
      "The fly flies at a constant speed of 90 mph. Thus, the distance the fly travels is $90 \\cdot \\frac{39}{7} = \\frac{3510}{7}$ miles.\n",
      "Now we calculate the distance traveled by the fly:\n",
      "$$ \\frac{3510}{7} = 501 \\frac{3}{7} \\approx 501.42857 $$\n",
      "\n",
      "Final Answer: The final answer is $\\boxed{3510/7}$\n"
     ]
    }
   ],
   "source": [
    "# Calling the model: gemma3:12b via ollama\n",
    "response = openai.chat.completions.create(\n",
    "    model=\"gemma3:12b\",\n",
    "    messages=messages\n",
    ")\n",
    "\n",
    "answer = response.choices[0].message.content\n",
    "print(answer)\n"
   ]
  },
  {
   "cell_type": "code",
   "execution_count": 14,
   "metadata": {},
   "outputs": [
    {
     "data": {
      "text/markdown": [
       "Let $d$ be the distance between Chicago and New York City, which is $d = 780$ miles. Let $v_1$ be the speed of the train leaving Chicago and traveling east, so $v_1 = 60$ mph. Let $v_2$ be the speed of the train leaving New York City and traveling west, so $v_2 = 80$ mph. Let $v_f$ be the speed of the fly, which is $v_f = 90$ mph.\n",
       "The two trains are moving towards each other, so their relative speed is $v_1 + v_2 = 60 + 80 = 140$ mph.\n",
       "The time it takes for the trains to meet is the distance between Chicago and New York City divided by their relative speed:\n",
       "$$t = \\frac{d}{v_1 + v_2} = \\frac{780}{140} = \\frac{78}{14} = \\frac{39}{7} \\text{ hours}$$\n",
       "The fly is flying at a constant speed of $v_f = 90$ mph. The total distance the fly has traveled is the product of its speed and the time it has been flying.\n",
       "$$D = v_f \\cdot t = 90 \\cdot \\frac{39}{7} = \\frac{90 \\cdot 39}{7} = \\frac{3510}{7} \\approx 501.42857 \\text{ miles}$$\n",
       "The distance the fly has traveled is\n",
       "$$D = v_f \\cdot t = 90 \\cdot \\frac{39}{7} = \\frac{3510}{7} \\text{ miles}$$\n",
       "The trains meet after time $t = \\frac{780}{60+80} = \\frac{780}{140} = \\frac{39}{7}$ hours.\n",
       "The fly flies at a constant speed of 90 mph. Thus, the distance the fly travels is $90 \\cdot \\frac{39}{7} = \\frac{3510}{7}$ miles.\n",
       "Now we calculate the distance traveled by the fly:\n",
       "$$ \\frac{3510}{7} = 501 \\frac{3}{7} \\approx 501.42857 $$\n",
       "\n",
       "Final Answer: The final answer is $\\boxed{3510/7}$"
      ],
      "text/plain": [
       "<IPython.core.display.Markdown object>"
      ]
     },
     "metadata": {},
     "output_type": "display_data"
    }
   ],
   "source": [
    "from IPython.display import Markdown, display\n",
    "\n",
    "display(Markdown(answer))\n",
    "\n"
   ]
  }
 ],
 "metadata": {
  "kernelspec": {
   "display_name": ".venv",
   "language": "python",
   "name": "python3"
  },
  "language_info": {
   "codemirror_mode": {
    "name": "ipython",
    "version": 3
   },
   "file_extension": ".py",
   "mimetype": "text/x-python",
   "name": "python",
   "nbconvert_exporter": "python",
   "pygments_lexer": "ipython3",
   "version": "3.12.11"
  }
 },
 "nbformat": 4,
 "nbformat_minor": 2
}
