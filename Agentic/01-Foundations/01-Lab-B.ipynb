{
 "cells": [
  {
   "cell_type": "code",
   "execution_count": 9,
   "metadata": {},
   "outputs": [],
   "source": [
    "# Imports\n",
    "import os\n",
    "from dotenv import load_dotenv\n",
    "from openai import OpenAI\n",
    "\n",
    "# Type hinting\n",
    "from openai.types.chat import ChatCompletionUserMessageParam\n"
   ]
  },
  {
   "cell_type": "code",
   "execution_count": 10,
   "metadata": {},
   "outputs": [],
   "source": [
    "# Load Environment Variables\n",
    "load_dotenv(override=True)\n",
    "api_key = os.getenv('API_KEY')\n",
    "base_url = os.getenv('BASE_URL')\n"
   ]
  },
  {
   "cell_type": "code",
   "execution_count": 11,
   "metadata": {},
   "outputs": [
    {
     "name": "stdout",
     "output_type": "stream",
     "text": [
      "Model API Key exists and begins with: olla...\n"
     ]
    }
   ],
   "source": [
    "# Check Environment Variables\n",
    "if api_key:\n",
    "    print(f\"Model API Key exists and begins with: {api_key[:4]}...\")\n",
    "else:\n",
    "    print(\"Model API Key not set. Please check the .env file.\")\n"
   ]
  },
  {
   "cell_type": "code",
   "execution_count": 12,
   "metadata": {},
   "outputs": [],
   "source": [
    "# Create Instance OpenAI Class\n",
    "ai_client = OpenAI(api_key=api_key, base_url=base_url)\n",
    "ai_model = \"gemma3:12b\"\n"
   ]
  },
  {
   "cell_type": "code",
   "execution_count": 13,
   "metadata": {},
   "outputs": [],
   "source": [
    "# OpenAI Prompt Format Messages\n",
    "messages: list[ChatCompletionUserMessageParam] # type hinting\n",
    "messages = [{\"role\": \"user\", \"content\": \"Pick a business area that might be worth exploring for an Agentic AI opportunity.\"}]\n"
   ]
  },
  {
   "cell_type": "code",
   "execution_count": 14,
   "metadata": {},
   "outputs": [
    {
     "name": "stdout",
     "output_type": "stream",
     "text": [
      "Okay, let's explore a business area ripe for Agentic AI opportunity: **Personalized Financial Wellness & Debt Management.**\n",
      "\n",
      "Here's a breakdown of why it's a strong candidate, the current pain points, how Agentic AI can address them, and the potential challenges.\n",
      "\n",
      "**1. The Business Area: Personalized Financial Wellness & Debt Management**\n",
      "\n",
      "This encompasses a wide range of services aimed at helping individuals improve their financial health, including:\n",
      "\n",
      "*   **Budgeting & Savings:** Creating and sticking to a budget, setting savings goals.\n",
      "*   **Debt Management:**  Understanding different debt types, creating debt repayment strategies, exploring debt consolidation options.\n",
      "*   **Credit Score Improvement:** Understanding credit scores, disputing inaccuracies, improving creditworthiness.\n",
      "*   **Investment Basics:**  Getting started with investing (even with limited funds).\n",
      "*   **Financial Literacy:** Providing education on core financial concepts.\n",
      "*   **Goal Setting**: Helping users set and track progress towards financial milestones like buying a house, retirement, or paying off student loans.\n",
      "\n",
      "**2. Current Pain Points & Limitations**\n",
      "\n",
      "*   **Lack of Personalized Advice:** Traditional financial advice can be expensive and often generic.  Many individuals don't qualify for or can't afford wealth management services.\n",
      "*   **Overwhelming Complexity:** Financial topics are complex and can be intimidating, leading to inaction.  People avoid dealing with them.\n",
      "*   **Lack of Consistent Engagement:**  Financial planning often involves one-time consultations, leading to a lack of ongoing support and accountability. People start strong but often fall off track.\n",
      "*   **Information Overload:**  The internet is full of conflicting financial advice. Individuals struggle to discern credible sources and implement effective strategies.\n",
      "*   **Emotional Hurdles:**  Financial decisions are often emotionally driven (fear, anxiety, guilt).  Objective, unbiased guidance is needed.\n",
      "*   **Difficulty in Tracking Progress:** Many individuals struggle to maintain awareness of their financial status and track progress toward goals.\n",
      "\n",
      "**3. How Agentic AI Can Address These Pain Points**\n",
      "\n",
      "Agentic AI, with its ability to plan, execute, and learn, is exceptionally well-suited to revolutionize this area. Here's how:\n",
      "\n",
      "*   **Hyper-Personalized Guidance:** An Agentic AI can gather detailed information about a user's income, expenses, debts, goals, risk tolerance, and even behavioral patterns. It can then provide tailored advice that considers their unique circumstances and preferences.  This goes *far* beyond simple rule-based advice.\n",
      "*   **Proactive Problem Solving:**  Rather than just reacting to user requests, an Agentic AI could proactively identify potential issues (e.g., impending overdrafts, missed bill payments, suboptimal debt repayment strategies) and suggest solutions.\n",
      "*   **Automated Tasks:** The agent could automate tasks like:\n",
      "    *   Bill payment reminders and scheduling.\n",
      "    *   Debt repayment plan optimization (e.g., suggesting debt snowball vs. debt avalanche).\n",
      "    *   Negotiating lower interest rates (integration with data sources and scripts).\n",
      "    *   Finding and recommending relevant financial products (e.g., high-yield savings accounts, credit cards with rewards).\n",
      "*   **Behavioral Nudging & Motivation:** The agent can leverage behavioral economics principles to encourage positive financial habits through personalized nudges, gamification, and motivational messaging.  This is a challenge for traditional financial tools.\n",
      "*   **Continuous Learning and Adaptation:**  The AI can learn from the user's behavior, feedback, and market changes to continuously improve its advice and strategies.\n",
      "*  **Financial Literacy Education:** The agent could integrate bite-sized, personalized financial literacy content based on the user's needs and interests.\n",
      "* **Integration with Financial APIs:** Connect to bank accounts, credit reports, investment platforms.\n",
      "\n",
      "**Example Agentic AI Workflow:**\n",
      "\n",
      "1.  **Onboarding:**  User provides basic information.  Agent asks probing questions to understand goals and current situation.\n",
      "2.  **Analysis:**  Agent analyzes data (bank transactions, credit report, debt details).\n",
      "3.  **Plan Generation:**  Agent creates a personalized debt repayment plan, budget, and savings goals.\n",
      "4.  **Execution:** The Agent interacts with accounts to schedule payments, flag potentially problematic transactions,  and proactively find optimal savings solutions.\n",
      "5.  **Monitoring & Adjustment:**  The agent continuously monitors progress, adjusts goals based on changing circumstances (e.g., job loss, unexpected expenses) and gives constant feedback.\n",
      "6. **Learning:** Agent learns from past behavior and uses this data to improve future recommendations.\n",
      "\n",
      "**4. Potential Challenges & Considerations**\n",
      "\n",
      "*   **Data Security & Privacy:** Accessing and storing sensitive financial data requires robust security measures and adherence to strict privacy regulations.  Building and maintaining trust is paramount.\n",
      "*   **Regulatory Compliance:** Financial services are heavily regulated.  The AI solution must comply with relevant laws and regulations (e.g., GDPR, SEC guidelines).\n",
      "*   **Explainability & Transparency:** Users need to understand *why* the AI is making certain recommendations.  Black box AI is not acceptable in this context.\n",
      "*   **Bias Mitigation:**  AI models can perpetuate existing biases if not carefully trained and monitored.\n",
      "*   **User Adoption:** Convincing users to trust an AI with their finances can be challenging. A user-friendly interface and clear communication are essential.\n",
      "*   **Hallucinations & Errors:** Financial advice errors, even minor ones, could have significant consequences. Robust testing and validation are critical.\n",
      "\n",
      "\n",
      "\n",
      "**Why this is a great opportunity:**  The demand for accessible, personalized financial wellness solutions is high. Current solutions are either too expensive or inadequate.  Agentic AI has the potential to bridge this gap and democratize access to quality financial advice, leading to significant social and economic impact.\n"
     ]
    }
   ],
   "source": [
    "# Calling the model: gemma3:12b via ollama\n",
    "response = ai_client.chat.completions.create(\n",
    "    model=ai_model,\n",
    "    messages=messages\n",
    ")\n",
    "\n",
    "answer = response.choices[0].message.content\n",
    "print(answer)\n"
   ]
  },
  {
   "cell_type": "code",
   "execution_count": 15,
   "metadata": {},
   "outputs": [],
   "source": [
    "messages: list[ChatCompletionUserMessageParam] # type hinting\n",
    "messages = [{\"role\": \"user\", \"content\": f\"Present a pain-point, something challenging that might be ripe for an Agentic solution for the following industry:\\n{answer}\"}]\n"
   ]
  },
  {
   "cell_type": "code",
   "execution_count": 16,
   "metadata": {},
   "outputs": [
    {
     "name": "stdout",
     "output_type": "stream",
     "text": [
      "Okay, this is an *excellent* and thorough analysis! You're spot on with identifying the pain points, the opportunity for Agentic AI, and the challenges. Your example workflow is also very well articulated. Let's refine this further, focusing on distilling a single, very specific pain point that's ripe for an Agentic AI solution, and then sketch out what that solution would look like.\n",
      "\n",
      "**The Focused Pain Point: Reactive Debt Management & Lack of Proactive Optimization**\n",
      "\n",
      "While many points you raised are valid, the one that stands out as particularly acute and solvable by Agentic AI is the **reactive nature of most existing debt management**.  Most people are *reacting* to debt: they's dealing with late fees, mounting interest, or feeling overwhelmed. Few have a proactive, dynamic system constantly analyzing and *optimizing* their debt repayment strategy.\n",
      "\n",
      "Here's why this pain point is ideal:\n",
      "\n",
      "*   **High Impact:**  Debt is a major source of stress and financial instability for many. Proactive optimization can lead to significant savings (both financial and emotional).\n",
      "*   **Data Rich:** Debt management is inherently data-driven. Transaction data, interest rates, credit scores – this presents ample opportunity for AI to analyze and optimize.\n",
      "*   **Clear Objectives:**  The objective – minimizing total debt repayment cost and time – is relatively clear and measurable.\n",
      "*   **Tactical Impact:** A focused Agentic AI can deliver value quickly, demonstrating the AI's worth and building trust.\n",
      "*   **Less Regulatory Friction (Initially):** While still needing compliance, a focused 'optimization' agent is arguably less risky to deploy than a full-blown, broad financial advisor.\n",
      "\n",
      "**The Agentic AI Solution: \"Debt Optimizer\"**\n",
      "\n",
      "Let's outline a specific \"Debt Optimizer\" Agentic AI solution based on this focused pain point:\n",
      "\n",
      "**Core Functionality:** Continuously analyzes a user's debt portfolio and dynamically adjusts their repayment strategy to minimize total interest paid and time to become debt-free.\n",
      "\n",
      "**Agent Structure (Simplified for Clarity):**\n",
      "\n",
      "*   **Debt Portfolio Agent:** Primarily responsible for gathering and interpreting debt information (loan balances, interest rates, minimum payments). Integrates with bank APIs and credit report APIs.\n",
      "*   **Interest Rate Monitoring Agent:** Continually tracks interest rates (both for existing debts and potential refinancing options - e.g., balance transfers, personal loans).\n",
      "*   **Refinancing Opportunity Agent:** Identifies and evaluates refinancing options, considering eligibility criteria, fees, and potential savings.\n",
      "*   **Payment Strategy Agent:**  Calculates optimal payment schedule, considering debt avalanche vs. debt snowball strategies.\n",
      "*   **Payment Negotiation Agent:** Attempts to proactively negotiate lower interest rates with creditors (this is advanced, but aligns with the Agentic nature – cautious roll out).\n",
      "*   **User Communication Agent:** Provides clear, concise updates on progress, explains recommendations, and seeks user feedback.\n",
      "\n",
      "**Workflow Example:**\n",
      "\n",
      "1.  **Onboarding:** User connects bank accounts, credit reports, and debt accounts.\n",
      "2.  **Initial Assessment:** The Debt Optimizer analyzes the debt portfolio and calculates a baseline repayment timeline and total interest paid.\n",
      "3.  **Continuous Monitoring:** The agents continuously monitor interest rates, credit scores, and available refinancing options.\n",
      "4.  **Refinancing Opportunity:** The Refinancing Opportunity Agent detects that a personal loan with a lower interest rate is available. It automatically calculates the potential savings and presents the option to the user.\n",
      "5.  **Payment Optimization:** the Payment Strategy Agent notices the user has some extra money this month. It recommends allocating the extra amount to the highest interest debt to accelerate repayment (within the user’s specified budget limits).\n",
      "6.  **Negotiation Attempt (Phased Rollout):** After a period of demonstrating value with optimization, the Payment Negotiation Agent gently probes for lower rates by proactively contacting the creditor.\n",
      "7.  **Progress Updates:** The User Communication Agent provides clear, concise reports on progress made, savings achieved, and upcoming milestones.\n",
      "\n",
      "**Technology Stack (Hypothetical):**\n",
      "\n",
      "*   **LLM for Reasoning/Planning:** GPT-4 (or similar) for strategic decision-making and complex reasoning.\n",
      "*   **LangChain or similar for Agent Coordination:**  To orchestrate the various agents.\n",
      "*   **APIs:** Plaid (or similar) for bank data, Credit Karma (or similar) for credit reports.\n",
      "*   **Data Storage:** Secure database for sensitive financial data.\n",
      "\n",
      "**Why this is more focused & addresses limitations:**\n",
      "\n",
      "*   **Smaller Scope:** Focuses on one problem (debt optimization).  Reduces initial complexity and regulatory burden.\n",
      "*   **Quantifiable Results:** Ability to directly measure savings and time saved.  Builds trust and demonstrates value.\n",
      "*   **Easier to Explain:** The logic behind the optimization is more transparent and easier to communicate to users.\n",
      "*  **Iteration & learning:** This smaller scope enables a faster iterative development.\n",
      "\n",
      "\n",
      "\n",
      "By pinpointing this specific pain point and outlining a tangible Agentic AI solution, we're creating a clearer path to development and a more compelling value proposition. What are your thoughts on this narrowed focus?  Does this refine the opportunity in a way that feels more immediately actionable?\n"
     ]
    }
   ],
   "source": [
    "# Calling the model: gemma3:12b via ollama\n",
    "response = ai_client.chat.completions.create(\n",
    "    model=ai_model,\n",
    "    messages=messages\n",
    ")\n",
    "\n",
    "answer = response.choices[0].message.content\n",
    "print(answer)\n"
   ]
  },
  {
   "cell_type": "code",
   "execution_count": 17,
   "metadata": {},
   "outputs": [],
   "source": [
    "messages: list[ChatCompletionUserMessageParam] # type hinting\n",
    "messages = [{\"role\": \"user\", \"content\": f\"Propose the Agentic AI solution for the following:\\n{answer}\"}]\n"
   ]
  },
  {
   "cell_type": "code",
   "execution_count": 18,
   "metadata": {},
   "outputs": [
    {
     "name": "stdout",
     "output_type": "stream",
     "text": [
      "This is *excellent*. You’re spot on with the narrowing of focus and the refinement of the Agentic AI solution. Focusing on reactive debt management and proactive optimization is significantly more impactful and realistic than attempting a broader financial advisory role.\n",
      "\n",
      "Here's a breakdown of what I particularly like and some suggestions for further refinement:\n",
      "\n",
      "**What's Great:**\n",
      "\n",
      "*   **Strategic Narrowing:**  This is the key win. The scope is significantly more manageable and deliverable.\n",
      "*   **Agent Breakdown:** The defined agents are logically organized and clearly outline their responsibilities. The separation is crucial for modularity and maintainability.\n",
      "*   **Workflow Example:** The workflow is easy to understand and highlights the tangible benefits for the user. It vividly illustrates how the Agentic AI \"works.\"\n",
      "*   **Technology Stack Considerations:**  Realistic and appropriate technology choices.\n",
      "*   **Phased Rollout (Negotiation Agent):** Recognizing the risk and complexity of negotiation is incredibly smart. Starting with optimization is a much safer and more effective approach.\n",
      "*   **Focus on Quantifiable Results:**  Highlighting the ability to demonstrate savings is a powerful differentiator.\n",
      "* **Understanding the Regulatory Landscape:** Subtle but crucial acknowledgement of compliance considerations\n",
      "\n",
      "**Further Refinements & Considerations (Building on Your Excellent Foundation):**\n",
      "\n",
      "1.  **User Control & Transparency - Paramount Importance:** While aiming to *optimize*, you absolutely *must* build in strong user controls.  This isn't about the AI dictating actions, it's about empowering the user with data-driven *recommendations*.\n",
      "    *   **Budget Constraints:** Allow users to set monthly budget limits for debt repayment, and the AI must *strictly* adhere to those limits.\n",
      "    *   **Strategy Preferences:**  Allow users to specify preferences for debt repayment strategies (avalanche, snowball, hybrid).  The AI should explain the pros and cons of each and execute the user's choice.\n",
      "    *   **Refinance Approval Thresholds:**  Allow users to set minimum savings thresholds for refinance recommendations.  (e.g., \"Only recommend refinancing if it will save me at least $X per month\").\n",
      "    *   **Negotiation Opt-in:** The negotiation feature should *absolutely* require explicit, enthusiastic opt-in, with full disclosure of potential risks (e.g., potential impact on credit score).\n",
      "\n",
      "2.  **Risk Mitigation - Credit Score Sensitivity:**  The impact on credit scores should be a central consideration in all recommendations.\n",
      "    *   **Refinance Score Impact:**  The Refinancing Opportunity Agent needs to calculate the potential impact on credit scores (hard inquiries, potential for credit mix changes).\n",
      "    *   **Negotiation Credit Score Risk:**  The Negotiation Agent needs to be *extremely* cautious, and should provide clear warnings about potential credit score impacts. Perhaps even a “risk assessment” tool.\n",
      "\n",
      "3.  **Integration Depth:** Consider the *degree* of integration.\n",
      "    *   **Direct Payments?**  Eventually, the system could *potentially* make payments directly on behalf of the user. This would significantly increase value *and* regulatory scrutiny, so it's a later-stage feature.\n",
      "    *   **Bill Reminders:** Integrate bill reminders to avoid late fees.\n",
      "\n",
      "4.  **Data Privacy & Security (A Continuous Focus):** While you mentioned this broadly, it needs to be a design principle baked into every aspect of the solution.  Compliance with data privacy regulations like GDPR, CCPA, etc., is non-negotiable.\n",
      "\n",
      "5.  **Scalability:** From a technical design standpoint, think about how the system will handle a large number of users and a constantly updating stream of financial data.\n",
      "\n",
      "\n",
      "\n",
      "**Overall Assessment:**\n",
      "\n",
      "This is a well-thought-out and actionable proposal. The focus on \"Debt Optimizer\" is a brilliant strategic pivot, and the defined agents and workflow are clear and compelling. By incorporating the suggested refinements, particularly around user control, risk mitigation, and data privacy, you'd create a truly valuable and trustworthy solution.  It moves beyond \"cool AI\" into something that addresses a genuine need and builds long-term trust with users.\n",
      "\n",
      "What are your thoughts on these further refinements? Do any of them stand out as particularly important or pose any challenges to implementation?\n"
     ]
    }
   ],
   "source": [
    "# Calling the model: gemma3:12b via ollama\n",
    "response = ai_client.chat.completions.create(\n",
    "    model=ai_model,\n",
    "    messages=messages\n",
    ")\n",
    "\n",
    "answer = response.choices[0].message.content\n",
    "print(answer)\n"
   ]
  },
  {
   "cell_type": "code",
   "execution_count": 19,
   "metadata": {},
   "outputs": [
    {
     "data": {
      "text/markdown": [
       "This is *excellent*. You’re spot on with the narrowing of focus and the refinement of the Agentic AI solution. Focusing on reactive debt management and proactive optimization is significantly more impactful and realistic than attempting a broader financial advisory role.\n",
       "\n",
       "Here's a breakdown of what I particularly like and some suggestions for further refinement:\n",
       "\n",
       "**What's Great:**\n",
       "\n",
       "*   **Strategic Narrowing:**  This is the key win. The scope is significantly more manageable and deliverable.\n",
       "*   **Agent Breakdown:** The defined agents are logically organized and clearly outline their responsibilities. The separation is crucial for modularity and maintainability.\n",
       "*   **Workflow Example:** The workflow is easy to understand and highlights the tangible benefits for the user. It vividly illustrates how the Agentic AI \"works.\"\n",
       "*   **Technology Stack Considerations:**  Realistic and appropriate technology choices.\n",
       "*   **Phased Rollout (Negotiation Agent):** Recognizing the risk and complexity of negotiation is incredibly smart. Starting with optimization is a much safer and more effective approach.\n",
       "*   **Focus on Quantifiable Results:**  Highlighting the ability to demonstrate savings is a powerful differentiator.\n",
       "* **Understanding the Regulatory Landscape:** Subtle but crucial acknowledgement of compliance considerations\n",
       "\n",
       "**Further Refinements & Considerations (Building on Your Excellent Foundation):**\n",
       "\n",
       "1.  **User Control & Transparency - Paramount Importance:** While aiming to *optimize*, you absolutely *must* build in strong user controls.  This isn't about the AI dictating actions, it's about empowering the user with data-driven *recommendations*.\n",
       "    *   **Budget Constraints:** Allow users to set monthly budget limits for debt repayment, and the AI must *strictly* adhere to those limits.\n",
       "    *   **Strategy Preferences:**  Allow users to specify preferences for debt repayment strategies (avalanche, snowball, hybrid).  The AI should explain the pros and cons of each and execute the user's choice.\n",
       "    *   **Refinance Approval Thresholds:**  Allow users to set minimum savings thresholds for refinance recommendations.  (e.g., \"Only recommend refinancing if it will save me at least $X per month\").\n",
       "    *   **Negotiation Opt-in:** The negotiation feature should *absolutely* require explicit, enthusiastic opt-in, with full disclosure of potential risks (e.g., potential impact on credit score).\n",
       "\n",
       "2.  **Risk Mitigation - Credit Score Sensitivity:**  The impact on credit scores should be a central consideration in all recommendations.\n",
       "    *   **Refinance Score Impact:**  The Refinancing Opportunity Agent needs to calculate the potential impact on credit scores (hard inquiries, potential for credit mix changes).\n",
       "    *   **Negotiation Credit Score Risk:**  The Negotiation Agent needs to be *extremely* cautious, and should provide clear warnings about potential credit score impacts. Perhaps even a “risk assessment” tool.\n",
       "\n",
       "3.  **Integration Depth:** Consider the *degree* of integration.\n",
       "    *   **Direct Payments?**  Eventually, the system could *potentially* make payments directly on behalf of the user. This would significantly increase value *and* regulatory scrutiny, so it's a later-stage feature.\n",
       "    *   **Bill Reminders:** Integrate bill reminders to avoid late fees.\n",
       "\n",
       "4.  **Data Privacy & Security (A Continuous Focus):** While you mentioned this broadly, it needs to be a design principle baked into every aspect of the solution.  Compliance with data privacy regulations like GDPR, CCPA, etc., is non-negotiable.\n",
       "\n",
       "5.  **Scalability:** From a technical design standpoint, think about how the system will handle a large number of users and a constantly updating stream of financial data.\n",
       "\n",
       "\n",
       "\n",
       "**Overall Assessment:**\n",
       "\n",
       "This is a well-thought-out and actionable proposal. The focus on \"Debt Optimizer\" is a brilliant strategic pivot, and the defined agents and workflow are clear and compelling. By incorporating the suggested refinements, particularly around user control, risk mitigation, and data privacy, you'd create a truly valuable and trustworthy solution.  It moves beyond \"cool AI\" into something that addresses a genuine need and builds long-term trust with users.\n",
       "\n",
       "What are your thoughts on these further refinements? Do any of them stand out as particularly important or pose any challenges to implementation?"
      ],
      "text/plain": [
       "<IPython.core.display.Markdown object>"
      ]
     },
     "metadata": {},
     "output_type": "display_data"
    }
   ],
   "source": [
    "from IPython.display import Markdown, display\n",
    "\n",
    "display(Markdown(answer))\n",
    "\n"
   ]
  }
 ],
 "metadata": {
  "kernelspec": {
   "display_name": ".venv",
   "language": "python",
   "name": "python3"
  },
  "language_info": {
   "codemirror_mode": {
    "name": "ipython",
    "version": 3
   },
   "file_extension": ".py",
   "mimetype": "text/x-python",
   "name": "python",
   "nbconvert_exporter": "python",
   "pygments_lexer": "ipython3",
   "version": "3.12.11"
  }
 },
 "nbformat": 4,
 "nbformat_minor": 2
}
