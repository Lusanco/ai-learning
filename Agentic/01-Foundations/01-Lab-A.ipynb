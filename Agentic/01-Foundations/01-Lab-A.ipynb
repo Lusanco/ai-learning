{
 "cells": [
  {
   "cell_type": "code",
   "execution_count": 27,
   "metadata": {},
   "outputs": [],
   "source": [
    "# Troubleshooting & Info\n",
    "# 1. It might be possible that to run this notebook in vscode/cursor you need to install dotnet sdk.\n",
    "# 2. Always run the notebook sections in order. Out of order execution might cause errors. **NameErrors**\n",
    "# 3. These notebooks are going to use ollama with local models:\n",
    "#    - llama3.1:8b, deepseek-r1:8b, gemma3:12b.\n",
    "#    - If need more power for the following notebooks, I'll use the google gemini api."
   ]
  },
  {
   "cell_type": "code",
   "execution_count": 28,
   "metadata": {},
   "outputs": [],
   "source": [
    "# Import dotenv\n",
    "from dotenv import load_dotenv\n"
   ]
  },
  {
   "cell_type": "code",
   "execution_count": 29,
   "metadata": {},
   "outputs": [
    {
     "data": {
      "text/plain": [
       "True"
      ]
     },
     "execution_count": 29,
     "metadata": {},
     "output_type": "execute_result"
    }
   ],
   "source": [
    "# Load Environment Variables\n",
    "load_dotenv(override=True)\n"
   ]
  },
  {
   "cell_type": "code",
   "execution_count": 30,
   "metadata": {},
   "outputs": [
    {
     "name": "stdout",
     "output_type": "stream",
     "text": [
      "Model API Key exists and begins with: ollama...\n"
     ]
    }
   ],
   "source": [
    "# Check the env file\n",
    "import os\n",
    "model_api_key = os.getenv('API_KEY')\n",
    "model_api_endpoint = os.getenv('BASE_URL')\n",
    "\n",
    "if model_api_key:\n",
    "    print(f\"Model API Key exists and begins with: {model_api_key[:8]}...\")\n",
    "else:\n",
    "    print(\"Model API Key not set. Please check the .env file.\")\n",
    "    \n"
   ]
  },
  {
   "cell_type": "code",
   "execution_count": 31,
   "metadata": {},
   "outputs": [],
   "source": [
    "# Import OpenAI Client\n",
    "from openai import OpenAI\n"
   ]
  },
  {
   "cell_type": "code",
   "execution_count": 32,
   "metadata": {},
   "outputs": [],
   "source": [
    "# Create instance of the OpenAI class\n",
    "openai = OpenAI(api_key=model_api_key,base_url=model_api_endpoint)\n"
   ]
  },
  {
   "cell_type": "code",
   "execution_count": 33,
   "metadata": {},
   "outputs": [],
   "source": [
    "# Create a list of messages in the OpenAI format\n",
    "messages = [{\"role\": \"user\", \"content\": \"One liner of the best dinosaur to exist and why.\"}]\n"
   ]
  },
  {
   "cell_type": "code",
   "execution_count": 34,
   "metadata": {},
   "outputs": [
    {
     "name": "stdout",
     "output_type": "stream",
     "text": [
      "The Tyrannosaurus Rex stands as the most exceptional dinosaur, unmatched in its ferocity and dominance, with its formidable 6 tons of mass, powerful legs capable of speeds of up to 30 kilometers per hour, and razor-sharp teeth that formed rows of deadly precision, making it the undisputed apex predator of the Cretaceous period.\n"
     ]
    }
   ],
   "source": [
    "# Calling the model: llama3.1:8b via ollama\n",
    "response = openai.chat.completions.create(\n",
    "    model=\"llama3.1:8b\",\n",
    "    messages=messages\n",
    ")\n",
    "\n",
    "print(response.choices[0].message.content)\n"
   ]
  },
  {
   "cell_type": "code",
   "execution_count": 35,
   "metadata": {},
   "outputs": [],
   "source": [
    "# And now - let's ask for a question:\n",
    "question = \"Please propose a hard, challenging question to assess someone's IQ. Respond only with the question.\"\n",
    "messages = [{\"role\": \"user\", \"content\": question}]\n"
   ]
  },
  {
   "cell_type": "code",
   "execution_count": 36,
   "metadata": {},
   "outputs": [
    {
     "name": "stdout",
     "output_type": "stream",
     "text": [
      "A lighthouse rotates counterclockwise at a constant rate, emitting a beam of light. An observer stands 100 meters directly in front of the lighthouse. At one moment, the beam sweeps past the observer. Exactly 6 seconds later, the beam sweeps past the observer again. How far is the lighthouse from the observer?\n"
     ]
    }
   ],
   "source": [
    "# Calling the model: gemma3:12b via ollama\n",
    "response = openai.chat.completions.create(\n",
    "    model=\"gemma3:12b\",\n",
    "    messages=messages\n",
    ")\n",
    "\n",
    "question = response.choices[0].message.content\n",
    "\n",
    "print(question)\n"
   ]
  },
  {
   "cell_type": "code",
   "execution_count": 37,
   "metadata": {},
   "outputs": [],
   "source": [
    "# form a new messages list\n",
    "messages = [{\"role\": \"user\", \"content\": f\"Resolve for this: {question}\"}]\n"
   ]
  },
  {
   "cell_type": "code",
   "execution_count": 38,
   "metadata": {},
   "outputs": [
    {
     "name": "stdout",
     "output_type": "stream",
     "text": [
      "Let $d$ be the distance from the lighthouse to the observer, which is given as $d = 100$ meters.\n",
      "Let $w$ be the angular rate of rotation of the lighthouse in radians per second.\n",
      "Since the beam sweeps past the observer twice in 6 seconds, the total angle covered in 6 seconds is two revolutions, which is $2 \\times 2\\pi = 4\\pi$ radians.\n",
      "The angular speed is given by the total angle swept divided by the time taken. So,\n",
      "$$w = \\frac{4\\pi}{6} = \\frac{2\\pi}{3} \\text{ radians/second}$$\n",
      "The problem states that the distance from the lighthouse to the observer is 100 meters. We are given that the observer stands 100 meters directly in front of the lighthouse. This seems contradictory, as we are asked to find the distance from the lighthouse to the observer.\n",
      "However, the problem says that the observer stands 100 meters directly in front of the lighthouse. If we assume this is an extraneous piece of information, and we are asked to find the distance from the lighthouse to the observer, we are trying to find the value of $d$. The angular rate of the lighthouse is $\\frac{2\\pi}{3}$ radians/second.\n",
      "Since the beam sweeps past the observer twice in 6 seconds, the total angle swept is $4\\pi$ radians. We know that the angle is given by $\\theta = w \\times t$.\n",
      "\n",
      "However, we are given that the distance from the lighthouse to the observer is 100 meters directly in front. Let's assume that the distance from the lighthouse to the observer is $x$.\n",
      "In 6 seconds, the beam sweeps past the observer twice. This means that the lighthouse rotates $2 \\times 2\\pi = 4\\pi$ radians in 6 seconds.\n",
      "So the angular speed of the lighthouse is $\\frac{4\\pi}{6} = \\frac{2\\pi}{3}$ radians/second.\n",
      "However, the fact that the observer stands 100 meters directly in front of the lighthouse doesn't seem to be relevant.\n",
      "The question is asking for the distance from the lighthouse to the observer. The problem states that the observer is 100 meters directly in front of the lighthouse. Therefore, the distance from the lighthouse to the observer is 100 meters.\n",
      "\n",
      "It might be trying to trick us. The fact that the beam sweeps past the observer twice in 6 seconds tells us about the rotational speed of the lighthouse. If the lighthouse rotates counterclockwise at a constant rate, and the observer stands 100 meters directly in front of the lighthouse, then the distance from the lighthouse to the observer is 100 meters.\n",
      "The rotational speed is $w = \\frac{2\\pi}{3}$ rad/sec.\n",
      "Since the observer stands 100 meters directly in front of the lighthouse, the distance from the lighthouse to the observer is 100 meters.\n",
      "\n",
      "Final Answer: The final answer is $\\boxed{100}$\n"
     ]
    }
   ],
   "source": [
    "# Calling the model: gemma3:12b via ollama\n",
    "response = openai.chat.completions.create(\n",
    "    model=\"gemma3:12b\",\n",
    "    messages=messages\n",
    ")\n",
    "\n",
    "answer = response.choices[0].message.content\n",
    "print(answer)\n"
   ]
  },
  {
   "cell_type": "code",
   "execution_count": 39,
   "metadata": {},
   "outputs": [
    {
     "data": {
      "text/markdown": [
       "Let $d$ be the distance from the lighthouse to the observer, which is given as $d = 100$ meters.\n",
       "Let $w$ be the angular rate of rotation of the lighthouse in radians per second.\n",
       "Since the beam sweeps past the observer twice in 6 seconds, the total angle covered in 6 seconds is two revolutions, which is $2 \\times 2\\pi = 4\\pi$ radians.\n",
       "The angular speed is given by the total angle swept divided by the time taken. So,\n",
       "$$w = \\frac{4\\pi}{6} = \\frac{2\\pi}{3} \\text{ radians/second}$$\n",
       "The problem states that the distance from the lighthouse to the observer is 100 meters. We are given that the observer stands 100 meters directly in front of the lighthouse. This seems contradictory, as we are asked to find the distance from the lighthouse to the observer.\n",
       "However, the problem says that the observer stands 100 meters directly in front of the lighthouse. If we assume this is an extraneous piece of information, and we are asked to find the distance from the lighthouse to the observer, we are trying to find the value of $d$. The angular rate of the lighthouse is $\\frac{2\\pi}{3}$ radians/second.\n",
       "Since the beam sweeps past the observer twice in 6 seconds, the total angle swept is $4\\pi$ radians. We know that the angle is given by $\\theta = w \\times t$.\n",
       "\n",
       "However, we are given that the distance from the lighthouse to the observer is 100 meters directly in front. Let's assume that the distance from the lighthouse to the observer is $x$.\n",
       "In 6 seconds, the beam sweeps past the observer twice. This means that the lighthouse rotates $2 \\times 2\\pi = 4\\pi$ radians in 6 seconds.\n",
       "So the angular speed of the lighthouse is $\\frac{4\\pi}{6} = \\frac{2\\pi}{3}$ radians/second.\n",
       "However, the fact that the observer stands 100 meters directly in front of the lighthouse doesn't seem to be relevant.\n",
       "The question is asking for the distance from the lighthouse to the observer. The problem states that the observer is 100 meters directly in front of the lighthouse. Therefore, the distance from the lighthouse to the observer is 100 meters.\n",
       "\n",
       "It might be trying to trick us. The fact that the beam sweeps past the observer twice in 6 seconds tells us about the rotational speed of the lighthouse. If the lighthouse rotates counterclockwise at a constant rate, and the observer stands 100 meters directly in front of the lighthouse, then the distance from the lighthouse to the observer is 100 meters.\n",
       "The rotational speed is $w = \\frac{2\\pi}{3}$ rad/sec.\n",
       "Since the observer stands 100 meters directly in front of the lighthouse, the distance from the lighthouse to the observer is 100 meters.\n",
       "\n",
       "Final Answer: The final answer is $\\boxed{100}$"
      ],
      "text/plain": [
       "<IPython.core.display.Markdown object>"
      ]
     },
     "metadata": {},
     "output_type": "display_data"
    }
   ],
   "source": [
    "from IPython.display import Markdown, display\n",
    "\n",
    "display(Markdown(answer))\n",
    "\n"
   ]
  }
 ],
 "metadata": {
  "kernelspec": {
   "display_name": ".venv",
   "language": "python",
   "name": "python3"
  },
  "language_info": {
   "codemirror_mode": {
    "name": "ipython",
    "version": 3
   },
   "file_extension": ".py",
   "mimetype": "text/x-python",
   "name": "python",
   "nbconvert_exporter": "python",
   "pygments_lexer": "ipython3",
   "version": "3.12.11"
  }
 },
 "nbformat": 4,
 "nbformat_minor": 2
}
