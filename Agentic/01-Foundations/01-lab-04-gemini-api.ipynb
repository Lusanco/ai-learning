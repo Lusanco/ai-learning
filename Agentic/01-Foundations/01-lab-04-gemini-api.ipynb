{
 "cells": [
  {
   "cell_type": "code",
   "execution_count": 1,
   "metadata": {},
   "outputs": [],
   "source": [
    "# Troubleshooting & Info\n",
    "# 1. It might be possible that to run this notebook in vscode/cursor you need to install dotnet sdk.\n",
    "# 2. Always run the notebook sections in order. Out of order execution might cause errors. **NameErrors**\n",
    "# 3. This notebook is going to use the gemini api with the model: gemini-2.0-flash."
   ]
  },
  {
   "cell_type": "code",
   "execution_count": 2,
   "metadata": {},
   "outputs": [],
   "source": [
    "# Imports\n",
    "import os\n",
    "from dotenv import load_dotenv\n",
    "from openai import OpenAI\n",
    "\n",
    "# Type hinting\n",
    "from openai.types.chat import ChatCompletionUserMessageParam\n",
    "\n",
    "# Markdown output display\n",
    "from IPython.display import Markdown, display\n"
   ]
  },
  {
   "cell_type": "code",
   "execution_count": 3,
   "metadata": {},
   "outputs": [],
   "source": [
    "# Load Gemini Environment Variables\n",
    "load_dotenv(dotenv_path=\"../.env.gemini\", override=True)\n",
    "api_key = os.getenv('API_KEY')\n",
    "base_url = os.getenv('BASE_URL')\n",
    "ai_model = os.getenv('AI_MODEL') or \"gemini-2.0-flash\" # Model default\n"
   ]
  },
  {
   "cell_type": "code",
   "execution_count": 4,
   "metadata": {},
   "outputs": [
    {
     "name": "stdout",
     "output_type": "stream",
     "text": [
      "Model API Key exists and begins with: AIza...\n"
     ]
    }
   ],
   "source": [
    "# Check Environment Variables\n",
    "if api_key:\n",
    "    print(f\"Model API Key exists and begins with: {api_key[:4]}...\")\n",
    "else:\n",
    "    print(\"Model API Key not set. Please check the .env file.\")\n"
   ]
  },
  {
   "cell_type": "code",
   "execution_count": 5,
   "metadata": {},
   "outputs": [],
   "source": [
    "# Create Instance OpenAI Class\n",
    "ai_client = OpenAI(api_key=api_key, base_url=base_url)\n"
   ]
  },
  {
   "cell_type": "code",
   "execution_count": 6,
   "metadata": {},
   "outputs": [],
   "source": [
    "# Ask Model w/type hinting line of code included\n",
    "def ask_model(prompt: str) -> str | None:\n",
    "    \n",
    "    # Create a list of messages in the OpenAI format\n",
    "    messages: list[ChatCompletionUserMessageParam] # type hinting\n",
    "    messages = [{\"role\": \"user\", \"content\": prompt}]\n",
    "\n",
    "    response = ai_client.chat.completions.create(\n",
    "        model=ai_model,\n",
    "        messages=messages\n",
    "    )\n",
    "\n",
    "    # Display and return the result\n",
    "    result = response.choices[0].message.content\n",
    "    display(Markdown(result))\n",
    "    return result\n"
   ]
  },
  {
   "cell_type": "code",
   "execution_count": 7,
   "metadata": {},
   "outputs": [
    {
     "data": {
      "text/markdown": [
       "## Promising Business Area for an Agentic AI Application: **Personalized Education & Skill Development**\n",
       "\n",
       "**Why it's promising:**\n",
       "\n",
       "* **High Demand & Growing Market:** The global education and training market is massive and continuously expanding, driven by the need for reskilling, upskilling, and lifelong learning.\n",
       "* **Complex & Individualized Needs:** Learners have vastly different backgrounds, learning styles, goals, and preferred learning environments. Traditional education struggles to cater to this level of personalization.\n",
       "* **Data Rich Environment:**  Learning platforms, assessments, and performance metrics provide ample data for AI to learn and adapt.\n",
       "* **High Impact Potential:** Improved education and skills development leads to better career opportunities, increased productivity, and overall societal advancement.\n",
       "\n",
       "**How Agentic AI can be applied:**\n",
       "\n",
       "An Agentic AI system can act as a **Personalized Learning Agent** that:\n",
       "\n",
       "* **Understands Learner Profile:**  Gathers information from initial assessments, learning history, stated goals, and even personality traits to build a comprehensive learner profile.\n",
       "* **Curates Personalized Learning Paths:** Dynamically selects and sequences learning resources (e.g., videos, articles, exercises, projects) based on the learner's profile, progress, and performance.\n",
       "* **Provides Adaptive Support & Feedback:**  Monitors learner engagement and understanding, providing personalized hints, explanations, and encouragement at the right time.  Can even adapt the difficulty level in real-time.\n",
       "* **Facilitates Collaboration & Mentorship:**  Connects learners with peers and mentors who have similar interests or expertise, fostering a supportive learning community.\n",
       "* **Continuously Learns & Improves:**  The agent learns from the learner's interactions and feedback, refining its recommendations and support strategies over time.\n",
       "* **Automates Administrative Tasks:**  Handles scheduling, progress tracking, and reporting, freeing up educators and trainers to focus on more strategic activities.\n",
       "\n",
       "**Specific Use Cases:**\n",
       "\n",
       "* **Corporate Training:**  Create personalized training programs for employees to acquire new skills and improve performance in specific roles.\n",
       "* **Personalized Tutoring:**  Offer individualized tutoring for students in subjects like math, science, or languages, adapting to their specific needs and learning styles.\n",
       "* **Career Development:**  Help individuals identify career paths that align with their skills and interests, and provide personalized learning plans to acquire the necessary knowledge and abilities.\n",
       "* **Lifelong Learning:**  Support individuals in pursuing their personal learning goals, recommending relevant courses, resources, and communities.\n",
       "\n",
       "**Benefits of Agentic AI in this area:**\n",
       "\n",
       "* **Improved Learning Outcomes:**  Personalized learning leads to higher engagement, better knowledge retention, and faster skill development.\n",
       "* **Increased Efficiency & Scalability:**  Agentic AI can automate many of the tasks associated with traditional education, making it possible to reach more learners with fewer resources.\n",
       "* **Greater Accessibility:**  Personalized learning can be made available to individuals who may not have access to traditional educational opportunities due to geographic location, financial constraints, or other barriers.\n",
       "* **Data-Driven Insights:**  The AI system can collect and analyze data on learner performance to identify areas for improvement and optimize the learning experience.\n",
       "\n",
       "**Challenges:**\n",
       "\n",
       "* **Data Privacy & Security:**  Protecting learner data is paramount. Robust security measures and ethical guidelines are essential.\n",
       "* **Bias Mitigation:**  Ensuring that the AI system does not perpetuate biases in its recommendations and support strategies.\n",
       "* **Trust & Acceptance:**  Building trust with learners and educators is crucial for adoption. Transparency and explainability are key.\n",
       "* **Integration with Existing Systems:**  Seamlessly integrating the AI system with existing learning platforms and infrastructure.\n",
       "\n",
       "**Conclusion:**\n",
       "\n",
       "The personalized education and skill development space is ripe for disruption by Agentic AI. By providing individualized support, curating personalized learning paths, and automating administrative tasks, Agentic AI can unlock a new era of effective, accessible, and engaging learning experiences for individuals and organizations alike.\n"
      ],
      "text/plain": [
       "<IPython.core.display.Markdown object>"
      ]
     },
     "metadata": {},
     "output_type": "display_data"
    }
   ],
   "source": [
    "# Test 01\n",
    "prompt = \"Identify a promising business area for an Agentic AI application.\"\n",
    "result = ask_model(prompt)\n"
   ]
  },
  {
   "cell_type": "code",
   "execution_count": 8,
   "metadata": {},
   "outputs": [
    {
     "data": {
      "text/markdown": [
       "A critical pain point that Agentic AI can resolve in personalized education and skill development is the **inability to consistently and effectively adapt to individual learner's evolving needs and knowledge gaps in real-time, leading to frustration, disengagement, and suboptimal learning outcomes.**\n",
       "\n",
       "Here's why this is critical and how Agentic AI addresses it:\n",
       "\n",
       "*   **Traditional Static Content vs. Dynamic Needs:** Existing online learning platforms often present static content or pre-determined learning paths. While they might offer some level of personalization based on initial assessments, they struggle to adapt to the learner's evolving needs as they progress. Learners can get stuck on concepts, feel overwhelmed by material that's too advanced, or bored by content that's too basic. This mismatch between learner needs and available resources can lead to frustration and disengagement.\n",
       "\n",
       "*   **The \"One-Size-Fits-All\" Problem:** Even with adaptive testing, many platforms don't dynamically adjust the content and support based on granular, moment-to-moment understanding of the learner's progress. The system might recognize a general weakness in a subject area, but not identify the specific underlying knowledge gaps or preferred learning methods that are hindering the learner.\n",
       "\n",
       "*   **Agentic AI's Solution:** An agentic AI acts as a continuous learning companion. It doesn't just deliver content; it *observes* the learner's interactions, *analyzes* their performance on exercises, *listens* to their questions, and *adjusts* the learning path and support strategies in real-time.\n",
       "\n",
       "    *   **Real-time Gap Identification:** If a learner struggles with a specific concept, the agent can immediately identify the underlying knowledge gaps and provide targeted mini-lessons, alternative explanations, or relevant examples.\n",
       "    *   **Personalized Scaffolding:** The agent can dynamically adjust the difficulty level, providing scaffolding as needed to help the learner master challenging concepts.\n",
       "    *   **Adaptive Feedback:** Instead of generic feedback, the agent can offer personalized guidance that addresses the learner's specific mistakes and helps them understand the underlying principles.\n",
       "    *   **Motivation & Engagement:** By continuously adapting to the learner's needs and providing a personalized and supportive learning experience, the agent can keep them engaged and motivated to achieve their learning goals.\n",
       "\n",
       "In essence, Agentic AI moves beyond the limitations of pre-programmed personalization to deliver a truly adaptive and responsive learning experience that can significantly improve learning outcomes and learner satisfaction. It turns a potentially frustrating and inefficient process into a continuously evolving, personalized journey.\n"
      ],
      "text/plain": [
       "<IPython.core.display.Markdown object>"
      ]
     },
     "metadata": {},
     "output_type": "display_data"
    }
   ],
   "source": [
    "# Test 02\n",
    "prompt = f\"What is a critical pain point in that an Agentic AI could resolve for the following?\\n\\n{result}\"\n",
    "result = ask_model(prompt)\n"
   ]
  },
  {
   "cell_type": "code",
   "execution_count": 9,
   "metadata": {},
   "outputs": [
    {
     "data": {
      "text/markdown": [
       "## Agentic AI Solution: \"AdaptEd\" - The Adaptive Education Agent\n",
       "\n",
       "**Core Concept:** AdaptEd is an Agentic AI-driven learning platform that continuously monitors, analyzes, and adapts the learning experience in real-time to address individual learners' evolving needs and knowledge gaps. It functions as a personalized learning companion, proactively identifying areas of struggle, providing targeted support, and optimizing the learning path for maximum engagement and comprehension.\n",
       "\n",
       "**Agentic AI Architecture:**\n",
       "\n",
       "AdaptEd utilizes a multi-agent system with the following core agents:\n",
       "\n",
       "*   **Observation Agent (Observer):**\n",
       "    *   **Responsibility:** Continuously monitors learner interactions with the learning platform. This includes:\n",
       "        *   Keystrokes, mouse movements, and screen interactions.\n",
       "        *   Response times on exercises and quizzes.\n",
       "        *   Navigation patterns through the learning materials.\n",
       "        *   Natural language queries in chat or voice interfaces.\n",
       "    *   **Technology:** Utilizes computer vision, natural language processing (NLP), and interaction tracking technologies.\n",
       "    *   **Output:** Generates a real-time stream of interaction data for the Analyzer Agent.\n",
       "\n",
       "*   **Analysis Agent (Analyzer):**\n",
       "    *   **Responsibility:** Analyzes the data stream from the Observer Agent to identify knowledge gaps, learning styles, and potential roadblocks.\n",
       "    *   **Technology:** Employs machine learning models (e.g., Bayesian Networks, Deep Learning) trained on large datasets of learning interactions and educational content. It includes:\n",
       "        *   **Knowledge Gap Identifier:** Identifies specific concepts or skills where the learner is struggling.\n",
       "        *   **Learning Style Profiler:** Determines the learner's preferred learning methods (e.g., visual, auditory, kinesthetic, collaborative).\n",
       "        *   **Sentiment Analyzer:** Detects learner frustration, confusion, or boredom based on interaction patterns and natural language input.\n",
       "        *   **Progress Tracker:** Monitors overall progress and identifies areas where acceleration or deceleration is needed.\n",
       "    *   **Output:** Generates a detailed learner profile that is constantly updated with insights into their needs and progress.\n",
       "\n",
       "*   **Adaptation Agent (Adapter):**\n",
       "    *   **Responsibility:** Modifies the learning environment and content delivery based on the learner profile generated by the Analyzer Agent.\n",
       "    *   **Technology:** Utilizes a rule-based system and reinforcement learning to dynamically adjust the learning experience.\n",
       "    *   **Actions:**\n",
       "        *   **Content Adjustment:** Modifies the difficulty level of exercises and quizzes.  Presents alternative explanations or examples tailored to the learner's specific needs.\n",
       "        *   **Personalized Scaffolding:** Provides hints, clues, and guided solutions when the learner encounters difficulties.  Gradually reduces the level of support as the learner progresses.\n",
       "        *   **Learning Path Optimization:** Recommends alternative learning resources (e.g., videos, articles, simulations) that align with the learner's preferred learning style.  Adjusts the sequence of learning modules based on the learner's progress and identified knowledge gaps.\n",
       "        *   **Feedback Generation:** Provides personalized feedback that addresses the learner's specific mistakes and helps them understand the underlying principles.\n",
       "        *   **Motivational Strategies:** Offers encouragement, rewards, and personalized goals to keep the learner engaged and motivated.\n",
       "        *   **Human Intervention Trigger:** Alerts a human tutor or mentor when the agent is unable to effectively address the learner's needs.\n",
       "    *   **Output:** A dynamically adjusted learning environment tailored to the individual learner.\n",
       "\n",
       "*   **Curriculum Agent (Curator):**\n",
       "    *   **Responsibility:**  Manages the overall curriculum structure and content library, ensuring it's up-to-date, relevant, and aligned with learning objectives.  It also suggests new content to the Adaptation Agent based on learner performance trends and emerging best practices.\n",
       "    *   **Technology:**  Utilizes knowledge graphs, semantic search, and expert systems to organize and manage the learning content.\n",
       "    *   **Input:**  Learner performance data from the Analyzer and Adaptation agents, curriculum updates, and pedagogical best practices.\n",
       "    *   **Output:**  Updated curriculum structure, content recommendations, and learning path suggestions for the Adaptation Agent.\n",
       "\n",
       "**Workflow:**\n",
       "\n",
       "1.  The **Observer Agent** continuously monitors the learner's interactions.\n",
       "2.  The **Analyzer Agent** analyzes the interaction data and updates the learner profile.\n",
       "3.  The **Adaptation Agent** adjusts the learning environment and content delivery based on the updated learner profile.\n",
       "4.  The **Curriculum Agent** ensures the curriculum remains relevant and effective, providing updates and suggestions to the Adaptation Agent.\n",
       "5.  The learner benefits from a personalized and adaptive learning experience that addresses their individual needs in real-time.\n",
       "\n",
       "**Key Features:**\n",
       "\n",
       "*   **Real-time Adaptive Learning:**  Content and support are continuously adjusted based on the learner's progress and performance.\n",
       "*   **Personalized Feedback:**  Feedback is tailored to the learner's specific mistakes and provides actionable guidance.\n",
       "*   **Intelligent Tutoring:** The agent acts as a virtual tutor, providing support and guidance as needed.\n",
       "*   **Gamified Learning:**  Motivational strategies and rewards are integrated to keep the learner engaged and motivated.\n",
       "*   **Human-in-the-Loop:**  Human tutors or mentors can intervene when the agent is unable to effectively address the learner's needs.\n",
       "*   **Data-Driven Improvement:**  Learner data is continuously analyzed to improve the agent's performance and the overall learning experience.\n",
       "\n",
       "**Benefits:**\n",
       "\n",
       "*   **Improved Learning Outcomes:**  Personalized and adaptive learning leads to better comprehension and retention of knowledge.\n",
       "*   **Increased Engagement:**  Tailored content and motivational strategies keep learners engaged and motivated.\n",
       "*   **Reduced Frustration:**  Real-time support and personalized feedback prevent learners from getting stuck or overwhelmed.\n",
       "*   **Efficient Learning:**  The learning path is optimized for each individual learner, saving time and effort.\n",
       "*   **Scalable Education:**  Agentic AI can provide personalized education to a large number of learners.\n",
       "\n",
       "**Example Scenario:**\n",
       "\n",
       "A learner is struggling with a complex algebra problem.\n",
       "\n",
       "1.  **Observer Agent:** Detects slow response time, multiple incorrect attempts, and hesitant mouse movements.\n",
       "2.  **Analyzer Agent:** Identifies a knowledge gap in solving quadratic equations. Sentiment analysis detects increasing frustration.\n",
       "3.  **Adaptation Agent:**\n",
       "    *   Presents a mini-lesson on quadratic equations with simplified explanations and visual aids.\n",
       "    *   Provides hints and clues to guide the learner through the problem-solving process.\n",
       "    *   Offers encouragement and positive feedback for each successful step.\n",
       "4.  **Curriculum Agent:** Continuously monitors the effectiveness of the provided resources and adjusts the curriculum as needed.\n",
       "\n",
       "**AdaptEd represents a significant advancement in personalized education, leveraging the power of Agentic AI to create a truly adaptive and responsive learning experience that can significantly improve learning outcomes and learner satisfaction.** It moves beyond static content and pre-programmed personalization, transforming education into a dynamic and personalized journey for each individual learner.\n"
      ],
      "text/plain": [
       "<IPython.core.display.Markdown object>"
      ]
     },
     "metadata": {},
     "output_type": "display_data"
    }
   ],
   "source": [
    "# Test 03\n",
    "prompt = f\"Propose an Agentic AI-driven solution for: {result}.\"\n",
    "result = ask_model(prompt)\n"
   ]
  }
 ],
 "metadata": {
  "kernelspec": {
   "display_name": ".venv",
   "language": "python",
   "name": "python3"
  },
  "language_info": {
   "codemirror_mode": {
    "name": "ipython",
    "version": 3
   },
   "file_extension": ".py",
   "mimetype": "text/x-python",
   "name": "python",
   "nbconvert_exporter": "python",
   "pygments_lexer": "ipython3",
   "version": "3.12.11"
  }
 },
 "nbformat": 4,
 "nbformat_minor": 2
}
