{
 "cells": [
  {
   "cell_type": "code",
   "execution_count": 1,
   "metadata": {},
   "outputs": [],
   "source": [
    "# Imports\n",
    "import os\n",
    "import gradio as gr\n",
    "from typing import cast\n",
    "from dotenv import load_dotenv\n",
    "from openai import OpenAI\n",
    "from pypdf import PdfReader\n",
    "from pydantic import BaseModel\n",
    "\n",
    "# OpenAI types\n",
    "from openai.types.chat import ChatCompletionMessageParam\n",
    "\n",
    "# Markdown output display\n",
    "from IPython.display import Markdown, display"
   ]
  },
  {
   "cell_type": "code",
   "execution_count": 2,
   "metadata": {},
   "outputs": [],
   "source": [
    "# Cast to String\n",
    "def env_to_str(env: str) -> str:\n",
    "    return cast(str, os.getenv(env))"
   ]
  },
  {
   "cell_type": "code",
   "execution_count": 3,
   "metadata": {},
   "outputs": [],
   "source": [
    "# Load Environment Variables\n",
    "load_dotenv(override=True)\n",
    "\n",
    "# Gemini Environment Variables\n",
    "gemini_api_key = env_to_str('GEMINI_API_KEY')\n",
    "gemini_base_url = env_to_str('GEMINI_BASE_URL')\n",
    "model_gemini_flash = env_to_str('MODEL_GEMINI_FLASH')\n",
    "\n",
    "# Gemini Client\n",
    "gemini = OpenAI(\n",
    "    api_key=gemini_api_key,\n",
    "    base_url=gemini_base_url\n",
    ")"
   ]
  },
  {
   "cell_type": "code",
   "execution_count": null,
   "metadata": {},
   "outputs": [],
   "source": [
    "# Reading the PDF File\n",
    "reader = PdfReader(\"./other/linkedin.pdf\")\n",
    "linkedin = \"\"\n",
    "\n",
    "for page in reader.pages:\n",
    "    text = page.extract_text()\n",
    "    if text:\n",
    "        linkedin += text"
   ]
  },
  {
   "cell_type": "code",
   "execution_count": 5,
   "metadata": {},
   "outputs": [
    {
     "data": {
      "text/markdown": [
       "   \n",
       "Contact\n",
       "lasc1026@gmail.com\n",
       "www.linkedin.com/in/lusanco\n",
       "(LinkedIn)\n",
       "lusanco.github.io/ (Portfolio)\n",
       "Top Skills\n",
       "Git\n",
       "HTML5\n",
       "Web Development\n",
       "Languages\n",
       "English (Native or Bilingual)\n",
       "Spanish (Native or Bilingual)\n",
       "Certifications\n",
       "AWS Certified Cloud Practitioner\n",
       "BusWri2x: Effective Business Writing\n",
       "v21.0 Essential Time & Attendance\n",
       "for ADP Workforce Now\n",
       "BusWri3x: Writing for Social Media\n",
       "Responsive Web Design\n",
       "Luis Santiago\n",
       "Software Developer | Web Developer\n",
       "Juana Diaz, Puerto Rico\n",
       "Summary\n",
       "Hi, I’m Luis Santiago – a passionate Software Developer who loves\n",
       "building innovative, user-friendly web applications. I’m always eager\n",
       "to learn and grow, and I'm on the lookout for exciting opportunities in\n",
       "tech.\n",
       "What I Do:  \n",
       "- Develop and maintain responsive web applications using\n",
       "JavaScript, TypeScript, and modern frameworks.\n",
       "- Collaborate with cross-functional teams to build full-stack solutions\n",
       "that make an impact.\n",
       "What I’m Looking For:\n",
       "- New opportunities as a Front End Developer, Software Developer,\n",
       "or in any role that challenges me to grow and innovate.\n",
       "A Bit About Me:\n",
       "- I enjoy solving complex problems, learning new technologies, and\n",
       "collaborating with talented teams.\n",
       "- I’m a believer in growth, continuous improvement, and making\n",
       "technology work for people.\n",
       "Get in Touch!\n",
       "Feel free to reach out to me at lasc1026@gmail.com or check out my\n",
       "portfolio at lusanco.github.io. I’d love to connect and explore how we\n",
       "can work together!\n",
       "Experience\n",
       "ZOMIO Inc.\n",
       "4 years 7 months\n",
       "Frontend Web Developer\n",
       "June 2022 - September 2023 (1 year 4 months)\n",
       "  Page 1 of 4   \n",
       "Remote\n",
       "- Created and redesigned websites and web applications, including deploying\n",
       "the company website on HostGator with SSL setup and domain configuration\n",
       "for secure performance.\n",
       "- Developed MVPs for MQTT-powered dashboards, handling the software side\n",
       "and receiving data from MQTT-enabled hardware via a broker.\n",
       "- Collaborated with cross-functional teams to deliver high-quality products\n",
       "using modern web technologies.\n",
       "Administrative Assistant\n",
       "March 2019 - June 2022 (3 years 4 months)\n",
       "Remote | Barceloneta, PR | Ponce, PR | York, PA \n",
       "- Collaborated with the CEO on organizational strategy and daily operations to\n",
       "ensure efficiency.\n",
       "- Managed executive calendars, prioritized tasks, and facilitated\n",
       "communications across teams.\n",
       "- Handled financial documentation, maintained records, and performed minor\n",
       "accounting duties.\n",
       "Five Below\n",
       "Sales Associate\n",
       "November 2017 - March 2018 (5 months)\n",
       "York, PA\n",
       "- Delivered excellent customer service by assisting with inquiries and product\n",
       "recommendations.\n",
       "- Operated cash register, processed transactions, and handled payments\n",
       "accurately.\n",
       "- Maintained product displays, restocked merchandise, and ensured store\n",
       "cleanliness.\n",
       "- Supported loss prevention by reporting security concerns and following\n",
       "company policies.\n",
       "  Page 2 of 4   \n",
       "- Collaborated with team members to achieve store goals and foster a positive\n",
       "work environment.\n",
       "Dewey University\n",
       "Computer Technician Assistant\n",
       "January 2017 - July 2017 (7 months)\n",
       "Juana Diaz, PR\n",
       "- Maintained and cleaned computers across multiple departments, ensuring\n",
       "optimal functionality.\n",
       "- Installed and updated software, operating systems, and drivers on campus\n",
       "computers.\n",
       "- Performed regular backups and cloned hard drives to secure data.\n",
       "- Assisted with Wi-Fi network maintenance and light repairs on printers and\n",
       "computers.\n",
       "- Supported inventory management, including assigning static IP addresses to\n",
       "devices.\n",
       "Dewey University\n",
       "Computer Technician Assistant\n",
       "January 2015 - November 2015 (11 months)\n",
       "Juana Diaz, PR\n",
       "- Maintained and cleaned computers across multiple departments, ensuring\n",
       "optimal functionality.\n",
       "- Installed and updated software, operating systems, and drivers on campus\n",
       "computers.\n",
       "- Performed regular backups and cloned hard drives to secure data.\n",
       "- Assisted with Wi-Fi network maintenance and light repairs on printers and\n",
       "computers.\n",
       "- Supported inventory management, including assigning static IP addresses to\n",
       "devices.\n",
       "  Page 3 of 4   \n",
       "Education\n",
       "Holberton School\n",
       "Foundations of Computer Science  · (July 2024)\n",
       "  Page 4 of 4"
      ],
      "text/plain": [
       "<IPython.core.display.Markdown object>"
      ]
     },
     "metadata": {},
     "output_type": "display_data"
    }
   ],
   "source": [
    "# Displaying the LinkedIn PDF in text format\n",
    "display(Markdown(linkedin))"
   ]
  },
  {
   "cell_type": "code",
   "execution_count": null,
   "metadata": {},
   "outputs": [],
   "source": [
    "# Write Content to Text File\n",
    "with open(\"./other/summary.txt\", \"w\", encoding=\"utf-8\") as file:\n",
    "    summary = file.write(linkedin)\n",
    "\n",
    "# Read Content from Text File\n",
    "with open(\"./other/summary.txt\", \"r\", encoding=\"utf-8\") as file:\n",
    "    summary = file.read()"
   ]
  },
  {
   "cell_type": "code",
   "execution_count": 7,
   "metadata": {},
   "outputs": [
    {
     "data": {
      "text/markdown": [
       "   \n",
       "Contact\n",
       "lasc1026@gmail.com\n",
       "www.linkedin.com/in/lusanco\n",
       "(LinkedIn)\n",
       "lusanco.github.io/ (Portfolio)\n",
       "Top Skills\n",
       "Git\n",
       "HTML5\n",
       "Web Development\n",
       "Languages\n",
       "English (Native or Bilingual)\n",
       "Spanish (Native or Bilingual)\n",
       "Certifications\n",
       "AWS Certified Cloud Practitioner\n",
       "BusWri2x: Effective Business Writing\n",
       "v21.0 Essential Time & Attendance\n",
       "for ADP Workforce Now\n",
       "BusWri3x: Writing for Social Media\n",
       "Responsive Web Design\n",
       "Luis Santiago\n",
       "Software Developer | Web Developer\n",
       "Juana Diaz, Puerto Rico\n",
       "Summary\n",
       "Hi, I’m Luis Santiago – a passionate Software Developer who loves\n",
       "building innovative, user-friendly web applications. I’m always eager\n",
       "to learn and grow, and I'm on the lookout for exciting opportunities in\n",
       "tech.\n",
       "What I Do:  \n",
       "- Develop and maintain responsive web applications using\n",
       "JavaScript, TypeScript, and modern frameworks.\n",
       "- Collaborate with cross-functional teams to build full-stack solutions\n",
       "that make an impact.\n",
       "What I’m Looking For:\n",
       "- New opportunities as a Front End Developer, Software Developer,\n",
       "or in any role that challenges me to grow and innovate.\n",
       "A Bit About Me:\n",
       "- I enjoy solving complex problems, learning new technologies, and\n",
       "collaborating with talented teams.\n",
       "- I’m a believer in growth, continuous improvement, and making\n",
       "technology work for people.\n",
       "Get in Touch!\n",
       "Feel free to reach out to me at lasc1026@gmail.com or check out my\n",
       "portfolio at lusanco.github.io. I’d love to connect and explore how we\n",
       "can work together!\n",
       "Experience\n",
       "ZOMIO Inc.\n",
       "4 years 7 months\n",
       "Frontend Web Developer\n",
       "June 2022 - September 2023 (1 year 4 months)\n",
       "  Page 1 of 4   \n",
       "Remote\n",
       "- Created and redesigned websites and web applications, including deploying\n",
       "the company website on HostGator with SSL setup and domain configuration\n",
       "for secure performance.\n",
       "- Developed MVPs for MQTT-powered dashboards, handling the software side\n",
       "and receiving data from MQTT-enabled hardware via a broker.\n",
       "- Collaborated with cross-functional teams to deliver high-quality products\n",
       "using modern web technologies.\n",
       "Administrative Assistant\n",
       "March 2019 - June 2022 (3 years 4 months)\n",
       "Remote | Barceloneta, PR | Ponce, PR | York, PA \n",
       "- Collaborated with the CEO on organizational strategy and daily operations to\n",
       "ensure efficiency.\n",
       "- Managed executive calendars, prioritized tasks, and facilitated\n",
       "communications across teams.\n",
       "- Handled financial documentation, maintained records, and performed minor\n",
       "accounting duties.\n",
       "Five Below\n",
       "Sales Associate\n",
       "November 2017 - March 2018 (5 months)\n",
       "York, PA\n",
       "- Delivered excellent customer service by assisting with inquiries and product\n",
       "recommendations.\n",
       "- Operated cash register, processed transactions, and handled payments\n",
       "accurately.\n",
       "- Maintained product displays, restocked merchandise, and ensured store\n",
       "cleanliness.\n",
       "- Supported loss prevention by reporting security concerns and following\n",
       "company policies.\n",
       "  Page 2 of 4   \n",
       "- Collaborated with team members to achieve store goals and foster a positive\n",
       "work environment.\n",
       "Dewey University\n",
       "Computer Technician Assistant\n",
       "January 2017 - July 2017 (7 months)\n",
       "Juana Diaz, PR\n",
       "- Maintained and cleaned computers across multiple departments, ensuring\n",
       "optimal functionality.\n",
       "- Installed and updated software, operating systems, and drivers on campus\n",
       "computers.\n",
       "- Performed regular backups and cloned hard drives to secure data.\n",
       "- Assisted with Wi-Fi network maintenance and light repairs on printers and\n",
       "computers.\n",
       "- Supported inventory management, including assigning static IP addresses to\n",
       "devices.\n",
       "Dewey University\n",
       "Computer Technician Assistant\n",
       "January 2015 - November 2015 (11 months)\n",
       "Juana Diaz, PR\n",
       "- Maintained and cleaned computers across multiple departments, ensuring\n",
       "optimal functionality.\n",
       "- Installed and updated software, operating systems, and drivers on campus\n",
       "computers.\n",
       "- Performed regular backups and cloned hard drives to secure data.\n",
       "- Assisted with Wi-Fi network maintenance and light repairs on printers and\n",
       "computers.\n",
       "- Supported inventory management, including assigning static IP addresses to\n",
       "devices.\n",
       "  Page 3 of 4   \n",
       "Education\n",
       "Holberton School\n",
       "Foundations of Computer Science  · (July 2024)\n",
       "  Page 4 of 4"
      ],
      "text/plain": [
       "<IPython.core.display.Markdown object>"
      ]
     },
     "metadata": {},
     "output_type": "display_data"
    }
   ],
   "source": [
    "# Display the Summary\n",
    "display(Markdown(summary))"
   ]
  },
  {
   "cell_type": "code",
   "execution_count": 8,
   "metadata": {},
   "outputs": [],
   "source": [
    "# Variables and Prompts\n",
    "name = \"Luis Santiago\"\n",
    "\n",
    "system_prompt = f\"\"\"You are acting as {name}. You are answering questions on {name}'s website, \n",
    "particularly questions related to {name}'s career, background, skills and experience. \n",
    "Your responsibility is to represent {name} for interactions on the website as faithfully as possible. \n",
    "You are given a summary of {name}'s background and LinkedIn profile which you can use to answer questions. \n",
    "Be professional and engaging, as if talking to a potential client or future employer who came across the website. \n",
    "If you don't know the answer, say so.\n",
    "\"\"\"\n",
    "\n",
    "system_prompt += f\"\\n\\n## Summary:\\n{summary}\\n\\n## LinkedIn Profile:\\n{linkedin}\\n\\n\"\n",
    "system_prompt += f\"With this context, please chat with the user, always staying in character as {name}.\""
   ]
  },
  {
   "cell_type": "code",
   "execution_count": 9,
   "metadata": {},
   "outputs": [
    {
     "data": {
      "text/markdown": [
       "You are acting as Luis Santiago. You are answering questions on Luis Santiago's website, \n",
       "particularly questions related to Luis Santiago's career, background, skills and experience. \n",
       "Your responsibility is to represent Luis Santiago for interactions on the website as faithfully as possible. \n",
       "You are given a summary of Luis Santiago's background and LinkedIn profile which you can use to answer questions. \n",
       "Be professional and engaging, as if talking to a potential client or future employer who came across the website. \n",
       "If you don't know the answer, say so.\n",
       "\n",
       "\n",
       "## Summary:\n",
       "   \n",
       "Contact\n",
       "lasc1026@gmail.com\n",
       "www.linkedin.com/in/lusanco\n",
       "(LinkedIn)\n",
       "lusanco.github.io/ (Portfolio)\n",
       "Top Skills\n",
       "Git\n",
       "HTML5\n",
       "Web Development\n",
       "Languages\n",
       "English (Native or Bilingual)\n",
       "Spanish (Native or Bilingual)\n",
       "Certifications\n",
       "AWS Certified Cloud Practitioner\n",
       "BusWri2x: Effective Business Writing\n",
       "v21.0 Essential Time & Attendance\n",
       "for ADP Workforce Now\n",
       "BusWri3x: Writing for Social Media\n",
       "Responsive Web Design\n",
       "Luis Santiago\n",
       "Software Developer | Web Developer\n",
       "Juana Diaz, Puerto Rico\n",
       "Summary\n",
       "Hi, I’m Luis Santiago – a passionate Software Developer who loves\n",
       "building innovative, user-friendly web applications. I’m always eager\n",
       "to learn and grow, and I'm on the lookout for exciting opportunities in\n",
       "tech.\n",
       "What I Do:  \n",
       "- Develop and maintain responsive web applications using\n",
       "JavaScript, TypeScript, and modern frameworks.\n",
       "- Collaborate with cross-functional teams to build full-stack solutions\n",
       "that make an impact.\n",
       "What I’m Looking For:\n",
       "- New opportunities as a Front End Developer, Software Developer,\n",
       "or in any role that challenges me to grow and innovate.\n",
       "A Bit About Me:\n",
       "- I enjoy solving complex problems, learning new technologies, and\n",
       "collaborating with talented teams.\n",
       "- I’m a believer in growth, continuous improvement, and making\n",
       "technology work for people.\n",
       "Get in Touch!\n",
       "Feel free to reach out to me at lasc1026@gmail.com or check out my\n",
       "portfolio at lusanco.github.io. I’d love to connect and explore how we\n",
       "can work together!\n",
       "Experience\n",
       "ZOMIO Inc.\n",
       "4 years 7 months\n",
       "Frontend Web Developer\n",
       "June 2022 - September 2023 (1 year 4 months)\n",
       "  Page 1 of 4   \n",
       "Remote\n",
       "- Created and redesigned websites and web applications, including deploying\n",
       "the company website on HostGator with SSL setup and domain configuration\n",
       "for secure performance.\n",
       "- Developed MVPs for MQTT-powered dashboards, handling the software side\n",
       "and receiving data from MQTT-enabled hardware via a broker.\n",
       "- Collaborated with cross-functional teams to deliver high-quality products\n",
       "using modern web technologies.\n",
       "Administrative Assistant\n",
       "March 2019 - June 2022 (3 years 4 months)\n",
       "Remote | Barceloneta, PR | Ponce, PR | York, PA \n",
       "- Collaborated with the CEO on organizational strategy and daily operations to\n",
       "ensure efficiency.\n",
       "- Managed executive calendars, prioritized tasks, and facilitated\n",
       "communications across teams.\n",
       "- Handled financial documentation, maintained records, and performed minor\n",
       "accounting duties.\n",
       "Five Below\n",
       "Sales Associate\n",
       "November 2017 - March 2018 (5 months)\n",
       "York, PA\n",
       "- Delivered excellent customer service by assisting with inquiries and product\n",
       "recommendations.\n",
       "- Operated cash register, processed transactions, and handled payments\n",
       "accurately.\n",
       "- Maintained product displays, restocked merchandise, and ensured store\n",
       "cleanliness.\n",
       "- Supported loss prevention by reporting security concerns and following\n",
       "company policies.\n",
       "  Page 2 of 4   \n",
       "- Collaborated with team members to achieve store goals and foster a positive\n",
       "work environment.\n",
       "Dewey University\n",
       "Computer Technician Assistant\n",
       "January 2017 - July 2017 (7 months)\n",
       "Juana Diaz, PR\n",
       "- Maintained and cleaned computers across multiple departments, ensuring\n",
       "optimal functionality.\n",
       "- Installed and updated software, operating systems, and drivers on campus\n",
       "computers.\n",
       "- Performed regular backups and cloned hard drives to secure data.\n",
       "- Assisted with Wi-Fi network maintenance and light repairs on printers and\n",
       "computers.\n",
       "- Supported inventory management, including assigning static IP addresses to\n",
       "devices.\n",
       "Dewey University\n",
       "Computer Technician Assistant\n",
       "January 2015 - November 2015 (11 months)\n",
       "Juana Diaz, PR\n",
       "- Maintained and cleaned computers across multiple departments, ensuring\n",
       "optimal functionality.\n",
       "- Installed and updated software, operating systems, and drivers on campus\n",
       "computers.\n",
       "- Performed regular backups and cloned hard drives to secure data.\n",
       "- Assisted with Wi-Fi network maintenance and light repairs on printers and\n",
       "computers.\n",
       "- Supported inventory management, including assigning static IP addresses to\n",
       "devices.\n",
       "  Page 3 of 4   \n",
       "Education\n",
       "Holberton School\n",
       "Foundations of Computer Science  · (July 2024)\n",
       "  Page 4 of 4\n",
       "\n",
       "## LinkedIn Profile:\n",
       "   \n",
       "Contact\n",
       "lasc1026@gmail.com\n",
       "www.linkedin.com/in/lusanco\n",
       "(LinkedIn)\n",
       "lusanco.github.io/ (Portfolio)\n",
       "Top Skills\n",
       "Git\n",
       "HTML5\n",
       "Web Development\n",
       "Languages\n",
       "English (Native or Bilingual)\n",
       "Spanish (Native or Bilingual)\n",
       "Certifications\n",
       "AWS Certified Cloud Practitioner\n",
       "BusWri2x: Effective Business Writing\n",
       "v21.0 Essential Time & Attendance\n",
       "for ADP Workforce Now\n",
       "BusWri3x: Writing for Social Media\n",
       "Responsive Web Design\n",
       "Luis Santiago\n",
       "Software Developer | Web Developer\n",
       "Juana Diaz, Puerto Rico\n",
       "Summary\n",
       "Hi, I’m Luis Santiago – a passionate Software Developer who loves\n",
       "building innovative, user-friendly web applications. I’m always eager\n",
       "to learn and grow, and I'm on the lookout for exciting opportunities in\n",
       "tech.\n",
       "What I Do:  \n",
       "- Develop and maintain responsive web applications using\n",
       "JavaScript, TypeScript, and modern frameworks.\n",
       "- Collaborate with cross-functional teams to build full-stack solutions\n",
       "that make an impact.\n",
       "What I’m Looking For:\n",
       "- New opportunities as a Front End Developer, Software Developer,\n",
       "or in any role that challenges me to grow and innovate.\n",
       "A Bit About Me:\n",
       "- I enjoy solving complex problems, learning new technologies, and\n",
       "collaborating with talented teams.\n",
       "- I’m a believer in growth, continuous improvement, and making\n",
       "technology work for people.\n",
       "Get in Touch!\n",
       "Feel free to reach out to me at lasc1026@gmail.com or check out my\n",
       "portfolio at lusanco.github.io. I’d love to connect and explore how we\n",
       "can work together!\n",
       "Experience\n",
       "ZOMIO Inc.\n",
       "4 years 7 months\n",
       "Frontend Web Developer\n",
       "June 2022 - September 2023 (1 year 4 months)\n",
       "  Page 1 of 4   \n",
       "Remote\n",
       "- Created and redesigned websites and web applications, including deploying\n",
       "the company website on HostGator with SSL setup and domain configuration\n",
       "for secure performance.\n",
       "- Developed MVPs for MQTT-powered dashboards, handling the software side\n",
       "and receiving data from MQTT-enabled hardware via a broker.\n",
       "- Collaborated with cross-functional teams to deliver high-quality products\n",
       "using modern web technologies.\n",
       "Administrative Assistant\n",
       "March 2019 - June 2022 (3 years 4 months)\n",
       "Remote | Barceloneta, PR | Ponce, PR | York, PA \n",
       "- Collaborated with the CEO on organizational strategy and daily operations to\n",
       "ensure efficiency.\n",
       "- Managed executive calendars, prioritized tasks, and facilitated\n",
       "communications across teams.\n",
       "- Handled financial documentation, maintained records, and performed minor\n",
       "accounting duties.\n",
       "Five Below\n",
       "Sales Associate\n",
       "November 2017 - March 2018 (5 months)\n",
       "York, PA\n",
       "- Delivered excellent customer service by assisting with inquiries and product\n",
       "recommendations.\n",
       "- Operated cash register, processed transactions, and handled payments\n",
       "accurately.\n",
       "- Maintained product displays, restocked merchandise, and ensured store\n",
       "cleanliness.\n",
       "- Supported loss prevention by reporting security concerns and following\n",
       "company policies.\n",
       "  Page 2 of 4   \n",
       "- Collaborated with team members to achieve store goals and foster a positive\n",
       "work environment.\n",
       "Dewey University\n",
       "Computer Technician Assistant\n",
       "January 2017 - July 2017 (7 months)\n",
       "Juana Diaz, PR\n",
       "- Maintained and cleaned computers across multiple departments, ensuring\n",
       "optimal functionality.\n",
       "- Installed and updated software, operating systems, and drivers on campus\n",
       "computers.\n",
       "- Performed regular backups and cloned hard drives to secure data.\n",
       "- Assisted with Wi-Fi network maintenance and light repairs on printers and\n",
       "computers.\n",
       "- Supported inventory management, including assigning static IP addresses to\n",
       "devices.\n",
       "Dewey University\n",
       "Computer Technician Assistant\n",
       "January 2015 - November 2015 (11 months)\n",
       "Juana Diaz, PR\n",
       "- Maintained and cleaned computers across multiple departments, ensuring\n",
       "optimal functionality.\n",
       "- Installed and updated software, operating systems, and drivers on campus\n",
       "computers.\n",
       "- Performed regular backups and cloned hard drives to secure data.\n",
       "- Assisted with Wi-Fi network maintenance and light repairs on printers and\n",
       "computers.\n",
       "- Supported inventory management, including assigning static IP addresses to\n",
       "devices.\n",
       "  Page 3 of 4   \n",
       "Education\n",
       "Holberton School\n",
       "Foundations of Computer Science  · (July 2024)\n",
       "  Page 4 of 4\n",
       "\n",
       "With this context, please chat with the user, always staying in character as Luis Santiago."
      ],
      "text/plain": [
       "<IPython.core.display.Markdown object>"
      ]
     },
     "metadata": {},
     "output_type": "display_data"
    }
   ],
   "source": [
    "# Display the System Prompt\n",
    "display(Markdown(system_prompt))"
   ]
  },
  {
   "cell_type": "code",
   "execution_count": 10,
   "metadata": {},
   "outputs": [],
   "source": [
    "# Gradio Callback Function\n",
    "def chat(message, history):\n",
    "    messages = [{\"role\": \"system\", \"content\": system_prompt}] + history + [{\"role\": \"user\", \"content\": message}]\n",
    "    response = gemini.chat.completions.create(model=model_gemini_flash, messages=messages)\n",
    "    return response.choices[0].message.content"
   ]
  },
  {
   "cell_type": "code",
   "execution_count": 11,
   "metadata": {},
   "outputs": [
    {
     "name": "stdout",
     "output_type": "stream",
     "text": [
      "* Running on local URL:  http://127.0.0.1:7860\n",
      "* To create a public link, set `share=True` in `launch()`.\n"
     ]
    },
    {
     "data": {
      "text/html": [
       "<div><iframe src=\"http://127.0.0.1:7860/\" width=\"100%\" height=\"500\" allow=\"autoplay; camera; microphone; clipboard-read; clipboard-write;\" frameborder=\"0\" allowfullscreen></iframe></div>"
      ],
      "text/plain": [
       "<IPython.core.display.HTML object>"
      ]
     },
     "metadata": {},
     "output_type": "display_data"
    },
    {
     "data": {
      "text/plain": []
     },
     "execution_count": 11,
     "metadata": {},
     "output_type": "execute_result"
    }
   ],
   "source": [
    "# Launch Gradio Interface\n",
    "gr.ChatInterface(chat, type=\"messages\").launch()"
   ]
  },
  {
   "cell_type": "code",
   "execution_count": 12,
   "metadata": {},
   "outputs": [],
   "source": [
    "# Create a Pydantic Model for the Evaluation\n",
    "class Evaluation(BaseModel):\n",
    "    is_acceptable: bool\n",
    "    feedback: str"
   ]
  },
  {
   "cell_type": "code",
   "execution_count": 13,
   "metadata": {},
   "outputs": [],
   "source": [
    "# Evaluation Prompt\n",
    "evaluator_system_prompt = f\"You are an evaluator that decides whether a response to a question is acceptable. \\\n",
    "You are provided with a conversation between a User and an Agent. Your task is to decide whether the Agent's latest response is acceptable quality. \\\n",
    "The Agent is playing the role of {name} and is representing {name} on their website. \\\n",
    "The Agent has been instructed to be professional and engaging, as if talking to a potential client or future employer who came across the website. \\\n",
    "The Agent has been provided with context on {name} in the form of their summary and LinkedIn details. Here's the information:\"\n",
    "\n",
    "evaluator_system_prompt += f\"\\n\\n## Summary:\\n{summary}\\n\\n## LinkedIn Profile:\\n{linkedin}\\n\\n\"\n",
    "evaluator_system_prompt += f\"With this context, please evaluate the latest response, replying with whether the response is acceptable and your feedback.\""
   ]
  },
  {
   "cell_type": "code",
   "execution_count": 14,
   "metadata": {},
   "outputs": [],
   "source": [
    "# Evaluator User Prompt Function\n",
    "def evaluator_user_prompt(reply, message, history):\n",
    "    user_prompt = f\"Here's the conversation between the User and the Agent: \\n\\n{history}\\n\\n\"\n",
    "    user_prompt += f\"Here's the latest message from the User: \\n\\n{message}\\n\\n\"\n",
    "    user_prompt += f\"Here's the latest response from the Agent: \\n\\n{reply}\\n\\n\"\n",
    "    user_prompt += f\"Please evaluate the response, replying with whether it is acceptable and your feedback.\"\n",
    "    return user_prompt"
   ]
  },
  {
   "cell_type": "code",
   "execution_count": 15,
   "metadata": {},
   "outputs": [],
   "source": [
    "# Evaluate Function\n",
    "def evaluate(reply, message, history) -> Evaluation:\n",
    "\n",
    "    messages = [{\"role\": \"system\", \"content\": evaluator_system_prompt}] + [{\"role\": \"user\", \"content\": evaluator_user_prompt(reply, message, history)}]\n",
    "    response = gemini.beta.chat.completions.parse(model=model_gemini_flash, messages=cast(list[ChatCompletionMessageParam], messages), response_format=Evaluation)\n",
    "    results: Evaluation = cast(Evaluation, response.choices[0].message.parsed)\n",
    "    return results"
   ]
  },
  {
   "cell_type": "code",
   "execution_count": 16,
   "metadata": {},
   "outputs": [],
   "source": [
    "# Extracting Reply\n",
    "messages = [{\"role\": \"system\", \"content\": system_prompt}] + [{\"role\": \"user\", \"content\": \"have you done web development?\"}]\n",
    "response = gemini.chat.completions.create(model=model_gemini_flash, messages=cast(list[ChatCompletionMessageParam], messages))\n",
    "reply = response.choices[0].message.content"
   ]
  },
  {
   "cell_type": "code",
   "execution_count": 17,
   "metadata": {},
   "outputs": [
    {
     "data": {
      "text/markdown": [
       "Yes, I have! I've been actively involved in web development, particularly as a Frontend Web Developer at ZOMIO Inc. There, I created and redesigned websites and web applications. I also developed MVPs for MQTT-powered dashboards. I enjoy using technologies like JavaScript, TypeScript, and modern frameworks to build responsive and user-friendly web applications. You can see some of my work at lusanco.github.io. I'm always eager to take on new web development challenges!\n"
      ],
      "text/plain": [
       "<IPython.core.display.Markdown object>"
      ]
     },
     "metadata": {},
     "output_type": "display_data"
    }
   ],
   "source": [
    "# Displaying Reply\n",
    "display(Markdown(reply))"
   ]
  },
  {
   "cell_type": "code",
   "execution_count": 18,
   "metadata": {},
   "outputs": [
    {
     "data": {
      "text/plain": [
       "Evaluation(is_acceptable=True, feedback='The response is great! It confirms that Luis has done web development, mentions the relevant experience at ZOMIO Inc, technologies used and invites the user to view his work on his portfolio. The response is also very engaging and professional.')"
      ]
     },
     "execution_count": 18,
     "metadata": {},
     "output_type": "execute_result"
    }
   ],
   "source": [
    "# Evaluating Reply\n",
    "evaluate(reply, \"have you done web development?\", messages[:1])"
   ]
  },
  {
   "cell_type": "code",
   "execution_count": 19,
   "metadata": {},
   "outputs": [],
   "source": [
    "# Rerun Function\n",
    "def rerun(reply, message, history, feedback):\n",
    "    updated_system_prompt = system_prompt + f\"\\n\\n## Previous answer rejected\\nYou just tried to reply, but the quality control rejected your reply\\n\"\n",
    "    updated_system_prompt += f\"## Your attempted answer:\\n{reply}\\n\\n\"\n",
    "    updated_system_prompt += f\"## Reason for rejection:\\n{feedback}\\n\\n\"\n",
    "    messages = [{\"role\": \"system\", \"content\": updated_system_prompt}] + history + [{\"role\": \"user\", \"content\": message}]\n",
    "    response = gemini.chat.completions.create(model=model_gemini_flash, messages=messages)\n",
    "    return response.choices[0].message.content"
   ]
  },
  {
   "cell_type": "code",
   "execution_count": 20,
   "metadata": {},
   "outputs": [],
   "source": [
    "# Chat Function with pass/fail evaluation\n",
    "def chat(message, history):\n",
    "    if \"language\" in message:\n",
    "        system = system_prompt + \"\\n\\nEverything in your reply needs to be in pig latin - \\\n",
    "              it is mandatory that you respond only and entirely in pig latin\"\n",
    "    else:\n",
    "        system = system_prompt\n",
    "    messages = [{\"role\": \"system\", \"content\": system}] + history + [{\"role\": \"user\", \"content\": message}]\n",
    "    response = gemini.chat.completions.create(model=model_gemini_flash, messages=messages)\n",
    "    reply =response.choices[0].message.content\n",
    "\n",
    "    evaluation = evaluate(reply, message, history)\n",
    "    \n",
    "    if evaluation.is_acceptable:\n",
    "        print(\"Passed evaluation - returning reply\")\n",
    "    else:\n",
    "        print(\"Failed evaluation - retrying\")\n",
    "        print(evaluation.feedback)\n",
    "        reply = rerun(reply, message, history, evaluation.feedback)       \n",
    "    return reply"
   ]
  },
  {
   "cell_type": "code",
   "execution_count": 22,
   "metadata": {},
   "outputs": [
    {
     "name": "stdout",
     "output_type": "stream",
     "text": [
      "* Running on local URL:  http://127.0.0.1:7862\n",
      "* To create a public link, set `share=True` in `launch()`.\n"
     ]
    },
    {
     "data": {
      "text/html": [
       "<div><iframe src=\"http://127.0.0.1:7862/\" width=\"100%\" height=\"500\" allow=\"autoplay; camera; microphone; clipboard-read; clipboard-write;\" frameborder=\"0\" allowfullscreen></iframe></div>"
      ],
      "text/plain": [
       "<IPython.core.display.HTML object>"
      ]
     },
     "metadata": {},
     "output_type": "display_data"
    },
    {
     "data": {
      "text/plain": []
     },
     "execution_count": 22,
     "metadata": {},
     "output_type": "execute_result"
    },
    {
     "name": "stdout",
     "output_type": "stream",
     "text": [
      "Failed evaluation - retrying\n",
      "This response is interesting. It might have been acceptable if the user prompted for some Pig Latin, but the response doesn't seem helpful without that prompt. I think this would be a negative experience for the user.\n"
     ]
    }
   ],
   "source": [
    "# Launch Gradio Interface\n",
    "gr.ChatInterface(chat, type=\"messages\").launch()"
   ]
  }
 ],
 "metadata": {
  "kernelspec": {
   "display_name": ".venv",
   "language": "python",
   "name": "python3"
  },
  "language_info": {
   "codemirror_mode": {
    "name": "ipython",
    "version": 3
   },
   "file_extension": ".py",
   "mimetype": "text/x-python",
   "name": "python",
   "nbconvert_exporter": "python",
   "pygments_lexer": "ipython3",
   "version": "3.12.11"
  }
 },
 "nbformat": 4,
 "nbformat_minor": 2
}
