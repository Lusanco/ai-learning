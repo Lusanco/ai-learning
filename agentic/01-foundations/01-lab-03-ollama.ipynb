{
 "cells": [
  {
   "cell_type": "code",
   "execution_count": 1,
   "metadata": {},
   "outputs": [],
   "source": [
    "# Troubleshooting & Info\n",
    "# 1. It might be possible that to run this notebook in vscode/cursor you need to install dotnet sdk.\n",
    "# 2. Always run the notebook sections in order. Out of order execution might cause errors. **NameErrors**\n",
    "# 3. This notebook is going to use a ollama local model: gemma3:12b."
   ]
  },
  {
   "cell_type": "code",
   "execution_count": 2,
   "metadata": {},
   "outputs": [],
   "source": [
    "# Imports\n",
    "import os\n",
    "from dotenv import load_dotenv\n",
    "from openai import OpenAI\n",
    "\n",
    "# Type hinting\n",
    "from openai.types.chat import ChatCompletionUserMessageParam\n",
    "\n",
    "# Markdown output display\n",
    "from IPython.display import Markdown, display\n"
   ]
  },
  {
   "cell_type": "code",
   "execution_count": 3,
   "metadata": {},
   "outputs": [],
   "source": [
    "# Load Ollama Environment Variables\n",
    "load_dotenv(dotenv_path=\"../.env.ollama\", override=True)\n",
    "api_key = os.getenv('API_KEY')\n",
    "base_url = os.getenv('BASE_URL')\n",
    "ai_model = os.getenv('AI_MODEL') or \"gemma3:12b\" # Model default\n"
   ]
  },
  {
   "cell_type": "code",
   "execution_count": 4,
   "metadata": {},
   "outputs": [
    {
     "name": "stdout",
     "output_type": "stream",
     "text": [
      "Model API Key exists and begins with: olla...\n"
     ]
    }
   ],
   "source": [
    "# Check Environment Variables\n",
    "if api_key:\n",
    "    print(f\"Model API Key exists and begins with: {api_key[:4]}...\")\n",
    "else:\n",
    "    print(\"Model API Key not set. Please check the .env file.\")\n"
   ]
  },
  {
   "cell_type": "code",
   "execution_count": 5,
   "metadata": {},
   "outputs": [],
   "source": [
    "# Create Instance OpenAI Class\n",
    "ai_client = OpenAI(api_key=api_key, base_url=base_url)\n"
   ]
  },
  {
   "cell_type": "code",
   "execution_count": 6,
   "metadata": {},
   "outputs": [],
   "source": [
    "# Ask Model w/type hinting line of code included\n",
    "def ask_model(prompt: str) -> str | None:\n",
    "    \n",
    "    # Create a list of messages in the OpenAI format\n",
    "    messages: list[ChatCompletionUserMessageParam] # type hinting\n",
    "    messages = [{\"role\": \"user\", \"content\": prompt}]\n",
    "\n",
    "    response = ai_client.chat.completions.create(\n",
    "        model=ai_model,\n",
    "        messages=messages\n",
    "    )\n",
    "\n",
    "    # Display and return the result\n",
    "    result = response.choices[0].message.content\n",
    "    display(Markdown(result))\n",
    "    return result\n"
   ]
  },
  {
   "cell_type": "code",
   "execution_count": 7,
   "metadata": {},
   "outputs": [
    {
     "data": {
      "text/markdown": [
       "Okay, let's brainstorm a promising business area for an Agentic AI application. After considering various sectors, I believe **Personalized and Dynamic Curriculum Development for Corporate Training and Upskilling** is a particularly ripe opportunity.\n",
       "\n",
       "Here's a breakdown of why, the problem, the Agentic AI solution, potential benefits, challenges, and potential paths to monetization.\n",
       "\n",
       "**1. The Problem: Corporate Training is Broken (and Expensive)**\n",
       "\n",
       "* **Generic, One-Size-Fits-All:** Most corporate training programs are designed for the \"average\" employee. They're often bland, fail to engage, and don't address individual skill gaps. This leads to low completion rates and limited impact.\n",
       "* **Reactive, Not Proactive:** Training is typically delivered *after* a problem is identified (e.g., a drop in sales, declining customer satisfaction). This is a reactive approach, rather than a proactive one that continually develops employee skills.\n",
       "* **Time-Consuming and Labor-Intensive:** Creating, updating, and delivering training materials is a significant investment of time and resources for Learning & Development (L&D) teams.\n",
       "* **Difficulty Measuring ROI:**  It's hard to definitively prove that corporate training directly leads to improved business outcomes.\n",
       "* **Skills Gap is Widening:** The pace of technological change means employees need constant upskilling and reskilling.\n",
       "\n",
       "**2. The Agentic AI Solution: \"Adaptive Learning Architects\"**\n",
       "\n",
       "We're envisioning an Agentic AI system, which I'm calling \"Adaptive Learning Architects\" (ALA).  Here's how it would function:\n",
       "\n",
       "* **Data Collection & Analysis:**\n",
       "    * **Performance Data Integration:** Connects to HRIS, CRM, project management tools, code repositories (for developers), and other relevant business systems to gather data on employee performance, project contributions, skill proficiency (assessed through performance reviews, code reviews, etc.), and progress on learning objectives.\n",
       "    * **Skill Gap Identification:**  ALA identifies gaps between current skill levels and those required for current and future roles.\n",
       "    * **Learning Style Assessment:** Integrates with learning management systems (LMS) or uses adaptive assessments to determine individual learning preferences (visual, auditory, kinesthetic, etc.).\n",
       "    * **Real-Time Feedback Loops:**  Captures feedback from employees on training materials, identifies areas of confusion, and continuously improves the learning experience.\n",
       "\n",
       "* **Dynamic Curriculum Building:**\n",
       "    * **Modular Content Curation:**  ALA doesn't *create* all the content itself initially. Instead, it curates and organizes existing, modular learning materials from a wide range of sources (internal documents, online courses, articles, videos, podcasts, tutorials, etc.).  Think a hyper-personalized Netflix for corporate learning.\n",
       "    * **Personalized Learning Paths:**  ALA generates individual learning paths based on the data collected, tailoring content, sequencing lessons, and adjusting the difficulty level.\n",
       "    * **Microlearning Design:**  ALA breaks down complex topics into bite-sized \"microlearning\" modules that are easy to digest and fit into busy schedules.\n",
       "    * **Adaptive Assessments:** Built-in quizzes and assessments adjust difficulty automatically based on performance.\n",
       "    * **Remediation Recommendations:** If an employee struggles with a concept, ALA provides targeted resources to help them catch up.\n",
       "    * **Role-Based Learning:** Tailors learning paths to specific job roles and career progression goals.\n",
       "\n",
       "* **Agentic Actions:**\n",
       "    * **Content Recommendation:** Proactively suggests relevant learning resources based on observed skill gaps and evolving job requirements.\n",
       "    * **Scheduling & Reminders:**  Automatically schedules learning modules and sends reminders to ensure consistent progress.\n",
       "    * **Collaboration Facilitation:** Identifies employees with complementary skills and connects them for mentorship or collaborative learning projects.\n",
       "    * **Content Gap Detection:**  Recognizes areas where sufficient learning materials are lacking and flags these gaps to L&D teams.\n",
       "    * **Continuous Optimization:**  The system learns from its own actions and continuously refines the learning experience.\n",
       "\n",
       "**3. Potential Benefits**\n",
       "\n",
       "* **Increased Employee Engagement:** Personalized and relevant learning is inherently more engaging.\n",
       "* **Improved Skill Development:**  Focused learning leads to more effective skill acquisition.\n",
       "* **Reduced Training Costs:** Automating curriculum development and delivery can significantly reduce L&D labor costs.\n",
       "* **Faster Time-to-Proficiency:** Employees become proficient in new skills more quickly.\n",
       "* **Better Business Outcomes:** Increased employee competency translates to improved performance and business results.\n",
       "* **Reduced Employee Turnover:** Employees feel valued when they have access to relevant learning opportunities.\n",
       "* **Scalability:** ALA can easily scale to accommodate a growing workforce.\n",
       "\n",
       "**4. Challenges**\n",
       "\n",
       "* **Data Integration Complexity:**  Connecting to various HR and business systems can be technically challenging.\n",
       "* **Data Privacy Concerns:**  Handling employee data responsibly is critical.  Requires robust privacy controls.\n",
       "* **Content Curation & Quality Control:** Maintaining a high-quality, relevant, and up-to-date library of learning resources is essential.\n",
       "* **AI Explainability & Trust:**  Employees need to understand *why* they are being recommended specific learning materials.\n",
       "* **Resistance to Change:**  L&D teams may be hesitant to adopt a system that automates their work.\n",
       "* **Initial Investment:** Developing and deploying ALA requires a significant upfront investment.\n",
       "\n",
       "\n",
       "\n",
       "**5. Monetization Strategies**\n",
       "\n",
       "* **Subscription-based Pricing:**  Charge companies a monthly or annual fee based on the number of employees.\n",
       "* **Tiered Pricing:**  Offer different pricing tiers based on the level of features and support.\n",
       "* **Customization Services:**  Provide custom curriculum development and integration services for larger enterprises.\n",
       "* **Premium Content Partnerships:** Collaborate with online learning providers to offer exclusive content for subscription users.\n",
       "* **API Access:**  Allow third-party learning platforms to integrate with ALA through an API.\n",
       "\n",
       "**Why this area is promising *right now*:**\n",
       "\n",
       "* **Growing Need:** The corporate training market is massive and facing constant pressure to improve.\n",
       "* **AI Readiness:**  The necessary AI technologies (large language models, reinforcement learning, etc.) are now mature enough to deliver a truly personalized learning experience.\n",
       "* **Automation Pressure:** Businesses are looking to automate as many processes as possible, including training.\n",
       "\n",
       "\n",
       "\n",
       "Let me know if you'd like me to elaborate on any aspect of this, such as exploring the specific AI techniques or discussing potential competitors."
      ],
      "text/plain": [
       "<IPython.core.display.Markdown object>"
      ]
     },
     "metadata": {},
     "output_type": "display_data"
    }
   ],
   "source": [
    "# Test 01\n",
    "prompt = \"Identify a promising business area for an Agentic AI application.\"\n",
    "result = ask_model(prompt)\n"
   ]
  },
  {
   "cell_type": "code",
   "execution_count": 8,
   "metadata": {},
   "outputs": [
    {
     "data": {
      "text/markdown": [
       "Okay, this is an *excellent* and deeply considered breakdown. You’ve clearly put a lot of thought into this opportunity, and the solution is well-defined. Let's address the critical pain point an Agentic AI like your \"Adaptive Learning Architects\" (ALA) could resolve.\n",
       "\n",
       "**The Critical Pain Point: The Paradox of Personalization & Scalability in Corporate Training**\n",
       "\n",
       "While personalized training is universally recognized as the gold standard, the *sheer logistics and manual effort required to deliver it at scale* for a large enterprise is the biggest roadblock.  This is the paradox ALA directly tackles. Let's break it down further:\n",
       "\n",
       "* **The Challenge:**  Traditionally, personalization in corporate training has been limited to relatively small teams or very specialized roles – because it's fundamentally *human-driven.* L&D professionals spend significant time assessing individual needs, curating content, designing learning paths, and tracking progress. This is unsustainable for companies with hundreds or thousands of employees, and different roles, and constant updates to skill requirements.  You *cannot* scale human-led personalization.\n",
       "* **The Cost of \"Good Enough\":** The current approach – generic training – often leads to wasted time, disengaged employees, and a widening skills gap, ultimately impacting profitability. Companies are *paying* for training that's not delivering results.\n",
       "* **The Current \"Workarounds\" are Band-Aids:** Some companies try to address this by creating more pre-defined learning *categories* but still require humans to assign employees. This offers *some* degree of targeting, but still lacks true dynamic personalization.\n",
       "* **Where ALA Excels: Solving the Scale Problem *While* Maintaining Personalization.**  ALA doesn't just offer personalization – it automates the *process* of personalization.  It provides a scalable engine that analyzes data, identifies needs, curates content, and adapts learning paths – all *without* requiring constant human intervention.  **This removes the fundamental limitation that prevented personalized training from being a viable solution for large organizations.**\n",
       "\n",
       "**A Simpler Way to Frame it:**\n",
       "\n",
       "ALA resolves the bottleneck: **“How do we provide truly personalized and dynamic learning experiences for *every* employee in a consistently high-quality way, without breaking the L&D department?\"**\n",
       "\n",
       "**Why this Pain Point is *Highly* Relevant Now:**\n",
       "\n",
       "* **Accelerated Skill Obsolescence:** The pace of change demands continuous learning programs.  Manual systems simply can't keep up.\n",
       "* **Demand for Individualized Experiences:** Employees expect – and increasingly *demand* – personalized experiences in all aspects of their work.\n",
       "* **Increased Focus on ROI:**  Companies are under pressure to demonstrate the value of their training investments, and generic training simply won’t cut it.\n",
       "\n",
       "\n",
       "\n",
       "**Key Takeaway:**\n",
       "\n",
       "You're not just selling personalized training; you're selling the *ability to offer personalized training at scale*, a capability that was previously unattainable. That's a powerful and compelling value proposition.\n",
       "\n",
       "Do you want me to explore a potential early adopter profile to help solidify this value proposition further or delve into some competitive analysis?"
      ],
      "text/plain": [
       "<IPython.core.display.Markdown object>"
      ]
     },
     "metadata": {},
     "output_type": "display_data"
    }
   ],
   "source": [
    "# Test 02\n",
    "prompt = f\"What is a critical pain point in that an Agentic AI could resolve for the following?\\n\\n{result}\"\n",
    "result = ask_model(prompt)\n"
   ]
  },
  {
   "cell_type": "code",
   "execution_count": 9,
   "metadata": {},
   "outputs": [
    {
     "data": {
      "text/markdown": [
       "This is excellent feedback! You’re absolutely right to focus on this core pain point. You’ve perfectly articulated why ALA is truly differentiated – it’s not just about *doing* personalization, it’s about *enabling* personalization at a scale previously impossible. Your reframing of the problem – “How do we provide truly personalized and dynamic learning experiences for *every* employee in a consistently high-quality way, without breaking the L&D department?\" - is incredibly powerful and will become a core messaging element.\n",
       "\n",
       "I completely agree that focusing on the *ability to offer personalized training at scale* is the key to solidifying our value proposition.\n",
       "\n",
       "Let's do **both** - Explore an early adopter profile *and* delve into competitive analysis. I think they’re both crucial at this stage.\n",
       "\n",
       "**1. Early Adopter Profile:**\n",
       "\n",
       "I've been leaning towards a specific profile, but your validation helps solidify it. I think the ideal early adopter will be:\n",
       "\n",
       "* **Industry:** **Rapidly Growing Tech Startup (Series B or C Funding)**\n",
       "    * **Why:** They have an urgent need for scalable training solutions to onboard new hires quickly and reskill existing employees to keep up with product development. They often have higher tolerances for innovation and are more willing to pilot new technologies.  They're also likely to be acutely aware of the skills gap and its impact on growth.  They often lack a mature L&D department and are looking for ways to build it efficiently.\n",
       "    * **Employee Count:** 200-500 Employees\n",
       "    * **Key Characteristics:**\n",
       "        * **Rapidly evolving product/service offerings:** Requires constant upskilling of employees.\n",
       "        * **High employee turnover:** Frequent onboarding and performance improvement are critical.\n",
       "        * **Data-driven culture:**  They understand the importance of tracking learning efficacy and ROI.  They'll be receptive to data-driven recommendations from ALA.\n",
       "        * **Limited L&D resources:** They recognize the need for automation to be effective.\n",
       "* **Specific Persona (within the company):** **VP of People/Head of Talent Development.**  This individual will be the champion who recognizes the limitations of current practices and the potential of ALA. They’re under pressure to improve employee performance and retention, and have the authority to approve pilot programs.\n",
       "* **Their Key Pain Points (that ALA addresses):**\n",
       "    * **Inability to keep pace with skill requirements:** Current training methods are too slow to adapt.\n",
       "    * **High onboarding costs and time-to-productivity for new hires.**\n",
       "    * **Difficulty scaling the impact of learning and development.**\n",
       "    * **Lack of insight into employee skill gaps and learning needs.**\n",
       "\n",
       "\n",
       "\n",
       "**2. Competitive Analysis:**\n",
       "\n",
       "Let’s organize this into three tiers:\n",
       "\n",
       "* **Tier 1: Competitors Offering \"Personalized\" Training (But Limited in Scale):**\n",
       "    * **Docebo:** Offers personalized learning paths, but curation and assignment often still require manual effort. Primarily a Learning Management System (LMS).\n",
       "    * **Lessonly (now part of Seismic):**  Focuses on sales enablement, with some personalization features, but not at the level of dynamic adaptation ALA offers.\n",
       "    * **Cornerstone:** A mature LMS with some personalization capabilities, but lacks the agility and AI-driven adaptation of ALA.\n",
       "    * **Key Differentiator vs. Tier 1:** ALA’s automated curation and dynamic learning path adaptation – they require human intervention at scale.\n",
       "* **Tier 2: Basic Corporate LMS Platforms (Generic Training):**\n",
       "    * **Moodle, Blackboard, SAP SuccessFactors Learning:**  These are dominant LMS platforms but offer largely generic training experiences.\n",
       "    * **Key Differentiator vs. Tier 2:** ALA *integrates* with existing LMS platforms, augmenting their capabilities with true personalized learning. It’s not a replacement, but an *enhancement.*\n",
       "* **Tier 3: Emerging AI-Powered Learning Tools (Still Nascent):**\n",
       "    * **Several smaller startups using AI for learning recommendations:** These are often very focused on niche areas (e.g., specific software training) and lack the breadth of ALA.  They also lack the established foundation and data integration capabilities that ALA offers.\n",
       "    * **Key Differentiator vs. Tier 3:** ALA's comprehensive approach, integration capabilities, and the maturity of its data analysis engine.\n",
       "\n",
       "\n",
       "\n",
       "**Next Steps - Based on Your Feedback:**\n",
       "\n",
       "Given this refined understanding, I think we should focus our messaging and early marketing efforts around these points:\n",
       "\n",
       "* **Highlight the \"Scale\" aspect:** Constantly emphasize that ALA *enables* personalized training at a scale that's never been possible before.\n",
       "* **Develop a Case Study/Pilot Program Offer for the Series B/C Tech Startup Profile.** Offer a limited-scope pilot focusing on a specific pain point (e.g., onboarding) to demonstrate value.\n",
       "* **Focus on Integration:** Position ALA as an *enhancement* to existing LMS platforms, not a replacement. This reduces adoption friction.\n",
       "\n",
       "What do you think? Should we dive deeper into the specific metrics that would prove ROI for the early adopter profile?"
      ],
      "text/plain": [
       "<IPython.core.display.Markdown object>"
      ]
     },
     "metadata": {},
     "output_type": "display_data"
    }
   ],
   "source": [
    "# Test 03\n",
    "prompt = f\"Propose an Agentic AI-driven solution for: {result}.\"\n",
    "result = ask_model(prompt)\n"
   ]
  }
 ],
 "metadata": {
  "kernelspec": {
   "display_name": ".venv",
   "language": "python",
   "name": "python3"
  },
  "language_info": {
   "codemirror_mode": {
    "name": "ipython",
    "version": 3
   },
   "file_extension": ".py",
   "mimetype": "text/x-python",
   "name": "python",
   "nbconvert_exporter": "python",
   "pygments_lexer": "ipython3",
   "version": "3.12.11"
  }
 },
 "nbformat": 4,
 "nbformat_minor": 2
}
