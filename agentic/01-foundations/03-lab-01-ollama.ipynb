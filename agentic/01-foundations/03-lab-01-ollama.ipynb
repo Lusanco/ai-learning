{
 "cells": [
  {
   "cell_type": "code",
   "execution_count": 7,
   "metadata": {},
   "outputs": [],
   "source": [
    "# Imports\n",
    "import os\n",
    "import gradio as gr\n",
    "from typing import cast\n",
    "from dotenv import load_dotenv\n",
    "from openai import OpenAI\n",
    "from pypdf import PdfReader\n",
    "from pydantic import BaseModel\n",
    "\n",
    "# Markdown output display\n",
    "from IPython.display import Markdown, display"
   ]
  },
  {
   "cell_type": "code",
   "execution_count": 8,
   "metadata": {},
   "outputs": [],
   "source": [
    "# Cast to String\n",
    "def env_to_str(env: str) -> str:\n",
    "    return cast(str, os.getenv(env))"
   ]
  },
  {
   "cell_type": "code",
   "execution_count": 9,
   "metadata": {},
   "outputs": [],
   "source": [
    "# Load Environment Variables\n",
    "load_dotenv(override=True)\n",
    "\n",
    "# Ollama Environment Variables\n",
    "ollama_api_key = env_to_str('OLLAMA_API_KEY')\n",
    "ollama_base_url = env_to_str('OLLAMA_BASE_URL')\n",
    "model_mistral_nemo = env_to_str('MODEL_MISTRAL_NEMO')"
   ]
  },
  {
   "cell_type": "code",
   "execution_count": 10,
   "metadata": {},
   "outputs": [],
   "source": [
    "# Reading the PDF File\n",
    "reader = PdfReader(\"./03-lab/linkedin.pdf\")\n",
    "linkedin = \"\"\n",
    "\n",
    "for page in reader.pages:\n",
    "    text = page.extract_text()\n",
    "    if text:\n",
    "        linkedin += text"
   ]
  },
  {
   "cell_type": "code",
   "execution_count": 11,
   "metadata": {},
   "outputs": [
    {
     "data": {
      "text/markdown": [
       "   \n",
       "Contact\n",
       "lasc1026@gmail.com\n",
       "www.linkedin.com/in/lusanco\n",
       "(LinkedIn)\n",
       "lusanco.github.io/ (Portfolio)\n",
       "Top Skills\n",
       "Git\n",
       "HTML5\n",
       "Web Development\n",
       "Languages\n",
       "English (Native or Bilingual)\n",
       "Spanish (Native or Bilingual)\n",
       "Certifications\n",
       "AWS Certified Cloud Practitioner\n",
       "BusWri2x: Effective Business Writing\n",
       "v21.0 Essential Time & Attendance\n",
       "for ADP Workforce Now\n",
       "BusWri3x: Writing for Social Media\n",
       "Responsive Web Design\n",
       "Luis Santiago\n",
       "Software Developer | Web Developer\n",
       "Juana Diaz, Puerto Rico\n",
       "Summary\n",
       "Hi, I’m Luis Santiago – a passionate Software Developer who loves\n",
       "building innovative, user-friendly web applications. I’m always eager\n",
       "to learn and grow, and I'm on the lookout for exciting opportunities in\n",
       "tech.\n",
       "What I Do:  \n",
       "- Develop and maintain responsive web applications using\n",
       "JavaScript, TypeScript, and modern frameworks.\n",
       "- Collaborate with cross-functional teams to build full-stack solutions\n",
       "that make an impact.\n",
       "What I’m Looking For:\n",
       "- New opportunities as a Front End Developer, Software Developer,\n",
       "or in any role that challenges me to grow and innovate.\n",
       "A Bit About Me:\n",
       "- I enjoy solving complex problems, learning new technologies, and\n",
       "collaborating with talented teams.\n",
       "- I’m a believer in growth, continuous improvement, and making\n",
       "technology work for people.\n",
       "Get in Touch!\n",
       "Feel free to reach out to me at lasc1026@gmail.com or check out my\n",
       "portfolio at lusanco.github.io. I’d love to connect and explore how we\n",
       "can work together!\n",
       "Experience\n",
       "ZOMIO Inc.\n",
       "4 years 7 months\n",
       "Frontend Web Developer\n",
       "June 2022 - September 2023 (1 year 4 months)\n",
       "  Page 1 of 4   \n",
       "Remote\n",
       "- Created and redesigned websites and web applications, including deploying\n",
       "the company website on HostGator with SSL setup and domain configuration\n",
       "for secure performance.\n",
       "- Developed MVPs for MQTT-powered dashboards, handling the software side\n",
       "and receiving data from MQTT-enabled hardware via a broker.\n",
       "- Collaborated with cross-functional teams to deliver high-quality products\n",
       "using modern web technologies.\n",
       "Administrative Assistant\n",
       "March 2019 - June 2022 (3 years 4 months)\n",
       "Remote | Barceloneta, PR | Ponce, PR | York, PA \n",
       "- Collaborated with the CEO on organizational strategy and daily operations to\n",
       "ensure efficiency.\n",
       "- Managed executive calendars, prioritized tasks, and facilitated\n",
       "communications across teams.\n",
       "- Handled financial documentation, maintained records, and performed minor\n",
       "accounting duties.\n",
       "Five Below\n",
       "Sales Associate\n",
       "November 2017 - March 2018 (5 months)\n",
       "York, PA\n",
       "- Delivered excellent customer service by assisting with inquiries and product\n",
       "recommendations.\n",
       "- Operated cash register, processed transactions, and handled payments\n",
       "accurately.\n",
       "- Maintained product displays, restocked merchandise, and ensured store\n",
       "cleanliness.\n",
       "- Supported loss prevention by reporting security concerns and following\n",
       "company policies.\n",
       "  Page 2 of 4   \n",
       "- Collaborated with team members to achieve store goals and foster a positive\n",
       "work environment.\n",
       "Dewey University\n",
       "Computer Technician Assistant\n",
       "January 2017 - July 2017 (7 months)\n",
       "Juana Diaz, PR\n",
       "- Maintained and cleaned computers across multiple departments, ensuring\n",
       "optimal functionality.\n",
       "- Installed and updated software, operating systems, and drivers on campus\n",
       "computers.\n",
       "- Performed regular backups and cloned hard drives to secure data.\n",
       "- Assisted with Wi-Fi network maintenance and light repairs on printers and\n",
       "computers.\n",
       "- Supported inventory management, including assigning static IP addresses to\n",
       "devices.\n",
       "Dewey University\n",
       "Computer Technician Assistant\n",
       "January 2015 - November 2015 (11 months)\n",
       "Juana Diaz, PR\n",
       "- Maintained and cleaned computers across multiple departments, ensuring\n",
       "optimal functionality.\n",
       "- Installed and updated software, operating systems, and drivers on campus\n",
       "computers.\n",
       "- Performed regular backups and cloned hard drives to secure data.\n",
       "- Assisted with Wi-Fi network maintenance and light repairs on printers and\n",
       "computers.\n",
       "- Supported inventory management, including assigning static IP addresses to\n",
       "devices.\n",
       "  Page 3 of 4   \n",
       "Education\n",
       "Holberton School\n",
       "Foundations of Computer Science  · (July 2024)\n",
       "  Page 4 of 4"
      ],
      "text/plain": [
       "<IPython.core.display.Markdown object>"
      ]
     },
     "metadata": {},
     "output_type": "display_data"
    }
   ],
   "source": [
    "# Displaying the LinkedIn PDF in text format\n",
    "display(Markdown(linkedin))"
   ]
  },
  {
   "cell_type": "code",
   "execution_count": null,
   "metadata": {},
   "outputs": [],
   "source": []
  }
 ],
 "metadata": {
  "kernelspec": {
   "display_name": ".venv",
   "language": "python",
   "name": "python3"
  },
  "language_info": {
   "codemirror_mode": {
    "name": "ipython",
    "version": 3
   },
   "file_extension": ".py",
   "mimetype": "text/x-python",
   "name": "python",
   "nbconvert_exporter": "python",
   "pygments_lexer": "ipython3",
   "version": "3.12.11"
  }
 },
 "nbformat": 4,
 "nbformat_minor": 2
}
