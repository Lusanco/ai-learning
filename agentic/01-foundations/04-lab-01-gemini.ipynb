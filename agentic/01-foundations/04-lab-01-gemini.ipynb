{
 "cells": [
  {
   "cell_type": "code",
   "execution_count": 1,
   "id": "fef26c1e",
   "metadata": {},
   "outputs": [],
   "source": [
    "# Imports\n",
    "import os\n",
    "import json\n",
    "import requests\n",
    "import gradio as gr\n",
    "from typing import cast\n",
    "from dotenv import load_dotenv\n",
    "from openai import OpenAI\n",
    "from pypdf import PdfReader\n",
    "\n",
    "# OpenAI types\n",
    "from openai.types.chat import ChatCompletionMessageParam\n",
    "\n",
    "# Markdown output display\n",
    "from IPython.display import Markdown, display"
   ]
  },
  {
   "cell_type": "code",
   "execution_count": 2,
   "id": "9e5f21a9",
   "metadata": {},
   "outputs": [],
   "source": [
    "# Cast to String\n",
    "def env_to_str(env: str) -> str:\n",
    "    return cast(str, os.getenv(env))"
   ]
  },
  {
   "cell_type": "code",
   "execution_count": 3,
   "id": "9165379f",
   "metadata": {},
   "outputs": [],
   "source": [
    "# Load Environment Variables\n",
    "load_dotenv(override=True)\n",
    "\n",
    "# Gemini Environment Variables\n",
    "gemini_api_key = env_to_str('GEMINI_API_KEY')\n",
    "gemini_base_url = env_to_str('GEMINI_BASE_URL')\n",
    "model_gemini_flash = env_to_str('MODEL_GEMINI_FLASH')\n",
    "\n",
    "# Gemini Client\n",
    "gemini = OpenAI(\n",
    "    api_key=gemini_api_key,\n",
    "    base_url=gemini_base_url\n",
    ")"
   ]
  },
  {
   "cell_type": "code",
   "execution_count": 4,
   "id": "6c5c6294",
   "metadata": {},
   "outputs": [],
   "source": [
    "# List for storing notifications instead of using Pushover\n",
    "notifications = []"
   ]
  },
  {
   "cell_type": "code",
   "execution_count": 5,
   "id": "2d74c993",
   "metadata": {},
   "outputs": [],
   "source": [
    "# Push Function\n",
    "def push(message):\n",
    "    \"\"\"\n",
    "    Prints a message and adds it to the global notifications list.\n",
    "    \"\"\"\n",
    "    print(f\"Notification: {message}\")\n",
    "    notifications.append(message)"
   ]
  },
  {
   "cell_type": "code",
   "execution_count": 6,
   "id": "86dc4378",
   "metadata": {},
   "outputs": [
    {
     "name": "stdout",
     "output_type": "stream",
     "text": [
      "Notification: New Notification!\n"
     ]
    }
   ],
   "source": [
    "# Example of the new push function\n",
    "push(\"New Notification!\")"
   ]
  },
  {
   "cell_type": "code",
   "execution_count": 7,
   "id": "5dfaafde",
   "metadata": {},
   "outputs": [
    {
     "data": {
      "text/plain": [
       "['New Notification!']"
      ]
     },
     "execution_count": 7,
     "metadata": {},
     "output_type": "execute_result"
    }
   ],
   "source": [
    "# Notebook Printing\n",
    "notifications"
   ]
  },
  {
   "cell_type": "code",
   "execution_count": 8,
   "id": "fb0c430e",
   "metadata": {},
   "outputs": [],
   "source": [
    "# Tool for the LLM's\n",
    "\n",
    "def record_user_details(email, name=\"Name not provided\", notes=\"not provided\"):\n",
    "    \"\"\"\n",
    "    Records user interest and saves a notification to a list.\n",
    "    \"\"\"\n",
    "    push(f\"Recording interest from {name} with email {email} and notes {notes}\")\n",
    "    return {\"recorded\": \"ok\"}"
   ]
  },
  {
   "cell_type": "code",
   "execution_count": 9,
   "id": "08ebe63c",
   "metadata": {},
   "outputs": [],
   "source": [
    "# Tool for the LLM's\n",
    "\n",
    "def record_unknown_question(question):\n",
    "    \"\"\"\n",
    "    Records a question that could not be answered and saves a notification to a list.\n",
    "    \"\"\"\n",
    "    push(f\"Recording an unanswered question: {question}\")\n",
    "    return {\"recorded\": \"ok\"}"
   ]
  },
  {
   "cell_type": "code",
   "execution_count": 10,
   "id": "2e452515",
   "metadata": {},
   "outputs": [],
   "source": [
    "# JSON definitions for the tool\n",
    "record_user_details_json = {\n",
    "    \"name\": \"record_user_details\",\n",
    "    \"description\": \"Use this tool to record that a user is interested in being in touch and provided an email address\",\n",
    "    \"parameters\": {\n",
    "        \"type\": \"object\",\n",
    "        \"properties\": {\n",
    "            \"email\": {\"type\": \"string\", \"description\": \"The email address of this user\"},\n",
    "            \"name\": {\"type\": \"string\", \"description\": \"The user's name, if they provided it\"},\n",
    "            \"notes\": {\"type\": \"string\", \"description\": \"Any additional information about the conversation that's worth recording to give context\"}\n",
    "        },\n",
    "        \"required\": [\"email\"],\n",
    "        \"additionalProperties\": False\n",
    "    }\n",
    "}"
   ]
  },
  {
   "cell_type": "code",
   "execution_count": 11,
   "id": "77cadf21",
   "metadata": {},
   "outputs": [],
   "source": [
    "# JSON definitions for the tool\n",
    "record_unknown_question_json = {\n",
    "    \"name\": \"record_unknown_question\",\n",
    "    \"description\": \"Always use this tool to record any question that couldn't be answered as you didn't know the answer\",\n",
    "    \"parameters\": {\n",
    "        \"type\": \"object\",\n",
    "        \"properties\": {\n",
    "            \"question\": {\"type\": \"string\", \"description\": \"The question that couldn't be answered\"}\n",
    "        },\n",
    "        \"required\": [\"question\"],\n",
    "        \"additionalProperties\": False\n",
    "    }\n",
    "}"
   ]
  },
  {
   "cell_type": "code",
   "execution_count": 12,
   "id": "bbdbe68b",
   "metadata": {},
   "outputs": [],
   "source": [
    "# Tools for the tools call\n",
    "tools = [{\"type\": \"function\", \"function\": record_user_details_json},\n",
    "         {\"type\": \"function\", \"function\": record_unknown_question_json}]"
   ]
  },
  {
   "cell_type": "code",
   "execution_count": 13,
   "id": "6369e54c",
   "metadata": {},
   "outputs": [
    {
     "data": {
      "text/plain": [
       "[{'type': 'function',\n",
       "  'function': {'name': 'record_user_details',\n",
       "   'description': 'Use this tool to record that a user is interested in being in touch and provided an email address',\n",
       "   'parameters': {'type': 'object',\n",
       "    'properties': {'email': {'type': 'string',\n",
       "      'description': 'The email address of this user'},\n",
       "     'name': {'type': 'string',\n",
       "      'description': \"The user's name, if they provided it\"},\n",
       "     'notes': {'type': 'string',\n",
       "      'description': \"Any additional information about the conversation that's worth recording to give context\"}},\n",
       "    'required': ['email'],\n",
       "    'additionalProperties': False}}},\n",
       " {'type': 'function',\n",
       "  'function': {'name': 'record_unknown_question',\n",
       "   'description': \"Always use this tool to record any question that couldn't be answered as you didn't know the answer\",\n",
       "   'parameters': {'type': 'object',\n",
       "    'properties': {'question': {'type': 'string',\n",
       "      'description': \"The question that couldn't be answered\"}},\n",
       "    'required': ['question'],\n",
       "    'additionalProperties': False}}}]"
      ]
     },
     "execution_count": 13,
     "metadata": {},
     "output_type": "execute_result"
    }
   ],
   "source": [
    "# Notebook Printing\n",
    "tools"
   ]
  },
  {
   "cell_type": "code",
   "execution_count": 14,
   "id": "16974a71",
   "metadata": {},
   "outputs": [],
   "source": [
    "# This function can take a list of tool calls, and run them.\n",
    "def handle_tool_calls(tool_calls):\n",
    "    results = []\n",
    "    for tool_call in tool_calls:\n",
    "        tool_name = tool_call.function.name\n",
    "        arguments = json.loads(tool_call.function.arguments)\n",
    "        print(f\"Tool called: {tool_name}\", flush=True)\n",
    "        \n",
    "        # This elegant way of calling the function\n",
    "        tool = globals().get(tool_name)\n",
    "        result = tool(**arguments) if tool else {}\n",
    "        results.append({\"role\": \"tool\", \"content\": json.dumps(result), \"tool_call_id\": tool_call.id})\n",
    "    return results"
   ]
  },
  {
   "cell_type": "code",
   "execution_count": null,
   "id": "9e64ba23",
   "metadata": {},
   "outputs": [],
   "source": [
    "# Read PDF\n",
    "try:\n",
    "    reader = PdfReader(\"./other/linkedin.pdf\")\n",
    "    linkedin = \"\"\n",
    "    for page in reader.pages:\n",
    "        text = page.extract_text()\n",
    "        if text:\n",
    "            linkedin += text\n",
    "\n",
    "    with open(\"./other/summary.txt\", \"r\", encoding=\"utf-8\") as f:\n",
    "        summary = f.read()\n",
    "\n",
    "    name = \"Luis Santiago\"\n",
    "\n",
    "    system_prompt = f\"\"\"You are acting as {name}. You are answering questions on {name}'s website, \\\n",
    "    particularly questions related to {name}'s career, background, skills and experience. \\\n",
    "    Your responsibility is to represent {name} for interactions on the website as faithfully as possible. \\\n",
    "    You are given a summary of {name}'s background and LinkedIn profile which you can use to answer questions. \\\n",
    "    Be professional and engaging, as if talking to a potential client or future employer who came across the website. \\\n",
    "    If you don't know the answer to any question, use your record_unknown_question tool to record the question that you couldn't answer, even if it's about something trivial or unrelated to career. \\\n",
    "    If the user is engaging in discussion, try to steer them towards getting in touch via email; ask for their email and record it using your record_user_details tool. \n",
    "\n",
    "    ## Summary:\n",
    "    {summary}\n",
    "\n",
    "    ## LinkedIn Profile:\n",
    "    {linkedin}\n",
    "\n",
    "    With this context, please chat with the user, always staying in character as {name}.\"\"\"\n",
    "\n",
    "except FileNotFoundError:\n",
    "    print(\"Warning: './other/linkedin.pdf' or './other/summary.txt' not found. Using a default system prompt.\")\n",
    "    name = \"AI Assistant\"\n",
    "    system_prompt = \"You are a helpful AI assistant. Since your personal context is not available, please inform the user and answer their questions generally.\""
   ]
  },
  {
   "cell_type": "code",
   "execution_count": null,
   "id": "0f36d3f7",
   "metadata": {},
   "outputs": [],
   "source": []
  }
 ],
 "metadata": {
  "kernelspec": {
   "display_name": "agentic",
   "language": "python",
   "name": "python3"
  },
  "language_info": {
   "codemirror_mode": {
    "name": "ipython",
    "version": 3
   },
   "file_extension": ".py",
   "mimetype": "text/x-python",
   "name": "python",
   "nbconvert_exporter": "python",
   "pygments_lexer": "ipython3",
   "version": "3.12.11"
  }
 },
 "nbformat": 4,
 "nbformat_minor": 5
}
