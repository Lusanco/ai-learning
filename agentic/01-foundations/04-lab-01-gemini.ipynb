{
 "cells": [
  {
   "cell_type": "code",
   "execution_count": 1,
   "id": "fef26c1e",
   "metadata": {},
   "outputs": [],
   "source": [
    "# Imports\n",
    "import os\n",
    "import json\n",
    "import requests\n",
    "import gradio as gr\n",
    "from typing import cast\n",
    "from dotenv import load_dotenv\n",
    "from openai import OpenAI\n",
    "from pypdf import PdfReader\n",
    "\n",
    "# OpenAI types\n",
    "from openai.types.chat import ChatCompletionMessageParam\n",
    "\n",
    "# Markdown output display\n",
    "from IPython.display import Markdown, display"
   ]
  },
  {
   "cell_type": "code",
   "execution_count": 2,
   "id": "9e5f21a9",
   "metadata": {},
   "outputs": [],
   "source": [
    "# Cast to String\n",
    "def env_to_str(env: str) -> str:\n",
    "    return cast(str, os.getenv(env))"
   ]
  },
  {
   "cell_type": "code",
   "execution_count": 3,
   "id": "9165379f",
   "metadata": {},
   "outputs": [],
   "source": [
    "# Load Environment Variables\n",
    "load_dotenv(override=True)\n",
    "\n",
    "# Gemini Environment Variables\n",
    "gemini_api_key = env_to_str('GEMINI_API_KEY')\n",
    "gemini_base_url = env_to_str('GEMINI_BASE_URL')\n",
    "model_gemini_flash = env_to_str('MODEL_GEMINI_FLASH')\n",
    "\n",
    "# Gemini Client\n",
    "gemini = OpenAI(\n",
    "    api_key=gemini_api_key,\n",
    "    base_url=gemini_base_url\n",
    ")"
   ]
  },
  {
   "cell_type": "code",
   "execution_count": 4,
   "id": "6c5c6294",
   "metadata": {},
   "outputs": [],
   "source": [
    "# List for storing notifications instead of using Pushover\n",
    "notifications = []"
   ]
  },
  {
   "cell_type": "code",
   "execution_count": 6,
   "id": "2d74c993",
   "metadata": {},
   "outputs": [
    {
     "name": "stdout",
     "output_type": "stream",
     "text": [
      "Notification: New Notification!\n",
      "['New Notification!']\n"
     ]
    }
   ],
   "source": [
    "# Push Function\n",
    "def push(message):\n",
    "    \"\"\"\n",
    "    Prints a message and adds it to the global notifications list.\n",
    "    \"\"\"\n",
    "    print(f\"Notification: {message}\")\n",
    "    notifications.append(message)\n",
    "\n",
    "# Example of the new push function\n",
    "push(\"New Notification!\")\n",
    "print(notifications)"
   ]
  }
 ],
 "metadata": {
  "kernelspec": {
   "display_name": "agentic",
   "language": "python",
   "name": "python3"
  },
  "language_info": {
   "codemirror_mode": {
    "name": "ipython",
    "version": 3
   },
   "file_extension": ".py",
   "mimetype": "text/x-python",
   "name": "python",
   "nbconvert_exporter": "python",
   "pygments_lexer": "ipython3",
   "version": "3.12.11"
  }
 },
 "nbformat": 4,
 "nbformat_minor": 5
}
