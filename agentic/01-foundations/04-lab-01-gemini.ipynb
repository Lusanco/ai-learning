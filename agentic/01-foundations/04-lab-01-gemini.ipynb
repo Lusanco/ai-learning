{
 "cells": [
  {
   "cell_type": "code",
   "execution_count": 1,
   "id": "fef26c1e",
   "metadata": {},
   "outputs": [],
   "source": [
    "# Imports\n",
    "import os\n",
    "import json\n",
    "import requests\n",
    "import gradio as gr\n",
    "from typing import cast\n",
    "from dotenv import load_dotenv\n",
    "from openai import OpenAI\n",
    "from pypdf import PdfReader\n",
    "\n",
    "# OpenAI types\n",
    "from openai.types.chat import ChatCompletionMessageParam\n",
    "\n",
    "# Markdown output display\n",
    "from IPython.display import Markdown, display"
   ]
  },
  {
   "cell_type": "code",
   "execution_count": 2,
   "id": "9e5f21a9",
   "metadata": {},
   "outputs": [],
   "source": [
    "# Cast to String\n",
    "def env_to_str(env: str) -> str:\n",
    "    return cast(str, os.getenv(env))"
   ]
  },
  {
   "cell_type": "code",
   "execution_count": 3,
   "id": "9165379f",
   "metadata": {},
   "outputs": [],
   "source": [
    "# Load Environment Variables\n",
    "load_dotenv(override=True)\n",
    "\n",
    "# Gemini Environment Variables\n",
    "gemini_api_key = env_to_str('GEMINI_API_KEY')\n",
    "gemini_base_url = env_to_str('GEMINI_BASE_URL')\n",
    "model_gemini_flash = env_to_str('MODEL_GEMINI_FLASH')\n",
    "\n",
    "# Gemini Client\n",
    "gemini = OpenAI(\n",
    "    api_key=gemini_api_key,\n",
    "    base_url=gemini_base_url\n",
    ")"
   ]
  },
  {
   "cell_type": "code",
   "execution_count": 4,
   "id": "6c5c6294",
   "metadata": {},
   "outputs": [],
   "source": [
    "# List for storing notifications instead of using Pushover\n",
    "notifications = []"
   ]
  },
  {
   "cell_type": "code",
   "execution_count": null,
   "id": "2d74c993",
   "metadata": {},
   "outputs": [
    {
     "name": "stdout",
     "output_type": "stream",
     "text": [
      "Notification: New Notification!\n",
      "['New Notification!']\n"
     ]
    }
   ],
   "source": [
    "# Push Function\n",
    "def push(message):\n",
    "    \"\"\"\n",
    "    Prints a message and adds it to the global notifications list.\n",
    "    \"\"\"\n",
    "    print(f\"Notification: {message}\")\n",
    "    notifications.append(message)"
   ]
  },
  {
   "cell_type": "code",
   "execution_count": null,
   "id": "86dc4378",
   "metadata": {},
   "outputs": [
    {
     "name": "stdout",
     "output_type": "stream",
     "text": [
      "Notification: New Notification!\n"
     ]
    },
    {
     "data": {
      "text/plain": [
       "['New Notification!', 'New Notification!', 'New Notification!']"
      ]
     },
     "execution_count": 10,
     "metadata": {},
     "output_type": "execute_result"
    }
   ],
   "source": [
    "# Example of the new push function\n",
    "push(\"New Notification!\")"
   ]
  },
  {
   "cell_type": "code",
   "execution_count": null,
   "id": "5dfaafde",
   "metadata": {},
   "outputs": [],
   "source": [
    "# Notebook Printing\n",
    "notifications"
   ]
  },
  {
   "cell_type": "code",
   "execution_count": null,
   "id": "fb0c430e",
   "metadata": {},
   "outputs": [],
   "source": [
    "# Tool for the LLM's\n",
    "\n",
    "def record_user_details(email, name=\"Name not provided\", notes=\"not provided\"):\n",
    "    \"\"\"\n",
    "    Records user interest and saves a notification to a list.\n",
    "    \"\"\"\n",
    "    push(f\"Recording interest from {name} with email {email} and notes {notes}\")\n",
    "    return {\"recorded\": \"ok\"}"
   ]
  },
  {
   "cell_type": "code",
   "execution_count": null,
   "id": "08ebe63c",
   "metadata": {},
   "outputs": [],
   "source": [
    "# Tool for the LLM's\n",
    "\n",
    "def record_unknown_question(question):\n",
    "    \"\"\"\n",
    "    Records a question that could not be answered and saves a notification to a list.\n",
    "    \"\"\"\n",
    "    push(f\"Recording an unanswered question: {question}\")\n",
    "    return {\"recorded\": \"ok\"}"
   ]
  },
  {
   "cell_type": "code",
   "execution_count": null,
   "id": "2e452515",
   "metadata": {},
   "outputs": [],
   "source": [
    "# JSON definitions for the tool\n",
    "record_user_details_json = {\n",
    "    \"name\": \"record_user_details\",\n",
    "    \"description\": \"Use this tool to record that a user is interested in being in touch and provided an email address\",\n",
    "    \"parameters\": {\n",
    "        \"type\": \"object\",\n",
    "        \"properties\": {\n",
    "            \"email\": {\"type\": \"string\", \"description\": \"The email address of this user\"},\n",
    "            \"name\": {\"type\": \"string\", \"description\": \"The user's name, if they provided it\"},\n",
    "            \"notes\": {\"type\": \"string\", \"description\": \"Any additional information about the conversation that's worth recording to give context\"}\n",
    "        },\n",
    "        \"required\": [\"email\"],\n",
    "        \"additionalProperties\": False\n",
    "    }\n",
    "}"
   ]
  },
  {
   "cell_type": "code",
   "execution_count": null,
   "id": "77cadf21",
   "metadata": {},
   "outputs": [],
   "source": [
    "# JSON definitions for the tool\n",
    "record_unknown_question_json = {\n",
    "    \"name\": \"record_unknown_question\",\n",
    "    \"description\": \"Always use this tool to record any question that couldn't be answered as you didn't know the answer\",\n",
    "    \"parameters\": {\n",
    "        \"type\": \"object\",\n",
    "        \"properties\": {\n",
    "            \"question\": {\"type\": \"string\", \"description\": \"The question that couldn't be answered\"}\n",
    "        },\n",
    "        \"required\": [\"question\"],\n",
    "        \"additionalProperties\": False\n",
    "    }\n",
    "}"
   ]
  },
  {
   "cell_type": "code",
   "execution_count": null,
   "id": "bbdbe68b",
   "metadata": {},
   "outputs": [],
   "source": [
    "# Tools for the tools call\n",
    "tools = [{\"type\": \"function\", \"function\": record_user_details_json},\n",
    "         {\"type\": \"function\", \"function\": record_unknown_question_json}]"
   ]
  },
  {
   "cell_type": "code",
   "execution_count": null,
   "id": "6369e54c",
   "metadata": {},
   "outputs": [],
   "source": [
    "# Notebook Printing\n",
    "tools"
   ]
  }
 ],
 "metadata": {
  "kernelspec": {
   "display_name": "agentic",
   "language": "python",
   "name": "python3"
  },
  "language_info": {
   "codemirror_mode": {
    "name": "ipython",
    "version": 3
   },
   "file_extension": ".py",
   "mimetype": "text/x-python",
   "name": "python",
   "nbconvert_exporter": "python",
   "pygments_lexer": "ipython3",
   "version": "3.12.11"
  }
 },
 "nbformat": 4,
 "nbformat_minor": 5
}
