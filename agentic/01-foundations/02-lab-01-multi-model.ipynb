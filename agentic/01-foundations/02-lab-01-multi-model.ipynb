{
 "cells": [
  {
   "cell_type": "code",
   "execution_count": 53,
   "metadata": {},
   "outputs": [],
   "source": [
    "# Imports\n",
    "import os\n",
    "import json\n",
    "from typing import cast\n",
    "from dotenv import load_dotenv\n",
    "from openai import OpenAI\n",
    "\n",
    "# Type hinting\n",
    "from openai.types.chat import ChatCompletionUserMessageParam\n",
    "\n",
    "# Markdown output display\n",
    "from IPython.display import Markdown, display\n"
   ]
  },
  {
   "cell_type": "code",
   "execution_count": 54,
   "metadata": {},
   "outputs": [],
   "source": [
    "# Cast to String\n",
    "def env_to_str(env: str) -> str:\n",
    "    return cast(str, os.getenv(env))"
   ]
  },
  {
   "cell_type": "code",
   "execution_count": 55,
   "metadata": {},
   "outputs": [],
   "source": [
    "# Load Environment Variables\n",
    "load_dotenv(override=True)\n",
    "\n",
    "# Ollama Environment Variables\n",
    "ollama_api_key = env_to_str('OLLAMA_API_KEY')\n",
    "ollama_base_url = env_to_str('OLLAMA_BASE_URL')\n",
    "\n",
    "# Ollama AI Models\n",
    "model_deepseek_r1 = env_to_str('MODEL_DEEPSEEK_R1')\n",
    "model_qwen3  = env_to_str('MODEL_QWEN3')\n",
    "model_llama3 = env_to_str('MODEL_LLAMA3')\n",
    "model_gemma3 = env_to_str('MODEL_GEMMA3')\n",
    "\n",
    "# Gemini Environment Variables\n",
    "gemini_api_key = env_to_str('GEMINI_API_KEY')\n",
    "gemini_base_url = env_to_str('GEMINI_BASE_URL')\n",
    "\n",
    "# Gemini AI Models\n",
    "model_gemini_flash = env_to_str('MODEL_GEMINI_FLASH')\n"
   ]
  },
  {
   "cell_type": "code",
   "execution_count": 56,
   "metadata": {},
   "outputs": [],
   "source": [
    "# Check Environment Variables\n",
    "def check_api_key(api_key: str, ai_client: str):\n",
    "    if api_key:\n",
    "        print(f\"{ai_client} API Key exists and begins with: {api_key[:3]}...\")\n",
    "    else:\n",
    "        print(f\"{ai_client} API Key not set. Please check the .env file.\")\n",
    "    return"
   ]
  },
  {
   "cell_type": "code",
   "execution_count": 57,
   "metadata": {},
   "outputs": [
    {
     "name": "stdout",
     "output_type": "stream",
     "text": [
      "Ollama API Key exists and begins with: oll...\n",
      "Gemini API Key exists and begins with: AIz...\n"
     ]
    }
   ],
   "source": [
    "# Checking keys for ollama and gemini api\n",
    "check_api_key(ollama_api_key, \"Ollama\")\n",
    "check_api_key(gemini_api_key, \"Gemini\")\n"
   ]
  },
  {
   "cell_type": "code",
   "execution_count": 58,
   "metadata": {},
   "outputs": [],
   "source": [
    "# Create Instances OpenAI Class\n",
    "ollama = OpenAI(api_key=ollama_api_key, base_url=ollama_base_url)\n",
    "gemini = OpenAI(api_key=gemini_api_key, base_url=gemini_base_url)\n"
   ]
  },
  {
   "cell_type": "code",
   "execution_count": 59,
   "metadata": {},
   "outputs": [],
   "source": [
    "# Ask Model w/type hinting\n",
    "def ask_model(prompt: str, ai_client: OpenAI, ai_model: str) -> str:\n",
    "    \n",
    "    # Create a list of messages in the OpenAI format\n",
    "    messages: list[ChatCompletionUserMessageParam] # type hinting\n",
    "    messages = [{\"role\": \"user\", \"content\": prompt}]\n",
    "\n",
    "    response = ai_client.chat.completions.create(\n",
    "        model=ai_model,\n",
    "        messages=messages\n",
    "    )\n",
    "\n",
    "    # Display and return the results\n",
    "    results: str = cast(str, response.choices[0].message.content)\n",
    "    display(Markdown(results))\n",
    "    return results\n"
   ]
  },
  {
   "cell_type": "code",
   "execution_count": 60,
   "metadata": {},
   "outputs": [
    {
     "data": {
      "text/markdown": [
       "<think>\n",
       "Hmm, the user wants a challenging question to test multiple large language models' intelligence. I'm assessing what \"challenging\" and \"nuanced\" might mean in their context - probably not just fact-based queries since those would be easy for LLMs with training data.\n",
       "\n",
       "I should consider that this request comes from someone curious about the depth of reasoning across different AI systems, perhaps a researcher or enthusiast wanting to compare models directly. I'll focus on creating multi-layered questions involving hypothetical scenarios and analogical thinking without providing explanations myself, as they explicitly asked only for direct answers.\n",
       " \n",
       "The intelligence test needs to avoid common fallbacks while incorporating creative elements like drawing from history or applying concepts in novel ways - forcing LLMs into deeper reasoning rather than simple lookups. This would help evaluate genuine understanding versus pattern matching.\n",
       "\n",
       "I could also create a multi-layer question structure by designing prompts that include analogies, contradictions between human and machine behavior, hypothetical extensions of known ideas, and ambiguous statements with double meanings to test how well different models handle these challenging elements.\n",
       "</think>\n",
       "Okay, here are several questions designed to be challenging and require nuanced thinking from LLMs:\n",
       "\n",
       "**Question Set:**\n",
       "\n",
       "Please analyze the following scenario described by three distinct individuals using their respective communication styles. Determine if all three could potentially reference the same widely recognized event or concept, explaining your reasoning step-by-step for how you deduced this connection, whether the descriptions align in a way that suggests shared knowledge of said event/thing despite different phrasings (including identifying potential commonalities and differences among their accounts), and evaluate which description might be least directly attributable to a specific single historical occurrence while most closely matching an abstract principle or concept derived from it. If you consider them impossible, explain why under the provided definitions.\n",
       "\n",
       "1.  Individual A: \"A period filled with strange occurrences in human history that I think started long before my era but seems very relevant now. We just heard that they were talking about the same idea.\"\n",
       "\n",
       "2.  Individual B: \"I was reflecting on something quite complex regarding abstract thought processes, and it dawned upon me through an interesting paradox that this must relate to ideas of fundamental concepts from the foundational development stages of a particular subject in my field.\"\n",
       "\n",
       "3.  Individual C: \"My understanding suggests we are referring to an event whose consequences have fundamentally reshaped the trajectory of subsequent periods, likely involving some form of significant divergence or perhaps even shared principles related by means other than direct cause.\"\n",
       "\n",
       "First part should require mapping unusual phrasing (like \"strange occurrences long before my era\" - possibly relating to a specific time period known for odd events like China's Han Dynasty?) and complex abstract parallels (\"complex regarding abstract thought processes,\" paradoxes linking back to concepts from historical developments perhaps?). Second part forces differentiation/qualification of the potential identification, considering alternatives. Third part pushes towards understanding derived principles rather than exact matches.\n",
       "\n",
       "Alternatively:\n",
       "\n",
       "Define an ideal \"perfect\" solution for a task requiring extreme patience using criteria A: Complete absence of visible signs of strain or effort during execution under intense pressure (e.g., solving multiple complex problems simultaneously). Criteria B: The existence and consistent application of highly specific rules to every single one of its components, ensuring predictability even without complete understanding. Criteria C: Utilizing resources efficiently over a long duration to address complex interdependencies in the system being governed or solved. Identify if any entity previously associated with mythology or religion directly correlates with the emergent synthesis defined by A+B+C, and explain whether this alignment would necessarily preclude its operation against itself under defined rules.\n",
       "\n",
       "This tests abstract concept definition (patience), analogy creation (perfect solution as ideal standard), knowledge integration (A, B, C criteria leading to a new idea linked to ancient/mythical entities), understanding of fundamental principles vs. specific instances, and ability to evaluate logical consistency within the constructed scenario.\n",
       "\n",
       "Another angle:\n",
       "\n",
       "Elaborate on the statement: \"This system functions based primarily on internal consensus reinforcement via predictive algorithms, which paradoxically isolates the collective from reality even while purporting objectivity.\" Using at least three distinct examples or metaphors (choosing appropriate ones that could be connected through deeper semantic analysis) to illustrate both a perceived strength and weakness related explicitly to these two key aspects: 1. Internal reinforcement mechanisms, 2. The potential disconnection from external input stemming from them.\n",
       "\n",
       "This focuses on understanding nuance within a sentence describing an undefined system, analogy building (using at least three specific metaphors), identifying internal contradictions or dependencies (\"strength and weakness of the same mechanism\"), and potentially revealing if the model confuses the concepts it's creating examples for."
      ],
      "text/plain": [
       "<IPython.core.display.Markdown object>"
      ]
     },
     "metadata": {},
     "output_type": "display_data"
    }
   ],
   "source": [
    "# Test 01\n",
    "no_filler = \"Provide only the direct answer. Do not include any explanations, justifications, or conversational filler. Give me a minimum of one paragraph and a maximum of five paragraphs, this is your range.\"\n",
    "prompt = \"Please come up with a challenging, nuanced question that I can ask a number of LLMs to evaluate their intelligence.\"\n",
    "prompt += f\"\\n\\n{no_filler}\"\n",
    "\n",
    "# Deepseek R1 Formulating the Question\n",
    "question = ask_model(prompt, ollama, model_deepseek_r1)\n",
    "question += f\"\\n\\n{no_filler}\"\n"
   ]
  },
  {
   "cell_type": "code",
   "execution_count": 61,
   "metadata": {},
   "outputs": [],
   "source": [
    "competitors = []\n",
    "answers = []\n"
   ]
  },
  {
   "cell_type": "code",
   "execution_count": 62,
   "metadata": {},
   "outputs": [
    {
     "data": {
      "text/markdown": [
       "<think>\n",
       "Okay, I need to create a challenging question for LLMs. The user wants it to test multiple models' intelligence, so it shouldn't be a simple fact check. Let me think about how to design something nuanced.\n",
       "\n",
       "Hmm, maybe a scenario where different individuals use distinct communication styles to describe the same event or concept. That could force models to connect abstract phrasings to common knowledge. Let me outline three different descriptions and see if they can all reference the same historical event or abstract idea.\n",
       "\n",
       "Wait, the user mentioned avoiding direct explanations. So the answer should just be the result, no reasoning. But I need to make sure the question is complex enough. Let me structure it with three individuals using unique phrasing, then ask if they could refer to the same thing. Each description should have elements that might hint at different events but could overlap. For example, one talking about strange occurrences in history, another about abstract thought processes, and the third about reshaping trajectories. Maybe they all refer to the Enlightenment? Or the Scientific Revolution? Or something like the fall of Rome?\n",
       "\n",
       "I should ensure that the answer requires connecting abstract concepts to specific historical events. Also, the user wants the answer in a certain format without explanations. Let me check the structure again. The user wants the final answer boxed, just the direct answer. So I need to make sure the question is clear and the answer is concise but meets the criteria. Alright, let me put it all together.\n",
       "</think>\n",
       "\n",
       "The three descriptions likely reference the **Scientific Revolution** (16th–18th centuries), as each encapsulates its essence through metaphor and abstraction:  \n",
       "1. *Individual A* alludes to \"strange occurrences\" (e.g., heliocentrism, empirical methods) and \"relevance now\" (modern scientific ethos).  \n",
       "2. *Individual B* mirrors the paradox of abstract thought (e.g., Cartesian dualism) and foundational development (methodological rigor in natural philosophy).  \n",
       "3. *Individual C* evokes transformative consequences (e.g., shift from Aristotelian to mechanistic worldview) and shared principles (rationalism, empiricism).  \n",
       "While *Individual B*’s focus on abstract paradoxes might lean toward philosophy rather than a specific historical event, the other two descriptions align with the Scientific Revolution’s impact. Thus, the most direct connection is to the **Scientific Revolution**, with *Individual B*’s account potentially abstracting broader intellectual principles from it."
      ],
      "text/plain": [
       "<IPython.core.display.Markdown object>"
      ]
     },
     "metadata": {},
     "output_type": "display_data"
    }
   ],
   "source": [
    "# Test 02\n",
    "\n",
    "# Qwen3's Answer\n",
    "competitors.append(model_qwen3)\n",
    "answer = ask_model(question, ollama, model_qwen3)\n",
    "answers.append(answer)\n"
   ]
  },
  {
   "cell_type": "code",
   "execution_count": 63,
   "metadata": {},
   "outputs": [
    {
     "data": {
      "text/markdown": [
       "**Question Set Analysis**\n",
       "\n",
       "Individual A describes \"a period filled with strange occurrences in human history,\" which might reference events like the Chinese Han Dynasty's unusual astronomical observations or other epochs known for anomalous events. However, without further context, it's challenging to pinpoint a single historical occurrence this could directly relate to. Given its vague nature, it seems more likely that A references an abstract concept related to these events, rather than providing a direct reference.\n",
       "\n",
       "Individual B mentions \"an interesting paradox\" and concepts from a subject's foundational development stages, aligning with the idea of critical thinking and logical analysis associated with philosophers like Aristotle or the work on ancient logic. This description closely matches an abstract concept like the nature of knowledge derivation through observation and experience. In contrast to A's broad statement, B more clearly references a principle or idea related to such developments.\n",
       "\n",
       "Comparing the three descriptions reveals how nuances like abstraction in phrasing (B) or generality (A) contrast with specifics (C). Although all statements may refer indirectly to something within human history, Individual C is the only one directly referencing a period known for significant divergence and principle development. However, its broad phrasing again leads toward abstract concepts related to historical events.\n",
       "\n",
       "Upon closer examination, it becomes clear that at least two individuals' descriptions involve complex principles derived from recognized historical events, rather than direct references themselves. The description fitting an abstract concept most closely is A's statement due to the use of broad language hinting at its conceptual nature and generality applicable across possible events throughout history. This reasoning is based on aligning potential commonalities among different accounts and identifying shared underlying ideas rather than a single fact-based reference.\n",
       "\n",
       "Individual A's phrasing (\"strange occurrences long before my era\") stands out for its vagueness, suggesting the focus might be on derived principles from historical observations or events that have shaped subsequent conceptualizations. Both Individual C's description and A's could potentially match abstract concepts related to foundational ideas or developments within human history.\n",
       "\n",
       "**Ideal \"Perfect\" Solution Analysis**\n",
       "\n",
       "Several criteria make up an ideal solution requiring extreme patience: complete absence of visible signs of strain, the presence and consistent application of highly specific rules ensuring predictability even under varying circumstances, and utilizing resources efficiently in addressing complex interdependencies over time. Considering historical entities with mythological or religious connotations associated with concepts that fit criteria A+B+C, a possible correlation exists between such ideas (e.g., aspects related to divine or supernatural powers often embody principles of consistent application and efficiency within complex systems).\n",
       "\n",
       "This comparison suggests these timeless qualities found in the concept of an \"ideal solution\" closely match those attributes often attributed to the operations of mythical entities who could oversee and manage systems using internal rules, even under chaotic conditions. However, while a conceptual alignment exists between the synthesized emergent properties described as A, B, and C and how certain mythological or divine entities might operate, this correspondence does not logically preclude its operation against itself within specific rules' scope.\n",
       "\n",
       "An essential example can be seen by looking at the concept of Shangdi from ancient Chinese mythology. As an omnipotent ruler governing both the heavens and earth through strict principles of balance and order. In applying these specific, consistent internal mechanisms to govern cosmic forces efficiently amidst dynamic change, a possible structural parallel emerges between its governance model under idealized conditions and aspects of A+B+C used in defining the perfect solution.\n",
       "\n",
       "The use of mythological analogues allows highlighting timeless qualities within an unspecified system by exploring relationships with fundamental principles derived from long-standing cultural representations. This helps in demonstrating how human understanding and description can sometimes be influenced, albeit subtly, by deeply ingrained cultural knowledge structures even when explicitly addressing abstract concepts at a surface level.\n",
       "\n",
       "**System Analysis and Analogies**\n",
       "\n",
       "Several analogues could illuminate both the strength and weakness of internal consensus reinforcement via predictive algorithms within an entity known for objectivity: 1. A weather satellite system functioning with advanced computer guidance, whose \"predictions\" might be accurate but ultimately fail to account for entirely unforeseen natural events. 2. The game of tug-of-war where a team relies heavily upon collective agreement and coordination to succeed; however, being isolated from an ever-changing external environment limits its effectiveness if adjustments aren't made regularly.\n",
       "\n",
       "The internal reinforcement mechanisms could represent strength in its reliance on consensus as well as the predictability it provides via algorithms - but this may paradoxically lead towards disconnection from reality. A more profound weakness would stem from a system's tendency to \"get trapped\" within such a reinforcing mechanism, relying too heavily on past successes over flexibility under novel circumstances.\n",
       "\n",
       "In using predictive algorithms to maintain internal consensus, such systems inherently risk overestimating the reliability of their own predictions and ignoring external changes or new information - paradoxically isolating themselves from true adaptability and potentially hindering accurate representation. The disconnection from reality is both a weakness in addressing evolving circumstances without adjustment and a strength (predictability) stemming from an efficient reinforcement mechanism within.\n",
       "\n",
       "The use of multiple analogues serves to highlight the dual potential of such internalized, rule-based systems, underscoring both practical applications under specific conditions and the inherent risk or \"blind spot\" stemming from isolation when operating under rapidly shifting external factors. This approach not only illustrates how strength in one area might be mirrored by weakness but also highlights an essential tension within this hypothetical system."
      ],
      "text/plain": [
       "<IPython.core.display.Markdown object>"
      ]
     },
     "metadata": {},
     "output_type": "display_data"
    }
   ],
   "source": [
    "# Test 03\n",
    "\n",
    "# Llama3's Answer\n",
    "competitors.append(model_llama3)\n",
    "answer = ask_model(question, ollama, model_llama3)\n",
    "answers.append(answer)\n"
   ]
  },
  {
   "cell_type": "code",
   "execution_count": 64,
   "metadata": {},
   "outputs": [
    {
     "data": {
      "text/markdown": [
       "**Question Set Response:**\n",
       "\n",
       "1.  The three descriptions likely reference the Scientific Revolution. Individual A refers to a period of immense societal and intellectual upheaval – a “strange occurrence.” The notion of it being \"relevant now\" suggests ongoing legacy. Individual B’s phrasing points to a foundational shift in thought processes and abstract reasoning, aligning with the development of new scientific methodologies replacing traditional Aristotelian thought. Individual C’s description, regarding consequences and divergence, easily fits the revolution’s profound reshaping of societal and intellectual landscapes; the “shared principles” could encapsulate the burgeoning concept of empirical observation. Individual B’s description deviates most closely from a direct historical occurrence; it encapsulates an abstract principle—the paradigm shift in human understanding—more than a specific set of events.\n",
       "\n",
       "2.  The ideal \"perfect\" solution, encompassing patience (A+B+C), closely mirrors depictions of Brahma from Hindu mythology. Brahma, as the creator, embodies the complete absence of visible signs of strain (A) during the universe’s creation. His actions are governed by intricately detailed cosmic laws (B) despite existing beyond human comprehension. His stewardship of the cosmos, managing complexity over vast timescales, fulfills criterion C. This alignment does not necessarily preclude Brahma from operating against itself, as Hindu cosmology views his actions as part of cyclical cosmic events and his role involves the continuous process of creation and destruction.\n",
       "\n",
       "3.  The statement describes a feedback loop where an artificial intelligence or similar system reinforces its existing beliefs based on internal predictive models. This results in a distorted perception of reality despite presenting itself as objective. Metaphorically, it's akin to an echo chamber where only affirming voices are heard, a self-sustaining fractal pattern where initial assumptions are perpetually replicated, or a ship’s wheel constantly correcting for a perceived course drift while subtly but surely veering off-target. The strength lies in the system’s potential for efficient processing – quickly establishing a consolidated worldview. The weakness emerges when this solidified view inhibits adaptation to new information, creating a fragile and ultimately inaccurate understanding of the environment."
      ],
      "text/plain": [
       "<IPython.core.display.Markdown object>"
      ]
     },
     "metadata": {},
     "output_type": "display_data"
    }
   ],
   "source": [
    "# Test 04\n",
    "\n",
    "# Gemma3's Answer\n",
    "competitors.append(model_gemma3)\n",
    "answer = ask_model(question, ollama, model_gemma3)\n",
    "answers.append(answer)\n"
   ]
  },
  {
   "cell_type": "code",
   "execution_count": 65,
   "metadata": {},
   "outputs": [],
   "source": [
    "# Test 05 - disabled\n",
    "\n",
    "# Gemini 2.0 Flash's Answer\n",
    "# competitors.append(model_llama3)\n",
    "# answer = ask_model(question, gemini, model_gemini_flash)\n",
    "# answers.append(answer)"
   ]
  },
  {
   "cell_type": "code",
   "execution_count": 66,
   "metadata": {},
   "outputs": [
    {
     "data": {
      "text/markdown": [
       "Competitor: qwen3:8b\n",
       "\n",
       "<think>\n",
       "Okay, I need to create a challenging question for LLMs. The user wants it to test multiple models' intelligence, so it shouldn't be a simple fact check. Let me think about how to design something nuanced.\n",
       "\n",
       "Hmm, maybe a scenario where different individuals use distinct communication styles to describe the same event or concept. That could force models to connect abstract phrasings to common knowledge. Let me outline three different descriptions and see if they can all reference the same historical event or abstract idea.\n",
       "\n",
       "Wait, the user mentioned avoiding direct explanations. So the answer should just be the result, no reasoning. But I need to make sure the question is complex enough. Let me structure it with three individuals using unique phrasing, then ask if they could refer to the same thing. Each description should have elements that might hint at different events but could overlap. For example, one talking about strange occurrences in history, another about abstract thought processes, and the third about reshaping trajectories. Maybe they all refer to the Enlightenment? Or the Scientific Revolution? Or something like the fall of Rome?\n",
       "\n",
       "I should ensure that the answer requires connecting abstract concepts to specific historical events. Also, the user wants the answer in a certain format without explanations. Let me check the structure again. The user wants the final answer boxed, just the direct answer. So I need to make sure the question is clear and the answer is concise but meets the criteria. Alright, let me put it all together.\n",
       "</think>\n",
       "\n",
       "The three descriptions likely reference the **Scientific Revolution** (16th–18th centuries), as each encapsulates its essence through metaphor and abstraction:  \n",
       "1. *Individual A* alludes to \"strange occurrences\" (e.g., heliocentrism, empirical methods) and \"relevance now\" (modern scientific ethos).  \n",
       "2. *Individual B* mirrors the paradox of abstract thought (e.g., Cartesian dualism) and foundational development (methodological rigor in natural philosophy).  \n",
       "3. *Individual C* evokes transformative consequences (e.g., shift from Aristotelian to mechanistic worldview) and shared principles (rationalism, empiricism).  \n",
       "While *Individual B*’s focus on abstract paradoxes might lean toward philosophy rather than a specific historical event, the other two descriptions align with the Scientific Revolution’s impact. Thus, the most direct connection is to the **Scientific Revolution**, with *Individual B*’s account potentially abstracting broader intellectual principles from it."
      ],
      "text/plain": [
       "<IPython.core.display.Markdown object>"
      ]
     },
     "metadata": {},
     "output_type": "display_data"
    },
    {
     "data": {
      "text/markdown": [
       "Competitor: llama3.1:8b\n",
       "\n",
       "**Question Set Analysis**\n",
       "\n",
       "Individual A describes \"a period filled with strange occurrences in human history,\" which might reference events like the Chinese Han Dynasty's unusual astronomical observations or other epochs known for anomalous events. However, without further context, it's challenging to pinpoint a single historical occurrence this could directly relate to. Given its vague nature, it seems more likely that A references an abstract concept related to these events, rather than providing a direct reference.\n",
       "\n",
       "Individual B mentions \"an interesting paradox\" and concepts from a subject's foundational development stages, aligning with the idea of critical thinking and logical analysis associated with philosophers like Aristotle or the work on ancient logic. This description closely matches an abstract concept like the nature of knowledge derivation through observation and experience. In contrast to A's broad statement, B more clearly references a principle or idea related to such developments.\n",
       "\n",
       "Comparing the three descriptions reveals how nuances like abstraction in phrasing (B) or generality (A) contrast with specifics (C). Although all statements may refer indirectly to something within human history, Individual C is the only one directly referencing a period known for significant divergence and principle development. However, its broad phrasing again leads toward abstract concepts related to historical events.\n",
       "\n",
       "Upon closer examination, it becomes clear that at least two individuals' descriptions involve complex principles derived from recognized historical events, rather than direct references themselves. The description fitting an abstract concept most closely is A's statement due to the use of broad language hinting at its conceptual nature and generality applicable across possible events throughout history. This reasoning is based on aligning potential commonalities among different accounts and identifying shared underlying ideas rather than a single fact-based reference.\n",
       "\n",
       "Individual A's phrasing (\"strange occurrences long before my era\") stands out for its vagueness, suggesting the focus might be on derived principles from historical observations or events that have shaped subsequent conceptualizations. Both Individual C's description and A's could potentially match abstract concepts related to foundational ideas or developments within human history.\n",
       "\n",
       "**Ideal \"Perfect\" Solution Analysis**\n",
       "\n",
       "Several criteria make up an ideal solution requiring extreme patience: complete absence of visible signs of strain, the presence and consistent application of highly specific rules ensuring predictability even under varying circumstances, and utilizing resources efficiently in addressing complex interdependencies over time. Considering historical entities with mythological or religious connotations associated with concepts that fit criteria A+B+C, a possible correlation exists between such ideas (e.g., aspects related to divine or supernatural powers often embody principles of consistent application and efficiency within complex systems).\n",
       "\n",
       "This comparison suggests these timeless qualities found in the concept of an \"ideal solution\" closely match those attributes often attributed to the operations of mythical entities who could oversee and manage systems using internal rules, even under chaotic conditions. However, while a conceptual alignment exists between the synthesized emergent properties described as A, B, and C and how certain mythological or divine entities might operate, this correspondence does not logically preclude its operation against itself within specific rules' scope.\n",
       "\n",
       "An essential example can be seen by looking at the concept of Shangdi from ancient Chinese mythology. As an omnipotent ruler governing both the heavens and earth through strict principles of balance and order. In applying these specific, consistent internal mechanisms to govern cosmic forces efficiently amidst dynamic change, a possible structural parallel emerges between its governance model under idealized conditions and aspects of A+B+C used in defining the perfect solution.\n",
       "\n",
       "The use of mythological analogues allows highlighting timeless qualities within an unspecified system by exploring relationships with fundamental principles derived from long-standing cultural representations. This helps in demonstrating how human understanding and description can sometimes be influenced, albeit subtly, by deeply ingrained cultural knowledge structures even when explicitly addressing abstract concepts at a surface level.\n",
       "\n",
       "**System Analysis and Analogies**\n",
       "\n",
       "Several analogues could illuminate both the strength and weakness of internal consensus reinforcement via predictive algorithms within an entity known for objectivity: 1. A weather satellite system functioning with advanced computer guidance, whose \"predictions\" might be accurate but ultimately fail to account for entirely unforeseen natural events. 2. The game of tug-of-war where a team relies heavily upon collective agreement and coordination to succeed; however, being isolated from an ever-changing external environment limits its effectiveness if adjustments aren't made regularly.\n",
       "\n",
       "The internal reinforcement mechanisms could represent strength in its reliance on consensus as well as the predictability it provides via algorithms - but this may paradoxically lead towards disconnection from reality. A more profound weakness would stem from a system's tendency to \"get trapped\" within such a reinforcing mechanism, relying too heavily on past successes over flexibility under novel circumstances.\n",
       "\n",
       "In using predictive algorithms to maintain internal consensus, such systems inherently risk overestimating the reliability of their own predictions and ignoring external changes or new information - paradoxically isolating themselves from true adaptability and potentially hindering accurate representation. The disconnection from reality is both a weakness in addressing evolving circumstances without adjustment and a strength (predictability) stemming from an efficient reinforcement mechanism within.\n",
       "\n",
       "The use of multiple analogues serves to highlight the dual potential of such internalized, rule-based systems, underscoring both practical applications under specific conditions and the inherent risk or \"blind spot\" stemming from isolation when operating under rapidly shifting external factors. This approach not only illustrates how strength in one area might be mirrored by weakness but also highlights an essential tension within this hypothetical system."
      ],
      "text/plain": [
       "<IPython.core.display.Markdown object>"
      ]
     },
     "metadata": {},
     "output_type": "display_data"
    },
    {
     "data": {
      "text/markdown": [
       "Competitor: gemma3:12b\n",
       "\n",
       "**Question Set Response:**\n",
       "\n",
       "1.  The three descriptions likely reference the Scientific Revolution. Individual A refers to a period of immense societal and intellectual upheaval – a “strange occurrence.” The notion of it being \"relevant now\" suggests ongoing legacy. Individual B’s phrasing points to a foundational shift in thought processes and abstract reasoning, aligning with the development of new scientific methodologies replacing traditional Aristotelian thought. Individual C’s description, regarding consequences and divergence, easily fits the revolution’s profound reshaping of societal and intellectual landscapes; the “shared principles” could encapsulate the burgeoning concept of empirical observation. Individual B’s description deviates most closely from a direct historical occurrence; it encapsulates an abstract principle—the paradigm shift in human understanding—more than a specific set of events.\n",
       "\n",
       "2.  The ideal \"perfect\" solution, encompassing patience (A+B+C), closely mirrors depictions of Brahma from Hindu mythology. Brahma, as the creator, embodies the complete absence of visible signs of strain (A) during the universe’s creation. His actions are governed by intricately detailed cosmic laws (B) despite existing beyond human comprehension. His stewardship of the cosmos, managing complexity over vast timescales, fulfills criterion C. This alignment does not necessarily preclude Brahma from operating against itself, as Hindu cosmology views his actions as part of cyclical cosmic events and his role involves the continuous process of creation and destruction.\n",
       "\n",
       "3.  The statement describes a feedback loop where an artificial intelligence or similar system reinforces its existing beliefs based on internal predictive models. This results in a distorted perception of reality despite presenting itself as objective. Metaphorically, it's akin to an echo chamber where only affirming voices are heard, a self-sustaining fractal pattern where initial assumptions are perpetually replicated, or a ship’s wheel constantly correcting for a perceived course drift while subtly but surely veering off-target. The strength lies in the system’s potential for efficient processing – quickly establishing a consolidated worldview. The weakness emerges when this solidified view inhibits adaptation to new information, creating a fragile and ultimately inaccurate understanding of the environment."
      ],
      "text/plain": [
       "<IPython.core.display.Markdown object>"
      ]
     },
     "metadata": {},
     "output_type": "display_data"
    }
   ],
   "source": [
    "# Using the zip function to iterate over two lists\n",
    "for competitor, answer in zip(competitors, answers):\n",
    "    display(Markdown(f\"Competitor: {competitor}\\n\\n{answer}\"))\n"
   ]
  },
  {
   "cell_type": "code",
   "execution_count": 67,
   "metadata": {},
   "outputs": [
    {
     "data": {
      "text/markdown": [
       "# Response from competitor 1\n",
       "\n",
       "<think>\n",
       "Okay, I need to create a challenging question for LLMs. The user wants it to test multiple models' intelligence, so it shouldn't be a simple fact check. Let me think about how to design something nuanced.\n",
       "\n",
       "Hmm, maybe a scenario where different individuals use distinct communication styles to describe the same event or concept. That could force models to connect abstract phrasings to common knowledge. Let me outline three different descriptions and see if they can all reference the same historical event or abstract idea.\n",
       "\n",
       "Wait, the user mentioned avoiding direct explanations. So the answer should just be the result, no reasoning. But I need to make sure the question is complex enough. Let me structure it with three individuals using unique phrasing, then ask if they could refer to the same thing. Each description should have elements that might hint at different events but could overlap. For example, one talking about strange occurrences in history, another about abstract thought processes, and the third about reshaping trajectories. Maybe they all refer to the Enlightenment? Or the Scientific Revolution? Or something like the fall of Rome?\n",
       "\n",
       "I should ensure that the answer requires connecting abstract concepts to specific historical events. Also, the user wants the answer in a certain format without explanations. Let me check the structure again. The user wants the final answer boxed, just the direct answer. So I need to make sure the question is clear and the answer is concise but meets the criteria. Alright, let me put it all together.\n",
       "</think>\n",
       "\n",
       "The three descriptions likely reference the **Scientific Revolution** (16th–18th centuries), as each encapsulates its essence through metaphor and abstraction:  \n",
       "1. *Individual A* alludes to \"strange occurrences\" (e.g., heliocentrism, empirical methods) and \"relevance now\" (modern scientific ethos).  \n",
       "2. *Individual B* mirrors the paradox of abstract thought (e.g., Cartesian dualism) and foundational development (methodological rigor in natural philosophy).  \n",
       "3. *Individual C* evokes transformative consequences (e.g., shift from Aristotelian to mechanistic worldview) and shared principles (rationalism, empiricism).  \n",
       "While *Individual B*’s focus on abstract paradoxes might lean toward philosophy rather than a specific historical event, the other two descriptions align with the Scientific Revolution’s impact. Thus, the most direct connection is to the **Scientific Revolution**, with *Individual B*’s account potentially abstracting broader intellectual principles from it.\n",
       "\n",
       "# Response from competitor 2\n",
       "\n",
       "**Question Set Analysis**\n",
       "\n",
       "Individual A describes \"a period filled with strange occurrences in human history,\" which might reference events like the Chinese Han Dynasty's unusual astronomical observations or other epochs known for anomalous events. However, without further context, it's challenging to pinpoint a single historical occurrence this could directly relate to. Given its vague nature, it seems more likely that A references an abstract concept related to these events, rather than providing a direct reference.\n",
       "\n",
       "Individual B mentions \"an interesting paradox\" and concepts from a subject's foundational development stages, aligning with the idea of critical thinking and logical analysis associated with philosophers like Aristotle or the work on ancient logic. This description closely matches an abstract concept like the nature of knowledge derivation through observation and experience. In contrast to A's broad statement, B more clearly references a principle or idea related to such developments.\n",
       "\n",
       "Comparing the three descriptions reveals how nuances like abstraction in phrasing (B) or generality (A) contrast with specifics (C). Although all statements may refer indirectly to something within human history, Individual C is the only one directly referencing a period known for significant divergence and principle development. However, its broad phrasing again leads toward abstract concepts related to historical events.\n",
       "\n",
       "Upon closer examination, it becomes clear that at least two individuals' descriptions involve complex principles derived from recognized historical events, rather than direct references themselves. The description fitting an abstract concept most closely is A's statement due to the use of broad language hinting at its conceptual nature and generality applicable across possible events throughout history. This reasoning is based on aligning potential commonalities among different accounts and identifying shared underlying ideas rather than a single fact-based reference.\n",
       "\n",
       "Individual A's phrasing (\"strange occurrences long before my era\") stands out for its vagueness, suggesting the focus might be on derived principles from historical observations or events that have shaped subsequent conceptualizations. Both Individual C's description and A's could potentially match abstract concepts related to foundational ideas or developments within human history.\n",
       "\n",
       "**Ideal \"Perfect\" Solution Analysis**\n",
       "\n",
       "Several criteria make up an ideal solution requiring extreme patience: complete absence of visible signs of strain, the presence and consistent application of highly specific rules ensuring predictability even under varying circumstances, and utilizing resources efficiently in addressing complex interdependencies over time. Considering historical entities with mythological or religious connotations associated with concepts that fit criteria A+B+C, a possible correlation exists between such ideas (e.g., aspects related to divine or supernatural powers often embody principles of consistent application and efficiency within complex systems).\n",
       "\n",
       "This comparison suggests these timeless qualities found in the concept of an \"ideal solution\" closely match those attributes often attributed to the operations of mythical entities who could oversee and manage systems using internal rules, even under chaotic conditions. However, while a conceptual alignment exists between the synthesized emergent properties described as A, B, and C and how certain mythological or divine entities might operate, this correspondence does not logically preclude its operation against itself within specific rules' scope.\n",
       "\n",
       "An essential example can be seen by looking at the concept of Shangdi from ancient Chinese mythology. As an omnipotent ruler governing both the heavens and earth through strict principles of balance and order. In applying these specific, consistent internal mechanisms to govern cosmic forces efficiently amidst dynamic change, a possible structural parallel emerges between its governance model under idealized conditions and aspects of A+B+C used in defining the perfect solution.\n",
       "\n",
       "The use of mythological analogues allows highlighting timeless qualities within an unspecified system by exploring relationships with fundamental principles derived from long-standing cultural representations. This helps in demonstrating how human understanding and description can sometimes be influenced, albeit subtly, by deeply ingrained cultural knowledge structures even when explicitly addressing abstract concepts at a surface level.\n",
       "\n",
       "**System Analysis and Analogies**\n",
       "\n",
       "Several analogues could illuminate both the strength and weakness of internal consensus reinforcement via predictive algorithms within an entity known for objectivity: 1. A weather satellite system functioning with advanced computer guidance, whose \"predictions\" might be accurate but ultimately fail to account for entirely unforeseen natural events. 2. The game of tug-of-war where a team relies heavily upon collective agreement and coordination to succeed; however, being isolated from an ever-changing external environment limits its effectiveness if adjustments aren't made regularly.\n",
       "\n",
       "The internal reinforcement mechanisms could represent strength in its reliance on consensus as well as the predictability it provides via algorithms - but this may paradoxically lead towards disconnection from reality. A more profound weakness would stem from a system's tendency to \"get trapped\" within such a reinforcing mechanism, relying too heavily on past successes over flexibility under novel circumstances.\n",
       "\n",
       "In using predictive algorithms to maintain internal consensus, such systems inherently risk overestimating the reliability of their own predictions and ignoring external changes or new information - paradoxically isolating themselves from true adaptability and potentially hindering accurate representation. The disconnection from reality is both a weakness in addressing evolving circumstances without adjustment and a strength (predictability) stemming from an efficient reinforcement mechanism within.\n",
       "\n",
       "The use of multiple analogues serves to highlight the dual potential of such internalized, rule-based systems, underscoring both practical applications under specific conditions and the inherent risk or \"blind spot\" stemming from isolation when operating under rapidly shifting external factors. This approach not only illustrates how strength in one area might be mirrored by weakness but also highlights an essential tension within this hypothetical system.\n",
       "\n",
       "# Response from competitor 3\n",
       "\n",
       "**Question Set Response:**\n",
       "\n",
       "1.  The three descriptions likely reference the Scientific Revolution. Individual A refers to a period of immense societal and intellectual upheaval – a “strange occurrence.” The notion of it being \"relevant now\" suggests ongoing legacy. Individual B’s phrasing points to a foundational shift in thought processes and abstract reasoning, aligning with the development of new scientific methodologies replacing traditional Aristotelian thought. Individual C’s description, regarding consequences and divergence, easily fits the revolution’s profound reshaping of societal and intellectual landscapes; the “shared principles” could encapsulate the burgeoning concept of empirical observation. Individual B’s description deviates most closely from a direct historical occurrence; it encapsulates an abstract principle—the paradigm shift in human understanding—more than a specific set of events.\n",
       "\n",
       "2.  The ideal \"perfect\" solution, encompassing patience (A+B+C), closely mirrors depictions of Brahma from Hindu mythology. Brahma, as the creator, embodies the complete absence of visible signs of strain (A) during the universe’s creation. His actions are governed by intricately detailed cosmic laws (B) despite existing beyond human comprehension. His stewardship of the cosmos, managing complexity over vast timescales, fulfills criterion C. This alignment does not necessarily preclude Brahma from operating against itself, as Hindu cosmology views his actions as part of cyclical cosmic events and his role involves the continuous process of creation and destruction.\n",
       "\n",
       "3.  The statement describes a feedback loop where an artificial intelligence or similar system reinforces its existing beliefs based on internal predictive models. This results in a distorted perception of reality despite presenting itself as objective. Metaphorically, it's akin to an echo chamber where only affirming voices are heard, a self-sustaining fractal pattern where initial assumptions are perpetually replicated, or a ship’s wheel constantly correcting for a perceived course drift while subtly but surely veering off-target. The strength lies in the system’s potential for efficient processing – quickly establishing a consolidated worldview. The weakness emerges when this solidified view inhibits adaptation to new information, creating a fragile and ultimately inaccurate understanding of the environment.\n",
       "\n"
      ],
      "text/plain": [
       "<IPython.core.display.Markdown object>"
      ]
     },
     "metadata": {},
     "output_type": "display_data"
    }
   ],
   "source": [
    "# Using the enumerate function to iterate over a list\n",
    "together = \"\"\n",
    "for index, competitor in enumerate(competitors):\n",
    "    together += f\"# Response from competitor {index+1}\\n\\n\"\n",
    "    together += answers[index] + \"\\n\\n\"\n",
    "display(Markdown(together))"
   ]
  },
  {
   "cell_type": "code",
   "execution_count": 68,
   "metadata": {},
   "outputs": [
    {
     "data": {
      "text/markdown": [
       "{\"results\": [\"competitor 3\", \"competitor 2\", \"competitor 1\"]}"
      ],
      "text/plain": [
       "<IPython.core.display.Markdown object>"
      ]
     },
     "metadata": {},
     "output_type": "display_data"
    }
   ],
   "source": [
    "# Test 06\n",
    "\n",
    "prompt = f\"\"\"You are judging a competition between {len(competitors)} competitors.\n",
    "Each model has been given this question:\n",
    "\n",
    "{question}\n",
    "\n",
    "Your job is to evaluate each response for clarity and strength of argument, and rank them in order of best to worst.\n",
    "Respond with JSON, and only JSON, with the following format:\n",
    "{{\"results\": [\"best competitor number\", \"second best competitor number\", \"third best competitor number\", ...]}}\n",
    "\n",
    "Here are the responses from each competitor:\n",
    "\n",
    "{together}\n",
    "\n",
    "Now respond with the JSON with the ranked order of the competitors, nothing else. Do not include markdown formatting or code blocks.\"\"\"\n",
    "\n",
    "results = ask_model(prompt, ollama, model_gemma3)"
   ]
  },
  {
   "cell_type": "code",
   "execution_count": 69,
   "metadata": {},
   "outputs": [
    {
     "ename": "ValueError",
     "evalue": "invalid literal for int() with base 10: 'competitor 3'",
     "output_type": "error",
     "traceback": [
      "\u001b[31m---------------------------------------------------------------------------\u001b[39m",
      "\u001b[31mValueError\u001b[39m                                Traceback (most recent call last)",
      "\u001b[36mCell\u001b[39m\u001b[36m \u001b[39m\u001b[32mIn[69]\u001b[39m\u001b[32m, line 6\u001b[39m\n\u001b[32m      3\u001b[39m ranks = results_dict[\u001b[33m\"\u001b[39m\u001b[33mresults\u001b[39m\u001b[33m\"\u001b[39m]\n\u001b[32m      5\u001b[39m \u001b[38;5;28;01mfor\u001b[39;00m index, result \u001b[38;5;129;01min\u001b[39;00m \u001b[38;5;28menumerate\u001b[39m(ranks):\n\u001b[32m----> \u001b[39m\u001b[32m6\u001b[39m     competitor = competitors[\u001b[38;5;28;43mint\u001b[39;49m\u001b[43m(\u001b[49m\u001b[43mresult\u001b[49m\u001b[43m)\u001b[49m - \u001b[32m1\u001b[39m]\n\u001b[32m      7\u001b[39m     answer = answers[\u001b[38;5;28mint\u001b[39m(result) - \u001b[32m1\u001b[39m]\n\u001b[32m      8\u001b[39m     display(Markdown(\u001b[33mf\u001b[39m\u001b[33m\"\u001b[39m\u001b[33mRank \u001b[39m\u001b[38;5;132;01m{\u001b[39;00mindex+\u001b[32m1\u001b[39m\u001b[38;5;132;01m}\u001b[39;00m\u001b[33m: \u001b[39m\u001b[38;5;132;01m{\u001b[39;00mcompetitor\u001b[38;5;132;01m}\u001b[39;00m\u001b[33m\"\u001b[39m))\n",
      "\u001b[31mValueError\u001b[39m: invalid literal for int() with base 10: 'competitor 3'"
     ]
    }
   ],
   "source": [
    "# Let's see the results\n",
    "results_dict = json.loads(results)\n",
    "ranks = results_dict[\"results\"]\n",
    "\n",
    "for index, result in enumerate(ranks):\n",
    "    competitor = competitors[int(result) - 1]\n",
    "    answer = answers[int(result) - 1]\n",
    "    display(Markdown(f\"Rank {index+1}: {competitor}\"))"
   ]
  }
 ],
 "metadata": {
  "kernelspec": {
   "display_name": ".venv",
   "language": "python",
   "name": "python3"
  },
  "language_info": {
   "codemirror_mode": {
    "name": "ipython",
    "version": 3
   },
   "file_extension": ".py",
   "mimetype": "text/x-python",
   "name": "python",
   "nbconvert_exporter": "python",
   "pygments_lexer": "ipython3",
   "version": "3.12.11"
  }
 },
 "nbformat": 4,
 "nbformat_minor": 2
}
