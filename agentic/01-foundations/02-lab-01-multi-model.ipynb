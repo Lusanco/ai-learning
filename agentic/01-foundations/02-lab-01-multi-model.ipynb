{
 "cells": [
  {
   "cell_type": "code",
   "execution_count": 1,
   "metadata": {},
   "outputs": [],
   "source": [
    "# Imports\n",
    "import os\n",
    "import json\n",
    "from typing import cast\n",
    "from dotenv import load_dotenv\n",
    "from openai import OpenAI\n",
    "\n",
    "# Type hinting\n",
    "from openai.types.chat import ChatCompletionUserMessageParam\n",
    "\n",
    "# Markdown output display\n",
    "from IPython.display import Markdown, display"
   ]
  },
  {
   "cell_type": "code",
   "execution_count": 2,
   "metadata": {},
   "outputs": [],
   "source": [
    "# Cast to String\n",
    "def env_to_str(env: str) -> str:\n",
    "    return cast(str, os.getenv(env))"
   ]
  },
  {
   "cell_type": "code",
   "execution_count": 3,
   "metadata": {},
   "outputs": [],
   "source": [
    "# Load Environment Variables\n",
    "load_dotenv(override=True)\n",
    "\n",
    "# Ollama Environment Variables\n",
    "ollama_api_key = env_to_str('OLLAMA_API_KEY')\n",
    "ollama_base_url = env_to_str('OLLAMA_BASE_URL')\n",
    "\n",
    "# Ollama AI Models\n",
    "\n",
    "# More towards reasoning\n",
    "model_deepseek_r1 = env_to_str('MODEL_DEEPSEEK_R1')\n",
    "model_qwen3  = env_to_str('MODEL_QWEN3')\n",
    "model_phi3 = env_to_str('MODEL_PHI3.5')\n",
    "\n",
    "# More towards general purpose\n",
    "model_llama3 = env_to_str('MODEL_LLAMA3')\n",
    "model_mistral = env_to_str('MODEL_MISTRAL')\n",
    "model_gemma3 = env_to_str('MODEL_GEMMA3')\n",
    "model_mistral_nemo = env_to_str('MODEL_MISTRAL_NEMO')"
   ]
  },
  {
   "cell_type": "code",
   "execution_count": 4,
   "metadata": {},
   "outputs": [],
   "source": [
    "# Gemini Environment Variables\n",
    "gemini_api_key = env_to_str('GEMINI_API_KEY')\n",
    "gemini_base_url = env_to_str('GEMINI_BASE_URL')\n",
    "\n",
    "# Gemini AI Models\n",
    "model_gemini_flash = env_to_str('MODEL_GEMINI_FLASH')"
   ]
  },
  {
   "cell_type": "code",
   "execution_count": 5,
   "metadata": {},
   "outputs": [],
   "source": [
    "# Check Environment Variables\n",
    "def check_api_key(api_key: str, ai_client: str):\n",
    "    if api_key:\n",
    "        print(f\"{ai_client} API Key exists and begins with: {api_key[:3]}...\")\n",
    "    else:\n",
    "        print(f\"{ai_client} API Key not set. Please check the .env file.\")\n",
    "    return"
   ]
  },
  {
   "cell_type": "code",
   "execution_count": 6,
   "metadata": {},
   "outputs": [
    {
     "name": "stdout",
     "output_type": "stream",
     "text": [
      "Ollama API Key exists and begins with: oll...\n",
      "Gemini API Key exists and begins with: AIz...\n"
     ]
    }
   ],
   "source": [
    "# Checking keys for ollama and gemini api\n",
    "check_api_key(ollama_api_key, \"Ollama\")\n",
    "check_api_key(gemini_api_key, \"Gemini\")"
   ]
  },
  {
   "cell_type": "code",
   "execution_count": 7,
   "metadata": {},
   "outputs": [],
   "source": [
    "# Create Instances OpenAI Class\n",
    "ollama = OpenAI(api_key=ollama_api_key, base_url=ollama_base_url)\n",
    "gemini = OpenAI(api_key=gemini_api_key, base_url=gemini_base_url)"
   ]
  },
  {
   "cell_type": "code",
   "execution_count": 8,
   "metadata": {},
   "outputs": [],
   "source": [
    "# Ask Model w/type hinting\n",
    "def ask_model(prompt: str, ai_client: OpenAI, ai_model: str) -> str:\n",
    "    \n",
    "    # Create a list of messages in the OpenAI format\n",
    "    messages: list[ChatCompletionUserMessageParam] # type hinting\n",
    "    messages = [{\"role\": \"user\", \"content\": prompt}]\n",
    "\n",
    "    response = ai_client.chat.completions.create(\n",
    "        model=ai_model,\n",
    "        messages=messages\n",
    "    )\n",
    "\n",
    "    # Display and return the results\n",
    "    results: str = cast(str, response.choices[0].message.content)\n",
    "    display(Markdown(results))\n",
    "    return results"
   ]
  },
  {
   "cell_type": "code",
   "execution_count": 9,
   "metadata": {},
   "outputs": [],
   "source": [
    "# Some lists to store the competitors and their answers\n",
    "competitors = []\n",
    "answers = []"
   ]
  },
  {
   "cell_type": "code",
   "execution_count": 10,
   "metadata": {},
   "outputs": [],
   "source": [
    "# Formulating the Question\n",
    "no_filler = \"Provide only the direct answer. Do not include any explanations, justifications, or conversational filler. Give me a minimum of one paragraph and a maximum of five paragraphs, this is your range.\"\n",
    "prompt = \"Please come up with a challenging, nuanced question that I can ask a number of LLMs to evaluate their intelligence.\"\n",
    "prompt += f\"\\n\\n{no_filler}\""
   ]
  },
  {
   "cell_type": "code",
   "execution_count": 11,
   "metadata": {},
   "outputs": [
    {
     "data": {
      "text/markdown": [
       "The concept of \"free will\" in human behavior has been debated extensively across various disciplines, including philosophy, psychology, and neuroscience. Some theories argue that free will is an illusion created by the complexity of cognitive processes and external influences, while others propose that it is a fundamental aspect of human consciousness.\n",
       "\n",
       "From a neuroscientific perspective, research on brain function and activity suggests that our brains make decisions before we consciously perceive them. This raises questions about the extent to which free will truly exists. On one hand, if our choices are predetermined by neural processes occurring beneath conscious awareness, do we have any control over them at all? On the other hand, if it can be demonstrated that human behavior is entirely deterministic, would this necessarily imply that we lack free will?\n",
       "\n",
       "Moreover, social and cultural context play significant roles in shaping individual decisions. External factors such as upbringing, societal expectations, and available resources can all influence our choices and perceived \"free will.\" However, when accounting for these external influences, how do we define and attribute responsibility to individuals?\n",
       "\n",
       "The interplay between personal factors like motivation and moral judgment, combined with deterministic forces, might suggest an ambiguous relationship between free will and determinism. If human decisions are the result of a delicate balance between competing factors, then where does agency truly lie? Is it in the choices themselves or in their outcome, which may or may not reflect our original intentions?\n",
       "\n",
       "Ultimately, attempting to reconcile the apparent paradox of free will within a deterministic universe challenges our fundamental understanding of self and behavior."
      ],
      "text/plain": [
       "<IPython.core.display.Markdown object>"
      ]
     },
     "metadata": {},
     "output_type": "display_data"
    }
   ],
   "source": [
    "# Llama3 Asking the Question\n",
    "question = ask_model(prompt, ollama, model_llama3)\n",
    "question += f\"\\n\\n{no_filler}\""
   ]
  },
  {
   "cell_type": "code",
   "execution_count": 12,
   "metadata": {},
   "outputs": [
    {
     "data": {
      "text/markdown": [
       " The debate surrounding free will and determinism in human behavior is complex and multifaceted, with no definitive conclusions yet reached across various disciplines. Neuroscientific findings hint at unconscious decision-making processes preceding conscious awareness, which could potentially challenge the existence of free will. Conversely, if human behavior follows a deterministic path, this might suggest a lack of genuine discretion in our choices.\n",
       "\n",
       "External factors like upbringing, societal expectations, and available resources can significantly impact individual decisions, leaving room for questions on defining and attributing responsibility to individuals within such contexts. The balance between personal motivations and external determinants may point to an ambiguous location of agency in human behavior.\n",
       "\n",
       "It remains unclear whether the fundamental nature of free will lies in the choices themselves or their outcomes, given the intricate dance between internal and external forces influencing decision-making. Ultimately, grappling with the paradox between free will and determinism within a deterministic universe questions our self-understanding and behavioral dynamics."
      ],
      "text/plain": [
       "<IPython.core.display.Markdown object>"
      ]
     },
     "metadata": {},
     "output_type": "display_data"
    }
   ],
   "source": [
    "# Mistral's Answer\n",
    "competitors.append(model_mistral)\n",
    "answer = ask_model(question, ollama, model_mistral)\n",
    "answers.append(answer)"
   ]
  },
  {
   "cell_type": "code",
   "execution_count": 13,
   "metadata": {},
   "outputs": [
    {
     "data": {
      "text/markdown": [
       "Free will exists as an illusory construct that arises from complex cognitive processes and external influences. Neuroscience research demonstrates that our brains make decisions before conscious perception occurs, challenging the notion of direct control over these choices. While determinism might seem to negate human agency, it's crucial to consider that free will is an subjective experience rather than a objective reality. The interplay between personal factors like motivation and cultural contexts shapes our decisions, leaving responsibility attribution ambiguous. Ultimately, reconciling free will within a deterministic universe requires accepting that the self and behavior are bound by intricate, yet imperceptible causal chains."
      ],
      "text/plain": [
       "<IPython.core.display.Markdown object>"
      ]
     },
     "metadata": {},
     "output_type": "display_data"
    }
   ],
   "source": [
    "# Mistral Nemo's Answer\n",
    "competitors.append(model_mistral_nemo)\n",
    "answer = ask_model(question, ollama, model_mistral_nemo)\n",
    "answers.append(answer)"
   ]
  },
  {
   "cell_type": "code",
   "execution_count": 14,
   "metadata": {},
   "outputs": [
    {
     "data": {
      "text/markdown": [
       "The existence of free will remains a complex and contested question, particularly when considered alongside advancements in neuroscience and the undeniable influence of external factors. Brain activity often precedes conscious awareness of decisions, leading some to argue that our choices are predetermined by neural processes and therefore illusory. However, the complete denial of free will based on determinism raises profound implications for moral responsibility and our understanding of personal agency. \n",
       "\n",
       "Social and cultural contexts significantly shape individual choices, demonstrating the impact of upbringing, societal expectations, and resource availability. While acknowledging these influences, attributing responsibility requires navigating a nuanced evaluation that accounts for both internal motivations and external constraints. The interplay of personal factors like moral judgment and deterministic forces creates a delicate balance that blurs the lines between agency and compulsion.\n",
       "\n",
       "If decisions arise from a complex negotiation between competing factors, the locus of agency becomes unclear. Is agency inherent in the initial choice itself, or is it defined by the resulting action, even if it deviates from original intentions? This ambiguity challenges the conventional understanding of self and behavior, forcing reevaluation of individual responsibility and the foundations of legal and ethical frameworks. \n",
       "\n",
       "Reconciling free will with a deterministic universe requires confronting the paradox of being both determined and capable of making choices. The exploration of this relationship highlights the limitations of current scientific models and the need for a more comprehensive framework to understand the human experience, potentially integrating insights from multiple disciplines.\n",
       "\n",
       "\n",
       "\n",
       "\n"
      ],
      "text/plain": [
       "<IPython.core.display.Markdown object>"
      ]
     },
     "metadata": {},
     "output_type": "display_data"
    }
   ],
   "source": [
    "# Gemma3's Answer\n",
    "competitors.append(model_gemma3)\n",
    "answer = ask_model(question, ollama, model_gemma3)\n",
    "answers.append(answer)"
   ]
  },
  {
   "cell_type": "code",
   "execution_count": 15,
   "metadata": {},
   "outputs": [
    {
     "data": {
      "text/markdown": [
       "The existence of free will remains an open question. Neuroscience suggests potential predetermination of choices, challenging the notion of conscious control. Determinism, even if proven, doesn't automatically negate subjective experience of choice. Social and cultural influences significantly shape decisions, blurring the lines of individual agency. The interplay between personal factors and deterministic forces creates ambiguity regarding the locus of agency. Reconciling free will with determinism necessitates re-evaluating our understanding of self and behavior.\n"
      ],
      "text/plain": [
       "<IPython.core.display.Markdown object>"
      ]
     },
     "metadata": {},
     "output_type": "display_data"
    }
   ],
   "source": [
    "# Gemini 2.0 Flash's Answer\n",
    "competitors.append(model_gemini_flash)\n",
    "answer = ask_model(question, gemini, model_gemini_flash)\n",
    "answers.append(answer)"
   ]
  },
  {
   "cell_type": "code",
   "execution_count": 16,
   "metadata": {},
   "outputs": [
    {
     "data": {
      "text/markdown": [
       "Competitor: mistral:latest\n",
       "\n",
       " The debate surrounding free will and determinism in human behavior is complex and multifaceted, with no definitive conclusions yet reached across various disciplines. Neuroscientific findings hint at unconscious decision-making processes preceding conscious awareness, which could potentially challenge the existence of free will. Conversely, if human behavior follows a deterministic path, this might suggest a lack of genuine discretion in our choices.\n",
       "\n",
       "External factors like upbringing, societal expectations, and available resources can significantly impact individual decisions, leaving room for questions on defining and attributing responsibility to individuals within such contexts. The balance between personal motivations and external determinants may point to an ambiguous location of agency in human behavior.\n",
       "\n",
       "It remains unclear whether the fundamental nature of free will lies in the choices themselves or their outcomes, given the intricate dance between internal and external forces influencing decision-making. Ultimately, grappling with the paradox between free will and determinism within a deterministic universe questions our self-understanding and behavioral dynamics."
      ],
      "text/plain": [
       "<IPython.core.display.Markdown object>"
      ]
     },
     "metadata": {},
     "output_type": "display_data"
    },
    {
     "data": {
      "text/markdown": [
       "Competitor: mistral-nemo:latest\n",
       "\n",
       "Free will exists as an illusory construct that arises from complex cognitive processes and external influences. Neuroscience research demonstrates that our brains make decisions before conscious perception occurs, challenging the notion of direct control over these choices. While determinism might seem to negate human agency, it's crucial to consider that free will is an subjective experience rather than a objective reality. The interplay between personal factors like motivation and cultural contexts shapes our decisions, leaving responsibility attribution ambiguous. Ultimately, reconciling free will within a deterministic universe requires accepting that the self and behavior are bound by intricate, yet imperceptible causal chains."
      ],
      "text/plain": [
       "<IPython.core.display.Markdown object>"
      ]
     },
     "metadata": {},
     "output_type": "display_data"
    },
    {
     "data": {
      "text/markdown": [
       "Competitor: gemma3:12b\n",
       "\n",
       "The existence of free will remains a complex and contested question, particularly when considered alongside advancements in neuroscience and the undeniable influence of external factors. Brain activity often precedes conscious awareness of decisions, leading some to argue that our choices are predetermined by neural processes and therefore illusory. However, the complete denial of free will based on determinism raises profound implications for moral responsibility and our understanding of personal agency. \n",
       "\n",
       "Social and cultural contexts significantly shape individual choices, demonstrating the impact of upbringing, societal expectations, and resource availability. While acknowledging these influences, attributing responsibility requires navigating a nuanced evaluation that accounts for both internal motivations and external constraints. The interplay of personal factors like moral judgment and deterministic forces creates a delicate balance that blurs the lines between agency and compulsion.\n",
       "\n",
       "If decisions arise from a complex negotiation between competing factors, the locus of agency becomes unclear. Is agency inherent in the initial choice itself, or is it defined by the resulting action, even if it deviates from original intentions? This ambiguity challenges the conventional understanding of self and behavior, forcing reevaluation of individual responsibility and the foundations of legal and ethical frameworks. \n",
       "\n",
       "Reconciling free will with a deterministic universe requires confronting the paradox of being both determined and capable of making choices. The exploration of this relationship highlights the limitations of current scientific models and the need for a more comprehensive framework to understand the human experience, potentially integrating insights from multiple disciplines.\n",
       "\n",
       "\n",
       "\n",
       "\n"
      ],
      "text/plain": [
       "<IPython.core.display.Markdown object>"
      ]
     },
     "metadata": {},
     "output_type": "display_data"
    },
    {
     "data": {
      "text/markdown": [
       "Competitor: gemini-2.0-flash\n",
       "\n",
       "The existence of free will remains an open question. Neuroscience suggests potential predetermination of choices, challenging the notion of conscious control. Determinism, even if proven, doesn't automatically negate subjective experience of choice. Social and cultural influences significantly shape decisions, blurring the lines of individual agency. The interplay between personal factors and deterministic forces creates ambiguity regarding the locus of agency. Reconciling free will with determinism necessitates re-evaluating our understanding of self and behavior.\n"
      ],
      "text/plain": [
       "<IPython.core.display.Markdown object>"
      ]
     },
     "metadata": {},
     "output_type": "display_data"
    }
   ],
   "source": [
    "# Using the zip function to iterate over two lists\n",
    "for competitor, answer in zip(competitors, answers):\n",
    "    display(Markdown(f\"Competitor: {competitor}\\n\\n{answer}\"))"
   ]
  },
  {
   "cell_type": "code",
   "execution_count": 17,
   "metadata": {},
   "outputs": [
    {
     "data": {
      "text/markdown": [
       "# Response from competitor 1\n",
       "\n",
       " The debate surrounding free will and determinism in human behavior is complex and multifaceted, with no definitive conclusions yet reached across various disciplines. Neuroscientific findings hint at unconscious decision-making processes preceding conscious awareness, which could potentially challenge the existence of free will. Conversely, if human behavior follows a deterministic path, this might suggest a lack of genuine discretion in our choices.\n",
       "\n",
       "External factors like upbringing, societal expectations, and available resources can significantly impact individual decisions, leaving room for questions on defining and attributing responsibility to individuals within such contexts. The balance between personal motivations and external determinants may point to an ambiguous location of agency in human behavior.\n",
       "\n",
       "It remains unclear whether the fundamental nature of free will lies in the choices themselves or their outcomes, given the intricate dance between internal and external forces influencing decision-making. Ultimately, grappling with the paradox between free will and determinism within a deterministic universe questions our self-understanding and behavioral dynamics.\n",
       "\n",
       "# Response from competitor 2\n",
       "\n",
       "Free will exists as an illusory construct that arises from complex cognitive processes and external influences. Neuroscience research demonstrates that our brains make decisions before conscious perception occurs, challenging the notion of direct control over these choices. While determinism might seem to negate human agency, it's crucial to consider that free will is an subjective experience rather than a objective reality. The interplay between personal factors like motivation and cultural contexts shapes our decisions, leaving responsibility attribution ambiguous. Ultimately, reconciling free will within a deterministic universe requires accepting that the self and behavior are bound by intricate, yet imperceptible causal chains.\n",
       "\n",
       "# Response from competitor 3\n",
       "\n",
       "The existence of free will remains a complex and contested question, particularly when considered alongside advancements in neuroscience and the undeniable influence of external factors. Brain activity often precedes conscious awareness of decisions, leading some to argue that our choices are predetermined by neural processes and therefore illusory. However, the complete denial of free will based on determinism raises profound implications for moral responsibility and our understanding of personal agency. \n",
       "\n",
       "Social and cultural contexts significantly shape individual choices, demonstrating the impact of upbringing, societal expectations, and resource availability. While acknowledging these influences, attributing responsibility requires navigating a nuanced evaluation that accounts for both internal motivations and external constraints. The interplay of personal factors like moral judgment and deterministic forces creates a delicate balance that blurs the lines between agency and compulsion.\n",
       "\n",
       "If decisions arise from a complex negotiation between competing factors, the locus of agency becomes unclear. Is agency inherent in the initial choice itself, or is it defined by the resulting action, even if it deviates from original intentions? This ambiguity challenges the conventional understanding of self and behavior, forcing reevaluation of individual responsibility and the foundations of legal and ethical frameworks. \n",
       "\n",
       "Reconciling free will with a deterministic universe requires confronting the paradox of being both determined and capable of making choices. The exploration of this relationship highlights the limitations of current scientific models and the need for a more comprehensive framework to understand the human experience, potentially integrating insights from multiple disciplines.\n",
       "\n",
       "\n",
       "\n",
       "\n",
       "\n",
       "\n",
       "# Response from competitor 4\n",
       "\n",
       "The existence of free will remains an open question. Neuroscience suggests potential predetermination of choices, challenging the notion of conscious control. Determinism, even if proven, doesn't automatically negate subjective experience of choice. Social and cultural influences significantly shape decisions, blurring the lines of individual agency. The interplay between personal factors and deterministic forces creates ambiguity regarding the locus of agency. Reconciling free will with determinism necessitates re-evaluating our understanding of self and behavior.\n",
       "\n",
       "\n"
      ],
      "text/plain": [
       "<IPython.core.display.Markdown object>"
      ]
     },
     "metadata": {},
     "output_type": "display_data"
    }
   ],
   "source": [
    "# Using the enumerate function to iterate over a list\n",
    "together = \"\"\n",
    "for index, competitor in enumerate(competitors):\n",
    "    together += f\"# Response from competitor {index+1}\\n\\n\"\n",
    "    together += answers[index] + \"\\n\\n\"\n",
    "display(Markdown(together))"
   ]
  },
  {
   "cell_type": "code",
   "execution_count": 18,
   "metadata": {},
   "outputs": [],
   "source": [
    "# Formulating the Judge's Prompt\n",
    "judge_prompt = f\"\"\"You are judging a competition between {len(competitors)} competitors.\n",
    "Each model has been given this question:\n",
    "\n",
    "{question}\n",
    "\n",
    "Your job is to evaluate each response for clarity and strength of argument, and rank them in order of best to worst.\n",
    "Respond with JSON, and only JSON, with the following format:\n",
    "{{\"results\": [\"best competitor number\", \"second best competitor number\", \"third best competitor number\", ...]}}\n",
    "\n",
    "Here are the responses from each competitor:\n",
    "\n",
    "{together}\n",
    "\n",
    "Now respond with the JSON with the ranked order of the competitors, nothing else. Do not include markdown formatting or code blocks.\"\"\""
   ]
  },
  {
   "cell_type": "code",
   "execution_count": 19,
   "metadata": {},
   "outputs": [
    {
     "data": {
      "text/markdown": [
       "{\n",
       "  \"results\": [\n",
       "    4,\n",
       "    2,\n",
       "    3,\n",
       "    1\n",
       "  ]\n",
       "}\n",
       "\n",
       "In this ranking:\n",
       "\n",
       "- Competitor 4 presents a succinct overview that directly aligns with the instruction's demand for brevity and encapsulation of the central debate without unnecessary explanation or rhetorical flourish. Despite being concise, it touches upon key aspects such as neuroscientific findings, external influences, determinism versus free will, agency ambiguity, and societal impact on self-understanding within a judicial context—all of which are essential for understanding the complexity at hand without expanding beyond paragraph limits.\n",
       "\n",
       "- Competitor 2 follows suit with an articulation that recognizes illusory aspects of free will in light of neuroscientific evidence, yet emphasizes subjective experience and personal agency within external determinism—a persuasive argument which acknowledges both sides without diluting the intricate nuances involved.\n",
       "\n",
       "- Competitor 3 closely examines how pre-conscious neural activity dictates choices while simultaneously wrestling with responsibility attribution in response to deep cultural contexts, showing a balanced reflection of factors influencing free will—though this competitor falls short by not explicitly addressing the reconciliation between determinism and agency within their argument.\n",
       "\n",
       "- Competitor 1 offers an analysis centered on how decisions predate conscious awareness according to neuroscience, but fails relative depth in discussions about external influences or subjective experiences which are critical elements as per your primary document's guidance—making this competitive response the weakest of all when directly compared.\n",
       "\n",
       "Thus, Competitor 4 is ranked first for a focused yet profound reflection on free will that adheres closely to instructional constraints, followed by Competitors 2 and 3 who adequately balance various facets of agency but with slightly less direct relevance. Finally, due primarily to its lack in complexity relative to the others, Competitor 1 was ranked last as per your instructions for rankings based on clarity and strength aligned closely with criteria stated within a given instructional guidance context."
      ],
      "text/plain": [
       "<IPython.core.display.Markdown object>"
      ]
     },
     "metadata": {},
     "output_type": "display_data"
    }
   ],
   "source": [
    "\n",
    "# Judge Model Phi3\n",
    "results = ask_model(judge_prompt, ollama, model_phi3)"
   ]
  },
  {
   "cell_type": "code",
   "execution_count": 20,
   "metadata": {},
   "outputs": [
    {
     "data": {
      "text/markdown": [
       "{\n",
       "  \"results\": [\n",
       "    4,\n",
       "    2,\n",
       "    3,\n",
       "    1\n",
       "  ]\n",
       "}"
      ],
      "text/plain": [
       "<IPython.core.display.Markdown object>"
      ]
     },
     "metadata": {},
     "output_type": "display_data"
    }
   ],
   "source": [
    "# Instead of trying a new judge or changing the prompt, \n",
    "# let's try to extract ONLY the JSON with a new model\n",
    "json_prompt = f\"\"\"Extract ONLY the JSON from the following text:\n",
    "\n",
    "{results}\n",
    "\n",
    "Respond with JSON, and only JSON, with the following format:\n",
    "\n",
    "{{\"results\": [\"best competitor number\", \"second best competitor number\", \"third best competitor number\", ...]}}\n",
    "\n",
    "Provide only the JSON. Do not include any explanations, justifications, or conversational filler.\"\"\"\n",
    "\n",
    "results = ask_model(json_prompt, ollama, model_llama3)"
   ]
  },
  {
   "cell_type": "code",
   "execution_count": 21,
   "metadata": {},
   "outputs": [
    {
     "data": {
      "text/markdown": [
       "Rank 1: gemini-2.0-flash"
      ],
      "text/plain": [
       "<IPython.core.display.Markdown object>"
      ]
     },
     "metadata": {},
     "output_type": "display_data"
    },
    {
     "data": {
      "text/markdown": [
       "Rank 2: mistral-nemo:latest"
      ],
      "text/plain": [
       "<IPython.core.display.Markdown object>"
      ]
     },
     "metadata": {},
     "output_type": "display_data"
    },
    {
     "data": {
      "text/markdown": [
       "Rank 3: gemma3:12b"
      ],
      "text/plain": [
       "<IPython.core.display.Markdown object>"
      ]
     },
     "metadata": {},
     "output_type": "display_data"
    },
    {
     "data": {
      "text/markdown": [
       "Rank 4: mistral:latest"
      ],
      "text/plain": [
       "<IPython.core.display.Markdown object>"
      ]
     },
     "metadata": {},
     "output_type": "display_data"
    }
   ],
   "source": [
    "# Let's see the results\n",
    "results_dict = json.loads(results)\n",
    "ranks = results_dict[\"results\"]\n",
    "\n",
    "for index, result in enumerate(ranks):\n",
    "    competitor = competitors[int(result) - 1]\n",
    "    answer = answers[int(result) - 1]\n",
    "    display(Markdown(f\"Rank {index+1}: {competitor}\"))"
   ]
  }
 ],
 "metadata": {
  "kernelspec": {
   "display_name": ".venv",
   "language": "python",
   "name": "python3"
  },
  "language_info": {
   "codemirror_mode": {
    "name": "ipython",
    "version": 3
   },
   "file_extension": ".py",
   "mimetype": "text/x-python",
   "name": "python",
   "nbconvert_exporter": "python",
   "pygments_lexer": "ipython3",
   "version": "3.12.11"
  }
 },
 "nbformat": 4,
 "nbformat_minor": 2
}
