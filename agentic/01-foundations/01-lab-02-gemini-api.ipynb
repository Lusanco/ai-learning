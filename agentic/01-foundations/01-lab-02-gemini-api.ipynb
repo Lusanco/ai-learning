{
 "cells": [
  {
   "cell_type": "code",
   "execution_count": 1,
   "metadata": {},
   "outputs": [],
   "source": [
    "# Troubleshooting & Info\n",
    "# 1. It might be possible that to run this notebook in vscode/cursor you need to install dotnet sdk.\n",
    "# 2. Always run the notebook sections in order. Out of order execution might cause errors. **NameErrors**\n",
    "# 3. This notebook is going to use the gemini api with the model: gemini-2.0-flash."
   ]
  },
  {
   "cell_type": "code",
   "execution_count": 2,
   "metadata": {},
   "outputs": [],
   "source": [
    "# Imports\n",
    "import os\n",
    "from dotenv import load_dotenv\n",
    "from openai import OpenAI\n",
    "\n",
    "# Type hinting\n",
    "from openai.types.chat import ChatCompletionUserMessageParam\n",
    "\n",
    "# Markdown output display\n",
    "from IPython.display import Markdown, display\n"
   ]
  },
  {
   "cell_type": "code",
   "execution_count": 3,
   "metadata": {},
   "outputs": [],
   "source": [
    "# Load Gemini Environment Variables\n",
    "load_dotenv(dotenv_path=\"../.env.gemini\", override=True)\n",
    "api_key = os.getenv('API_KEY')\n",
    "base_url = os.getenv('BASE_URL')\n",
    "ai_model = os.getenv('AI_MODEL') or \"gemini-2.0-flash\" # Model default\n"
   ]
  },
  {
   "cell_type": "code",
   "execution_count": 4,
   "metadata": {},
   "outputs": [
    {
     "name": "stdout",
     "output_type": "stream",
     "text": [
      "Model API Key exists and begins with: AIza...\n"
     ]
    }
   ],
   "source": [
    "# Check Environment Variables\n",
    "if api_key:\n",
    "    print(f\"Model API Key exists and begins with: {api_key[:4]}...\")\n",
    "else:\n",
    "    print(\"Model API Key not set. Please check the .env file.\")\n"
   ]
  },
  {
   "cell_type": "code",
   "execution_count": 5,
   "metadata": {},
   "outputs": [],
   "source": [
    "# Create Instance OpenAI Class\n",
    "ai_client = OpenAI(api_key=api_key, base_url=base_url)\n"
   ]
  },
  {
   "cell_type": "code",
   "execution_count": 6,
   "metadata": {},
   "outputs": [],
   "source": [
    "# Ask Model w/type hinting line of code included\n",
    "def ask_model(prompt: str) -> str | None:\n",
    "    \n",
    "    # Create a list of messages in the OpenAI format\n",
    "    messages: list[ChatCompletionUserMessageParam] # type hinting\n",
    "    messages = [{\"role\": \"user\", \"content\": prompt}]\n",
    "\n",
    "    response = ai_client.chat.completions.create(\n",
    "        model=ai_model,\n",
    "        messages=messages\n",
    "    )\n",
    "\n",
    "    # Display and return the result\n",
    "    result = response.choices[0].message.content\n",
    "    display(Markdown(result))\n",
    "    return result\n"
   ]
  },
  {
   "cell_type": "code",
   "execution_count": 7,
   "metadata": {},
   "outputs": [
    {
     "data": {
      "text/markdown": [
       "Tyrannosaurus Rex: The king for its massive size, powerful bite, and iconic status as the ultimate apex predator.\n"
      ],
      "text/plain": [
       "<IPython.core.display.Markdown object>"
      ]
     },
     "metadata": {},
     "output_type": "display_data"
    }
   ],
   "source": [
    "# Test 01\n",
    "prompt = \"One liner of the best dinosaur to exist and why.\"\n",
    "result = ask_model(prompt)\n"
   ]
  },
  {
   "cell_type": "code",
   "execution_count": 8,
   "metadata": {},
   "outputs": [
    {
     "data": {
      "text/markdown": [
       "Imagine a perfectly spherical, frictionless ball rolling on the inside of a stationary, perfectly smooth cone, whose tip points directly downwards. The ball is given an initial horizontal velocity, causing it to trace a path around the cone. Describe, qualitatively and quantitatively, the long-term behavior of the ball's trajectory, considering all relevant physical principles and potential outcomes. What factors influence whether the ball spirals inwards, outwards, or maintains a stable orbit, and what are the conditions for each scenario? Further, describe the changes in the ball's kinetic and potential energy over time for each scenario.\n"
      ],
      "text/plain": [
       "<IPython.core.display.Markdown object>"
      ]
     },
     "metadata": {},
     "output_type": "display_data"
    }
   ],
   "source": [
    "# Test 02\n",
    "prompt = \"Please propose a hard, challenging question to assess someone's IQ. Respond only with the question.\"\n",
    "result = ask_model(prompt)\n"
   ]
  },
  {
   "cell_type": "code",
   "execution_count": 9,
   "metadata": {},
   "outputs": [
    {
     "data": {
      "text/markdown": [
       "Okay, let's break down this intriguing physics problem. This is a classic setup related to conic motion with some simplifying assumptions.\n",
       "\n",
       "**Assumptions:**\n",
       "\n",
       "*   **Perfectly Spherical Ball:**  This simplifies the analysis, allowing us to treat the ball as a point mass for translational motion. We ignore rotational kinetic energy.\n",
       "*   **Frictionless Surface:** No energy loss due to friction. Total mechanical energy is conserved.\n",
       "*   **Perfectly Smooth Cone:**  Negligible surface imperfections.\n",
       "*   **Stationary Cone:**  The cone itself doesn't move or vibrate.\n",
       "*   **Initial Horizontal Velocity:** The initial velocity vector of the ball is tangent to a horizontal circle on the cone's surface.\n",
       "\n",
       "**Physical Principles:**\n",
       "\n",
       "1.  **Conservation of Energy:**  The total mechanical energy (kinetic + potential) of the ball is constant throughout its motion.  `E = KE + PE = constant`\n",
       "2.  **Conservation of Angular Momentum:** Since the only force acting on the ball besides the normal force is gravity, which acts vertically, the torque about the vertical axis passing through the cone's tip is zero. Therefore, the angular momentum about this axis is conserved. `L = mr^2ω = constant`, where `r` is the horizontal distance from the vertical axis to the ball and `ω` is the angular velocity.\n",
       "3.  **Forces Involved:**\n",
       "    *   **Gravity (mg):** Acts vertically downwards.\n",
       "    *   **Normal Force (N):** The cone exerts a normal force on the ball, perpendicular to the cone's surface at the point of contact.  The normal force can be resolved into vertical and horizontal components.  The vertical component balances the gravitational force. The horizontal component provides the centripetal force necessary for the ball's circular motion.\n",
       "\n",
       "**Coordinate System:**\n",
       "\n",
       "It's helpful to use cylindrical coordinates (r, θ, z) where:\n",
       "\n",
       "*   `r` is the horizontal distance from the cone's axis.\n",
       "*   `θ` is the angular position around the axis.\n",
       "*   `z` is the vertical height above the cone's tip.\n",
       "\n",
       "Let `α` be the half-angle of the cone (the angle between the cone's surface and the vertical).\n",
       "\n",
       "**Quantitative Analysis:**\n",
       "\n",
       "1.  **Forces and Geometry:**\n",
       "\n",
       "    *   The normal force `N` has components:\n",
       "        *   `N_z = N cos(α)` (vertical)\n",
       "        *   `N_r = N sin(α)` (horizontal, towards the center)\n",
       "    *   Vertical equilibrium:  `N cos(α) = mg`, so `N = mg / cos(α)`\n",
       "    *   Horizontal force provides centripetal acceleration: `N sin(α) = m v^2 / r`, where `v` is the speed of the ball.  Substituting for N, we get: `mg tan(α) = m v^2 / r`, which simplifies to `v^2 = gr tan(α)`.\n",
       "\n",
       "2.  **Energy Conservation:**\n",
       "\n",
       "    *   `E = (1/2)mv^2 + mgz = constant`\n",
       "    *   Since `z = r cot(α)`, we have  `E = (1/2)mv^2 + mgr cot(α) = constant`\n",
       "\n",
       "3.  **Angular Momentum Conservation:**\n",
       "\n",
       "    *   `L = mr^2ω = mr v = constant`  (since `v = rω`)  Therefore, `v = L / (mr)`.\n",
       "\n",
       "4.  **Combining the Equations:**\n",
       "\n",
       "    *   Substitute `v = L / (mr)` into the energy conservation equation:\n",
       "        `E = (1/2)m(L/mr)^2 + mgr cot(α) = (1/2)mL^2 / (m^2r^2) + mgr cot(α)`\n",
       "        `E = L^2 / (2mr^2) + mgr cot(α)`\n",
       "    *   We can rearrange this to find `r` as a function of `E`, `L`, and the constants:\n",
       "        `2mr^2(E - mgr cot(α)) = L^2`\n",
       "        `r^2 = L^2 / (2m(E - mgr cot(α)))`\n",
       "        `r = √(L^2 / (2m(E - mgr cot(α))))`\n",
       "\n",
       "**Qualitative Analysis and Potential Outcomes:**\n",
       "\n",
       "The equation for 'r' is crucial.  The behavior of the ball depends on the relationship between the total energy (E), angular momentum (L), the gravitational constant (g), the cone angle (α), and the ball's mass (m).  Let's consider the scenarios:\n",
       "\n",
       "*   **Stable Orbit (Constant Radius):** A stable orbit occurs when the radius 'r' remains constant over time. This happens when the ball is initially placed on the cone with the *exactly correct* initial velocity for its height.  In this case, the initial potential energy and kinetic energy are perfectly balanced to satisfy the energy conservation and angular momentum conservation equations simultaneously. The ball simply traces a horizontal circle. The condition is `E = (L^2)/(2mr^2) + mgr cot(α)` with `r` and `v` consistent. This corresponds to the bottom of the effective potential well.\n",
       "\n",
       "*   **Spiraling Inwards or Outwards (Oscillatory Motion):**  If the initial conditions are not *exactly* right for a stable orbit, the ball will oscillate between a minimum and maximum radius.  This is because the energy conservation and angular momentum conservation equations constrain the motion. The ball cannot simply lose energy (it's frictionless) or change its angular momentum (no external torques).\n",
       "\n",
       "    *   **Why Oscillation?** Think of it like a ball in a potential well. The conservation laws create an *effective potential* that the ball moves within. The *effective potential energy* combines the true potential energy from gravity with a \"centrifugal potential energy\" term arising from the conservation of angular momentum.  If the ball is not at the bottom of this effective potential well, it will oscillate around the minimum.\n",
       "    *   **Factors Influencing Spiraling:**\n",
       "        *   *Initial Conditions:* The initial height (potential energy) and initial horizontal velocity (kinetic energy and angular momentum) determine the total energy and angular momentum.  A slightly too high initial velocity at a given height will cause the ball to spiral outwards, reaching a higher maximum radius. A slightly too low initial velocity will cause it to spiral inwards, reaching a smaller minimum radius.\n",
       "        *   *Cone Angle (α):*  The cone angle influences the normal force and the relationship between height and radius (z = r cot(α)). A steeper cone requires a higher initial velocity for a stable orbit at a given radius.\n",
       "        *   *Gravity (g):*  Gravity affects the potential energy directly.\n",
       "        *   *Mass (m):* Mass affects the kinetic energy and, combined with the radius and velocity, the angular momentum.\n",
       "\n",
       "    *   **Turning Points:** The points where the ball stops spiraling inwards or outwards are determined by the condition where the radial velocity (dr/dt) is zero. These turning points correspond to the minimum and maximum values of 'r' allowed by the total energy and angular momentum.\n",
       "        *   These points are found by examining `r = √(L^2 / (2m(E - mgr cot(α))))`. The values for E and L are fixed by initial conditions. The allowed radii can be found numerically using these values.\n",
       "\n",
       "*   **Impact at Cone's Tip (Idealized):** In the idealized scenario, if the ball spirals inwards enough, theoretically, it could reach `r = 0`, meaning the tip of the cone.  However, several things make this highly unlikely in any real-world situation:\n",
       "    *   *The assumption of a point mass is violated:*  The ball has a finite size.\n",
       "    *   *The cone isn't perfectly sharp:* The tip has some curvature.\n",
       "    *   *Instabilities*: Minute perturbations not accounted for in the model may cause the ball to depart from ideal behavior.\n",
       "\n",
       "**Energy Changes Over Time:**\n",
       "\n",
       "*   **Stable Orbit:** Kinetic and potential energy remain constant.\n",
       "*   **Spiraling:** Kinetic and potential energy oscillate. As the ball spirals inwards (r decreases), the potential energy decreases (z decreases), and the kinetic energy increases (v increases to conserve angular momentum). As the ball spirals outwards (r increases), the potential energy increases, and the kinetic energy decreases. The *total energy* remains constant.\n",
       "\n",
       "**Important Considerations:**\n",
       "\n",
       "*   **Effective Potential:**  A more sophisticated analysis would involve plotting the effective potential energy, which is the sum of the gravitational potential energy and the \"centrifugal potential\" term (`L^2 / (2mr^2)`). This provides a visual way to understand the possible motions.\n",
       "\n",
       "*   **Small Oscillations:**  Near the stable orbit, you can approximate the oscillatory motion as simple harmonic motion by expanding the effective potential around its minimum.\n",
       "\n",
       "*   **Real-World Deviations:**  In a real-world scenario, the frictionless assumption is the most problematic. Even a tiny amount of friction will eventually cause the ball to lose energy and spiral inwards, eventually coming to rest at the bottom of the cone (if possible) or reaching some stable position determined by the cone's imperfections and the ball's size. Air resistance would also play a role.\n",
       "\n",
       "**In Summary:**\n",
       "\n",
       "The ball's trajectory depends critically on the initial conditions. A perfectly chosen initial velocity leads to a stable circular orbit. Deviations from this perfect condition result in oscillatory motion (spiraling inwards and outwards) while conserving total energy and angular momentum. Friction, which is ignored in this idealized problem, is the main factor that will eventually stop the motion.\n"
      ],
      "text/plain": [
       "<IPython.core.display.Markdown object>"
      ]
     },
     "metadata": {},
     "output_type": "display_data"
    }
   ],
   "source": [
    "# Test 03\n",
    "prompt = f\"Find the solution for this: {result}\"\n",
    "result = ask_model(prompt)\n"
   ]
  }
 ],
 "metadata": {
  "kernelspec": {
   "display_name": ".venv",
   "language": "python",
   "name": "python3"
  },
  "language_info": {
   "codemirror_mode": {
    "name": "ipython",
    "version": 3
   },
   "file_extension": ".py",
   "mimetype": "text/x-python",
   "name": "python",
   "nbconvert_exporter": "python",
   "pygments_lexer": "ipython3",
   "version": "3.12.11"
  }
 },
 "nbformat": 4,
 "nbformat_minor": 2
}
