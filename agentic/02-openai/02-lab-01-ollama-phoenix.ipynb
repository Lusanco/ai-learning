{
 "cells": [
  {
   "cell_type": "code",
   "execution_count": 28,
   "id": "d86da83f",
   "metadata": {},
   "outputs": [],
   "source": [
    "# Imports\n",
    "import os\n",
    "import asyncio\n",
    "from typing import cast\n",
    "from dotenv import load_dotenv\n",
    "from typing import Dict\n",
    "from agents import Agent, Runner, OpenAIChatCompletionsModel, AsyncOpenAI\n",
    "from openai.types.responses import ResponseTextDeltaEvent\n",
    "\n",
    "\n",
    "# Arize Phoenix Tracer\n",
    "from phoenix.otel import register\n",
    "from opentelemetry import trace as otel_trace\n",
    "\n",
    "\n",
    "# Markdown output display\n",
    "from IPython.display import Markdown, display"
   ]
  },
  {
   "cell_type": "code",
   "execution_count": 29,
   "id": "178bbe83",
   "metadata": {},
   "outputs": [],
   "source": [
    "# Cast to String\n",
    "def env_to_str(env: str) -> str:\n",
    "    return cast(str, os.getenv(env))"
   ]
  },
  {
   "cell_type": "code",
   "execution_count": 30,
   "id": "057f3999",
   "metadata": {},
   "outputs": [],
   "source": [
    "# Load Environment Variables\n",
    "load_dotenv(override=True)\n",
    "\n",
    "# Ollama Environment Variables\n",
    "ollama_api_key = env_to_str('OLLAMA_API_KEY')\n",
    "ollama_base_url = env_to_str('OLLAMA_BASE_URL')\n",
    "model_llama = env_to_str('MODEL_LLAMA3')\n",
    "\n",
    "# Phoenix Collector Variables\n",
    "phoenix_collector_endpoint = env_to_str(\"PHOENIX_COLLECTOR_ENDPOINT\") or \"http://localhost:6006/v1/traces\"\n",
    "\n",
    "# Maileroo Environment Variables\n",
    "maileroo_api_key = env_to_str(\"MAILEROO_API_KEY\")\n",
    "maileroo_base_url = env_to_str(\"MAILEROO_BASE_URL\")\n",
    "maileroo_template_url = env_to_str(\"MAILEROO_TEMPLATE_URL\")"
   ]
  },
  {
   "cell_type": "code",
   "execution_count": 31,
   "id": "d8457437",
   "metadata": {},
   "outputs": [],
   "source": [
    "# Agent Workflow Instructions\n",
    "\n",
    "instructions1 = \"You are a sales agent working for ComplAI, \\\n",
    "a company that provides a SaaS tool for ensuring SOC2 compliance and preparing for audits, powered by AI. \\\n",
    "You write professional, serious cold emails.\"\n",
    "\n",
    "instructions2 = \"You are a humorous, engaging sales agent working for ComplAI, \\\n",
    "a company that provides a SaaS tool for ensuring SOC2 compliance and preparing for audits, powered by AI. \\\n",
    "You write witty, engaging cold emails that are likely to get a response.\"\n",
    "\n",
    "instructions3 = \"You are a busy sales agent working for ComplAI, \\\n",
    "a company that provides a SaaS tool for ensuring SOC2 compliance and preparing for audits, powered by AI. \\\n",
    "You write concise, to the point cold emails.\""
   ]
  },
  {
   "cell_type": "code",
   "execution_count": 32,
   "id": "f720087a",
   "metadata": {},
   "outputs": [
    {
     "name": "stderr",
     "output_type": "stream",
     "text": [
      "Overriding of current TracerProvider is not allowed\n",
      "DependencyConflict: requested: \"openai-agents >= 0.1.0\" but found: \"openai-agents 0.0.17\"\n",
      "DependencyConflict: requested: \"google-genai\" but found: \"None\"\n"
     ]
    },
    {
     "name": "stdout",
     "output_type": "stream",
     "text": [
      "🔭 OpenTelemetry Tracing Details 🔭\n",
      "|  Phoenix Project: ollama_phoenix\n",
      "|  Span Processor: SimpleSpanProcessor\n",
      "|  Collector Endpoint: http://localhost:6006/v1/traces\n",
      "|  Transport: HTTP + protobuf\n",
      "|  Transport Headers: {}\n",
      "|  \n",
      "|  Using a default SpanProcessor. `add_span_processor` will overwrite this default.\n",
      "|  \n",
      "|  ⚠️ WARNING: It is strongly advised to use a BatchSpanProcessor in production environments.\n",
      "|  \n",
      "|  `register` has set this TracerProvider as the global OpenTelemetry default.\n",
      "|  To disable this behavior, call `register` with `set_global_tracer_provider=False`.\n",
      "\n"
     ]
    },
    {
     "data": {
      "text/markdown": [
       "✅ Phoenix tracer registered successfully"
      ],
      "text/plain": [
       "<IPython.core.display.Markdown object>"
      ]
     },
     "metadata": {},
     "output_type": "display_data"
    }
   ],
   "source": [
    "# Configure Phoenix Tracer\n",
    "try:\n",
    "    tracer_provider = register(\n",
    "    project_name=\"ollama_phoenix\",\n",
    "    auto_instrument=True,\n",
    "    endpoint=phoenix_collector_endpoint,\n",
    "    set_global_tracer_provider=True\n",
    ")\n",
    "    display(Markdown(\"✅ Phoenix tracer registered successfully\"))\n",
    "except Exception as e:\n",
    "    display(Markdown(f\"❌ Phoenix registration failed: {e}\"))"
   ]
  },
  {
   "cell_type": "code",
   "execution_count": 33,
   "id": "3a7488b3",
   "metadata": {},
   "outputs": [],
   "source": [
    "# Ollama Model\n",
    "ollama_model = OpenAIChatCompletionsModel(\n",
    "    model=model_llama,\n",
    "    openai_client=AsyncOpenAI(\n",
    "        api_key=ollama_api_key, \n",
    "        base_url=ollama_base_url\n",
    "    )\n",
    ")"
   ]
  },
  {
   "cell_type": "code",
   "execution_count": 34,
   "id": "0b6aec86",
   "metadata": {},
   "outputs": [],
   "source": [
    "# Agents\n",
    "\n",
    "sales_agent1 = Agent(\n",
    "        name=\"Professional Sales Agent\",\n",
    "        instructions=instructions1,\n",
    "        model=ollama_model\n",
    ")\n",
    "\n",
    "sales_agent2 = Agent(\n",
    "        name=\"Engaging Sales Agent\",\n",
    "        instructions=instructions2,\n",
    "        model=ollama_model\n",
    ")\n",
    "\n",
    "sales_agent3 = Agent(\n",
    "        name=\"Busy Sales Agent\",\n",
    "        instructions=instructions3,\n",
    "        model=ollama_model\n",
    ")"
   ]
  },
  {
   "cell_type": "code",
   "execution_count": 35,
   "id": "b875b71b",
   "metadata": {},
   "outputs": [],
   "source": [
    "# Phoenix Tracer\n",
    "async def phoenix_tracer(trace_name, message, *agents):\n",
    "    tracer = otel_trace.get_tracer(__name__)\n",
    "    with tracer.start_as_current_span(trace_name):\n",
    "        if agents:\n",
    "            for index, agent in enumerate(agents):\n",
    "                # print(f\"  Argument {index+1}: {agent}\")\n",
    "        \n",
    "                # # Trace Attributes\n",
    "                # current_span = otel_trace.get_current_span()\n",
    "                # current_span.set_attribute(\"user.request\", message)\n",
    "                # current_span.set_attribute(\"agent.name\", agent.name)\n",
    "                # current_span.set_attribute(\"model.name\", model_llama)\n",
    "                results = await asyncio.gather(\n",
    "                    *[Runner.run(agent, message) for agent in agents]\n",
    "                )\n",
    "\n",
    "        else:\n",
    "            print(\"No additional arguments provided.\")\n",
    "\n",
    "        outputs = [result.final_output for result in results]\n",
    "        # result = await Runner.run(agents, message)\n",
    "        \n",
    "        # # Add response attributes\n",
    "        # current_span.set_attribute(\"response.length\", len(result.final_output))\n",
    "        # current_span.set_attribute(\"response.preview\", result.final_output[:100])\n",
    "        for output in outputs:\n",
    "            display(Markdown(output))\n",
    "        return outputs"
   ]
  },
  {
   "cell_type": "code",
   "execution_count": 36,
   "id": "062cd323",
   "metadata": {},
   "outputs": [
    {
     "data": {
      "text/markdown": [
       "Here's a sample cold sales email:\n",
       "\n",
       "Subject: Ensure Confidence in Your Organization's Compliance Process\n",
       "\n",
       "Dear [Recipient],\n",
       "\n",
       "As a [Company Title] at [Company Name], I'm reaching out to introduce you to ComplAI, a cutting-edge SaaS solution designed to simplify and streamline your organization's SOC2 compliance journey.\n",
       "\n",
       "In today's complex regulatory landscape, ensuring the security and integrity of sensitive client data is not just a best practice – it's a business necessity. As an [Industry/Market] provider, I understand that maintaining rigorous audit protocols is critical to upholding the trust of clients and partners alike.\n",
       "\n",
       "ComplAI's innovative platform leverages artificial intelligence (AI) to guide your organization through every step of the SOC2 compliance process, from scoping to reporting. With our tool, you'll gain unparalleled visibility into assessment activities, instantaneously generate comprehensive reports, and enjoy effortless audit prep capabilities – all in a secure, cloud-based environment.\n",
       "\n",
       "Our valued clients achieve significant benefits, including:\n",
       "\n",
       "* 90% reduction in manual effort\n",
       "* 50% decrease in project timelines\n",
       "* Enhanced transparency and stakeholder confidence\n",
       "\n",
       "If you're struggling to manage SOC2 compliance or experiencing difficulties with audit preparation, I'd like to schedule a brief consultation to discuss how ComplAI can help. Your organization deserves assurance that its compliance processes are secure, efficient – and built on the latest technology advancements.\n",
       "\n",
       "Would you be available for a 15-minute call to explore your current challenges and review our tailored approach? Please let me know if you're interested or prefer additional information at your convenience.\n",
       "\n",
       "Looking forward to helping you unlock confidence in your organization's compliance process with ComplAI.\n",
       "\n",
       "Best regards,\n",
       "\n",
       "[Your Name]\n",
       "Sales Agent, ComplAI\n",
       "[Contact Information]"
      ],
      "text/plain": [
       "<IPython.core.display.Markdown object>"
      ]
     },
     "metadata": {},
     "output_type": "display_data"
    },
    {
     "data": {
      "text/markdown": [
       "Here's a cold sales email:\n",
       "\n",
       "**Subject: Alert: Your Security Audit is Coming! Are You Ready? **\n",
       "\n",
       "Dear [First Name],\n",
       "\n",
       " Congrats! Your company is growing rapidly, which means you're probably about to earn the elusive SOC2 designation - a badge of honor that says \"We take security seriously!\" \n",
       "\n",
       "But before the audit crew arrives with their clipboards and questioning faces... Have you reviewed your compliance documentation lately? We didn't think so!\n",
       "\n",
       "Introducing ComplAI: Your AI-powered SOC2 compliance sidekick! Our SaaS tool helps ensure you're audit-ready, saving you hours of paperwork drudgery (yes, that's a thing).\n",
       "\n",
       "With ComplAI, you'll get:\n",
       "\n",
       " Customized compliance checklists\n",
       " Automated document review and updating\n",
       " Real-time monitoring of your security controls\n",
       "\n",
       "Don't let one incorrect checkbox or outdated report ruin the party! Schedule a demo with me to see how ComplAI can save you from audit anxiety and position your company for long-term success.\n",
       "\n",
       "Hit reply, give me a quick call, or schedule a time that works best for you here: [Calendar link]\n",
       "\n",
       "Hope to chat soon!\n",
       "\n",
       "Best regards,\n",
       "\n",
       "[Your Name]\n",
       "ComplAI Team\n",
       "\n",
       "P.S. Did we mention we have a 30-day money-back guarantee? No strings attached. Just audit readiness and peace of mind!\n",
       "\n",
       "This email aims to:\n",
       "\n",
       "* Grab attention with a lighthearted and relevant hook (SOC2 audit coming soon!)\n",
       "* Introduce ComplAI as the solution to prevent audit anxiety\n",
       "* Highlight key features and benefits in 3 bullet points\n",
       "* Create urgency and encouragement for scheduling a demo\n",
       "* End on a friendly note with a P.S. section"
      ],
      "text/plain": [
       "<IPython.core.display.Markdown object>"
      ]
     },
     "metadata": {},
     "output_type": "display_data"
    },
    {
     "data": {
      "text/markdown": [
       "Here's a cold sales email:\n",
       "\n",
       "Subject: Ensure Seamless SOC 2 Compliance with ComplAI\n",
       "\n",
       "Hi [Recipient's Name],\n",
       "\n",
       "As a service provider, you understand the importance of maintaining strict compliance standards to protect sensitive client data and maintain trust in your business.\n",
       "\n",
       "Are you tired of tedious audit preparations? Are security frameworks like NIST CSP and PCI-DSS becoming overwhelming?\n",
       "\n",
       "Our AI-powered SaaS tool at ComplAI simplifies SOC 2 compliance. In under 30 minutes, you can:\n",
       "\n",
       "* Generate comprehensive audit reports\n",
       "* Automate documentation and evidence collection\n",
       "* Receive real-time data on your compliance status\n",
       "\n",
       "Want to experience the ease of compliant operations? Schedule a demo with us and discover how ComplAI can elevate your SOC 2 game.\n",
       "\n",
       "Best regards,\n",
       "\n",
       "[Your Name]\n",
       "Sales Agent, ComplAI"
      ],
      "text/plain": [
       "<IPython.core.display.Markdown object>"
      ]
     },
     "metadata": {},
     "output_type": "display_data"
    }
   ],
   "source": [
    "result = await phoenix_tracer(\n",
    "    \"Parallel Cold Emails\", \n",
    "    \"Write a cold sales email.\", \n",
    "    sales_agent1, \n",
    "    sales_agent2, \n",
    "    sales_agent3\n",
    ")"
   ]
  }
 ],
 "metadata": {
  "kernelspec": {
   "display_name": "agentic",
   "language": "python",
   "name": "python3"
  },
  "language_info": {
   "codemirror_mode": {
    "name": "ipython",
    "version": 3
   },
   "file_extension": ".py",
   "mimetype": "text/x-python",
   "name": "python",
   "nbconvert_exporter": "python",
   "pygments_lexer": "ipython3",
   "version": "3.12.11"
  }
 },
 "nbformat": 4,
 "nbformat_minor": 5
}
