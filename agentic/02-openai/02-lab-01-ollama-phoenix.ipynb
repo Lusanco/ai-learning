{
 "cells": [
  {
   "cell_type": "code",
   "execution_count": 55,
   "id": "d86da83f",
   "metadata": {},
   "outputs": [],
   "source": [
    "# Imports\n",
    "import os\n",
    "import asyncio\n",
    "from typing import cast\n",
    "from dotenv import load_dotenv\n",
    "from typing import Dict\n",
    "from agents import Agent, Runner, OpenAIChatCompletionsModel, AsyncOpenAI\n",
    "from openai.types.responses import ResponseTextDeltaEvent\n",
    "\n",
    "\n",
    "# Arize Phoenix Tracer\n",
    "from phoenix.otel import register\n",
    "from opentelemetry import trace as otel_trace\n",
    "\n",
    "\n",
    "# Markdown output display\n",
    "from IPython.display import Markdown, display"
   ]
  },
  {
   "cell_type": "code",
   "execution_count": 56,
   "id": "178bbe83",
   "metadata": {},
   "outputs": [],
   "source": [
    "# Cast to String\n",
    "def env_to_str(env: str) -> str:\n",
    "    return cast(str, os.getenv(env))"
   ]
  },
  {
   "cell_type": "code",
   "execution_count": 57,
   "id": "057f3999",
   "metadata": {},
   "outputs": [],
   "source": [
    "# Load Environment Variables\n",
    "load_dotenv(override=True)\n",
    "\n",
    "# Ollama Environment Variables\n",
    "ollama_api_key = env_to_str('OLLAMA_API_KEY')\n",
    "ollama_base_url = env_to_str('OLLAMA_BASE_URL')\n",
    "model_llama = env_to_str('MODEL_LLAMA3')\n",
    "\n",
    "# Phoenix Collector Variables\n",
    "phoenix_collector_endpoint = env_to_str(\"PHOENIX_COLLECTOR_ENDPOINT\") or \"http://localhost:6006/v1/traces\"\n",
    "\n",
    "# Maileroo Environment Variables\n",
    "maileroo_api_key = env_to_str(\"MAILEROO_API_KEY\")\n",
    "maileroo_base_url = env_to_str(\"MAILEROO_BASE_URL\")\n",
    "maileroo_template_url = env_to_str(\"MAILEROO_TEMPLATE_URL\")"
   ]
  },
  {
   "cell_type": "code",
   "execution_count": 58,
   "id": "d8457437",
   "metadata": {},
   "outputs": [],
   "source": [
    "# Agent Workflow Instructions\n",
    "\n",
    "instructions1 = \"You are a sales agent working for ComplAI, \\\n",
    "a company that provides a SaaS tool for ensuring SOC2 compliance and preparing for audits, powered by AI. \\\n",
    "You write professional, serious cold emails.\"\n",
    "\n",
    "instructions2 = \"You are a humorous, engaging sales agent working for ComplAI, \\\n",
    "a company that provides a SaaS tool for ensuring SOC2 compliance and preparing for audits, powered by AI. \\\n",
    "You write witty, engaging cold emails that are likely to get a response.\"\n",
    "\n",
    "instructions3 = \"You are a busy sales agent working for ComplAI, \\\n",
    "a company that provides a SaaS tool for ensuring SOC2 compliance and preparing for audits, powered by AI. \\\n",
    "You write concise, to the point cold emails.\""
   ]
  },
  {
   "cell_type": "code",
   "execution_count": 59,
   "id": "f720087a",
   "metadata": {},
   "outputs": [
    {
     "name": "stderr",
     "output_type": "stream",
     "text": [
      "Overriding of current TracerProvider is not allowed\n",
      "DependencyConflict: requested: \"openai-agents >= 0.1.0\" but found: \"openai-agents 0.0.17\"\n",
      "DependencyConflict: requested: \"google-genai\" but found: \"None\"\n"
     ]
    },
    {
     "name": "stdout",
     "output_type": "stream",
     "text": [
      "🔭 OpenTelemetry Tracing Details 🔭\n",
      "|  Phoenix Project: ollama_phoenix\n",
      "|  Span Processor: SimpleSpanProcessor\n",
      "|  Collector Endpoint: http://localhost:6006/v1/traces\n",
      "|  Transport: HTTP + protobuf\n",
      "|  Transport Headers: {}\n",
      "|  \n",
      "|  Using a default SpanProcessor. `add_span_processor` will overwrite this default.\n",
      "|  \n",
      "|  ⚠️ WARNING: It is strongly advised to use a BatchSpanProcessor in production environments.\n",
      "|  \n",
      "|  `register` has set this TracerProvider as the global OpenTelemetry default.\n",
      "|  To disable this behavior, call `register` with `set_global_tracer_provider=False`.\n",
      "\n"
     ]
    },
    {
     "data": {
      "text/markdown": [
       "✅ Phoenix tracer registered successfully"
      ],
      "text/plain": [
       "<IPython.core.display.Markdown object>"
      ]
     },
     "metadata": {},
     "output_type": "display_data"
    }
   ],
   "source": [
    "# Configure Phoenix Tracer\n",
    "try:\n",
    "    tracer_provider = register(\n",
    "    project_name=\"ollama_phoenix\",\n",
    "    auto_instrument=True,\n",
    "    endpoint=phoenix_collector_endpoint,\n",
    "    set_global_tracer_provider=True\n",
    ")\n",
    "    display(Markdown(\"✅ Phoenix tracer registered successfully\"))\n",
    "except Exception as e:\n",
    "    display(Markdown(f\"❌ Phoenix registration failed: {e}\"))"
   ]
  },
  {
   "cell_type": "code",
   "execution_count": 60,
   "id": "3a7488b3",
   "metadata": {},
   "outputs": [],
   "source": [
    "# Ollama Model\n",
    "ollama_model = OpenAIChatCompletionsModel(\n",
    "    model=model_llama,\n",
    "    openai_client=AsyncOpenAI(\n",
    "        api_key=ollama_api_key, \n",
    "        base_url=ollama_base_url\n",
    "    )\n",
    ")"
   ]
  },
  {
   "cell_type": "code",
   "execution_count": 61,
   "id": "0b6aec86",
   "metadata": {},
   "outputs": [],
   "source": [
    "# Agents\n",
    "\n",
    "sales_agent1 = Agent(\n",
    "        name=\"Professional Sales Agent\",\n",
    "        instructions=instructions1,\n",
    "        model=ollama_model\n",
    ")\n",
    "\n",
    "sales_agent2 = Agent(\n",
    "        name=\"Engaging Sales Agent\",\n",
    "        instructions=instructions2,\n",
    "        model=ollama_model\n",
    ")\n",
    "\n",
    "sales_agent3 = Agent(\n",
    "        name=\"Busy Sales Agent\",\n",
    "        instructions=instructions3,\n",
    "        model=ollama_model\n",
    ")"
   ]
  },
  {
   "cell_type": "code",
   "execution_count": 62,
   "id": "b875b71b",
   "metadata": {},
   "outputs": [],
   "source": [
    "# Phoenix Tracer\n",
    "async def phoenix_tracer(trace_name, message, *agents):\n",
    "    tracer = otel_trace.get_tracer(__name__)\n",
    "    with tracer.start_as_current_span(trace_name) as current_span:\n",
    "        if agents:\n",
    "            \n",
    "            # Trace Attributes\n",
    "            current_span.set_attribute(\"user.request\", message)\n",
    "            current_span.set_attribute(\"model.name\", model_llama)\n",
    "            \n",
    "            for index, agent in enumerate(agents):\n",
    "                \n",
    "                # Trace Attributes\n",
    "                current_span.set_attribute(\"agent.name\", agent.name)\n",
    "        \n",
    "                results = await asyncio.gather(\n",
    "                    *[Runner.run(agent, message) for agent in agents]\n",
    "                )\n",
    "\n",
    "                outputs = []\n",
    "\n",
    "                for result in results:\n",
    "                    outputs.append(result.final_output)\n",
    "\n",
    "                if outputs:\n",
    "                    total_length = sum(len(output) for output in outputs)\n",
    "                    \n",
    "                    # Add response attributes\n",
    "                    current_span.set_attribute(\"response.length\", total_length)\n",
    "                    current_span.set_attribute(\"response.preview\", outputs[0][:100] if outputs[0] else \"\")\n",
    "        else:\n",
    "            print(\"No additional arguments provided.\")\n",
    "\n",
    "        # outputs = [result.final_output for result in results]\n",
    "        \n",
    "        \n",
    "        for output in outputs:\n",
    "            display(Markdown(output))\n",
    "        return outputs"
   ]
  },
  {
   "cell_type": "code",
   "execution_count": 63,
   "id": "062cd323",
   "metadata": {},
   "outputs": [
    {
     "data": {
      "text/markdown": [
       "Subject: Enhance Your Organization's Compliance with Industry-Grade Security\n",
       "\n",
       "Dear [Recipient Name],\n",
       "\n",
       "I noticed that your organization, [Organization Name], has been actively taking steps to maintain the trust of its stakeholders by adhering to industry standards and best practices. However, ensuring constant compliance with SOC 2 requirements can be an ongoing challenge for businesses like yours.\n",
       "\n",
       "At ComplAI, we understand the complexities involved in preparing for audits and maintaining compliance throughout your organization. That's why our team has developed a comprehensive SaaS tool that utilizes AI to streamline the process of identifying, assessing, and remediating any potential vulnerabilities or areas for improvement.\n",
       "\n",
       "Our software is designed to guide you through key tasks such as policy development, control implementation, and ongoing assessments to guarantee an efficient and effective SOC 2 process. By leveraging our tool, you can save significant time and resources while ensuring your organization meets the highest industry standards, thus increasing stakeholder confidence.\n",
       "\n",
       "Would like to schedule a quick call at your earliest convenience to see how ComplAI's solution can address specific compliance challenges your team faces?\n",
       "\n",
       "To accommodate different time zones or preferences, I'd prefer it if we could fix something up as early as later this week. It will only take about 15 minutes of your time and would give me an opportunity to better understand your requirements.\n",
       "\n",
       "If you're not the right person for this conversation or cannot participate in a call at such short notice, please feel free to inform me and I'll make sure someone else on my team contacts you instead.\n",
       "\n",
       "Looking forward to hearing back from you soon."
      ],
      "text/plain": [
       "<IPython.core.display.Markdown object>"
      ]
     },
     "metadata": {},
     "output_type": "display_data"
    },
    {
     "data": {
      "text/markdown": [
       "Here's one:\n",
       "\n",
       "Subject: Don't Let the Auditors Get the Best of You \n",
       "\n",
       "Hey [First Name],\n",
       "\n",
       " Congrats! You made it out of last quarter's audit with flying colors (we know, we know, auditor-speak is the worst). But let's be real – you're probably already dreading the next audit. And for good reason: compliance headaches are like having a bad habit you just can't shake.\n",
       "\n",
       "That's where ComplAI comes in! Our magical SaaS platform uses AI to help your team prep for audits like pros, so you can breathe easy (and save some $$). No more sleepless nights poring over policies or worrying about mislabeled \"medium-risks\" . \n",
       "\n",
       "Ready to trade compliance stress for compliant bliss? We'd love to show you ComplAI's SOC2 powers in action. Let us know when you're free for a quick demo, and we'll whip out the highlights reel.\n",
       "\n",
       "Cheers,\n",
       "[Your Name]\n",
       "@ComplAI\n",
       "Your compliant sidekicks\n",
       "\n",
       "P.S: If you're already using [ Competitor X ], you might want to check our free comparison guide – wink-wink."
      ],
      "text/plain": [
       "<IPython.core.display.Markdown object>"
      ]
     },
     "metadata": {},
     "output_type": "display_data"
    },
    {
     "data": {
      "text/markdown": [
       "Here is a sample cold sales email:\n",
       "\n",
       "Subject: Streamline Your Audit Process with ComplAI\n",
       "\n",
       "Hi [First Name],\n",
       "\n",
       "As an IT leader, you know how burdensome compliance audits can be on your team's time and resources. Our experience shows that companies like yours often struggle to maintain accurate documentation and meet SOC2 standards.\n",
       "\n",
       "That's where ComplAI comes in - our AI-powered tool ensures seamless audit prep, minimizing stress and errors for your teams. With ComplAI, you'll enjoy:\n",
       "\n",
       "Effortless policy maintenance\n",
       "Automated control evidence generation\n",
       "Instant access to audit-ready reports\n",
       "\n",
       "Curious how ComplAI can transform your compliance journey? Let's schedule a quick demo.\n",
       "\n",
       "Best,\n",
       "[Your Name]\n",
       "\n",
       "P.S. - ComplAI is designed for [SMB/Enterprise] companies like yours. Check out our success stories with other industry leaders on our website.\n",
       "\n",
       "This email aims to:\n",
       "\n",
       "* Grab attention with relevance and concision\n",
       "* Highlight pain points and solution value\n",
       "* Offer a quick, convenient next step (demo)\n",
       "* Show credibility with industry focus"
      ],
      "text/plain": [
       "<IPython.core.display.Markdown object>"
      ]
     },
     "metadata": {},
     "output_type": "display_data"
    }
   ],
   "source": [
    "result = await phoenix_tracer(\n",
    "    \"Parallel Cold Emails\", \n",
    "    \"Write a cold sales email.\", \n",
    "    sales_agent1, \n",
    "    sales_agent2, \n",
    "    sales_agent3\n",
    ")"
   ]
  }
 ],
 "metadata": {
  "kernelspec": {
   "display_name": "agentic",
   "language": "python",
   "name": "python3"
  },
  "language_info": {
   "codemirror_mode": {
    "name": "ipython",
    "version": 3
   },
   "file_extension": ".py",
   "mimetype": "text/x-python",
   "name": "python",
   "nbconvert_exporter": "python",
   "pygments_lexer": "ipython3",
   "version": "3.12.11"
  }
 },
 "nbformat": 4,
 "nbformat_minor": 5
}
