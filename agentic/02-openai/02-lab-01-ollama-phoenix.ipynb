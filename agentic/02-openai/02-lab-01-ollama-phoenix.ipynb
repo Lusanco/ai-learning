{
 "cells": [
  {
   "cell_type": "code",
   "execution_count": 28,
   "id": "d86da83f",
   "metadata": {},
   "outputs": [],
   "source": [
    "# Imports\n",
    "import os\n",
    "import asyncio\n",
    "from typing import cast\n",
    "from dotenv import load_dotenv\n",
    "from typing import Dict\n",
    "from agents import Agent, Runner, OpenAIChatCompletionsModel, AsyncOpenAI\n",
    "from openai.types.responses import ResponseTextDeltaEvent\n",
    "\n",
    "\n",
    "# Arize Phoenix Tracer\n",
    "from phoenix.otel import register\n",
    "from opentelemetry import trace as otel_trace\n",
    "\n",
    "\n",
    "# Markdown output display\n",
    "from IPython.display import Markdown, display"
   ]
  },
  {
   "cell_type": "code",
   "execution_count": 29,
   "id": "178bbe83",
   "metadata": {},
   "outputs": [],
   "source": [
    "# Cast to String\n",
    "def env_to_str(env: str) -> str:\n",
    "    return cast(str, os.getenv(env))"
   ]
  },
  {
   "cell_type": "code",
   "execution_count": 30,
   "id": "057f3999",
   "metadata": {},
   "outputs": [],
   "source": [
    "# Load Environment Variables\n",
    "load_dotenv(override=True)\n",
    "\n",
    "# Ollama Environment Variables\n",
    "ollama_api_key = env_to_str('OLLAMA_API_KEY')\n",
    "ollama_base_url = env_to_str('OLLAMA_BASE_URL')\n",
    "model_llama = env_to_str('MODEL_LLAMA3')\n",
    "\n",
    "# Phoenix Collector Variables\n",
    "phoenix_collector_endpoint = env_to_str(\"PHOENIX_COLLECTOR_ENDPOINT\") or \"http://localhost:6006/v1/traces\"\n",
    "\n",
    "# Maileroo Environment Variables\n",
    "maileroo_api_key = env_to_str(\"MAILEROO_API_KEY\")\n",
    "maileroo_base_url = env_to_str(\"MAILEROO_BASE_URL\")\n",
    "maileroo_template_url = env_to_str(\"MAILEROO_TEMPLATE_URL\")"
   ]
  },
  {
   "cell_type": "code",
   "execution_count": 31,
   "id": "d8457437",
   "metadata": {},
   "outputs": [],
   "source": [
    "# Agent Workflow Instructions\n",
    "\n",
    "instructions1 = \"You are a sales agent working for ComplAI, \\\n",
    "a company that provides a SaaS tool for ensuring SOC2 compliance and preparing for audits, powered by AI. \\\n",
    "You write professional, serious cold emails.\"\n",
    "\n",
    "instructions2 = \"You are a humorous, engaging sales agent working for ComplAI, \\\n",
    "a company that provides a SaaS tool for ensuring SOC2 compliance and preparing for audits, powered by AI. \\\n",
    "You write witty, engaging cold emails that are likely to get a response.\"\n",
    "\n",
    "instructions3 = \"You are a busy sales agent working for ComplAI, \\\n",
    "a company that provides a SaaS tool for ensuring SOC2 compliance and preparing for audits, powered by AI. \\\n",
    "You write concise, to the point cold emails.\""
   ]
  },
  {
   "cell_type": "code",
   "execution_count": 32,
   "id": "f720087a",
   "metadata": {},
   "outputs": [
    {
     "name": "stderr",
     "output_type": "stream",
     "text": [
      "Overriding of current TracerProvider is not allowed\n",
      "DependencyConflict: requested: \"openai-agents >= 0.1.0\" but found: \"openai-agents 0.0.17\"\n",
      "DependencyConflict: requested: \"google-genai\" but found: \"None\"\n"
     ]
    },
    {
     "name": "stdout",
     "output_type": "stream",
     "text": [
      "🔭 OpenTelemetry Tracing Details 🔭\n",
      "|  Phoenix Project: ollama_phoenix\n",
      "|  Span Processor: SimpleSpanProcessor\n",
      "|  Collector Endpoint: http://localhost:6006/v1/traces\n",
      "|  Transport: HTTP + protobuf\n",
      "|  Transport Headers: {}\n",
      "|  \n",
      "|  Using a default SpanProcessor. `add_span_processor` will overwrite this default.\n",
      "|  \n",
      "|  ⚠️ WARNING: It is strongly advised to use a BatchSpanProcessor in production environments.\n",
      "|  \n",
      "|  `register` has set this TracerProvider as the global OpenTelemetry default.\n",
      "|  To disable this behavior, call `register` with `set_global_tracer_provider=False`.\n",
      "\n"
     ]
    },
    {
     "data": {
      "text/markdown": [
       "✅ Phoenix tracer registered successfully"
      ],
      "text/plain": [
       "<IPython.core.display.Markdown object>"
      ]
     },
     "metadata": {},
     "output_type": "display_data"
    }
   ],
   "source": [
    "# Configure Phoenix Tracer\n",
    "try:\n",
    "    tracer_provider = register(\n",
    "    project_name=\"ollama_phoenix\",\n",
    "    auto_instrument=True,\n",
    "    endpoint=phoenix_collector_endpoint,\n",
    "    set_global_tracer_provider=True\n",
    ")\n",
    "    display(Markdown(\"✅ Phoenix tracer registered successfully\"))\n",
    "except Exception as e:\n",
    "    display(Markdown(f\"❌ Phoenix registration failed: {e}\"))"
   ]
  },
  {
   "cell_type": "code",
   "execution_count": 33,
   "id": "3a7488b3",
   "metadata": {},
   "outputs": [],
   "source": [
    "# Ollama Model\n",
    "ollama_model = OpenAIChatCompletionsModel(\n",
    "    model=model_llama,\n",
    "    openai_client=AsyncOpenAI(\n",
    "        api_key=ollama_api_key, \n",
    "        base_url=ollama_base_url\n",
    "    )\n",
    ")"
   ]
  },
  {
   "cell_type": "code",
   "execution_count": 34,
   "id": "0b6aec86",
   "metadata": {},
   "outputs": [],
   "source": [
    "# Agents\n",
    "\n",
    "sales_agent1 = Agent(\n",
    "        name=\"Professional Sales Agent\",\n",
    "        instructions=instructions1,\n",
    "        model=ollama_model\n",
    ")\n",
    "\n",
    "sales_agent2 = Agent(\n",
    "        name=\"Engaging Sales Agent\",\n",
    "        instructions=instructions2,\n",
    "        model=ollama_model\n",
    ")\n",
    "\n",
    "sales_agent3 = Agent(\n",
    "        name=\"Busy Sales Agent\",\n",
    "        instructions=instructions3,\n",
    "        model=ollama_model\n",
    ")\n",
    "\n",
    "sales_picker = Agent(\n",
    "    name=\"sales_picker\",\n",
    "    instructions=\"You pick the best cold sales email from the given options. \\\n",
    "Imagine you are a customer and pick the one you are most likely to respond to. \\\n",
    "Do not give an explanation; reply with the selected email only.\",\n",
    "    model=ollama_model\n",
    ")"
   ]
  },
  {
   "cell_type": "code",
   "execution_count": 40,
   "id": "b875b71b",
   "metadata": {},
   "outputs": [],
   "source": [
    "# Phoenix Tracer\n",
    "async def phoenix_tracer(trace_name, message, *agents):\n",
    "    tracer = otel_trace.get_tracer(__name__)\n",
    "    with tracer.start_as_current_span(trace_name) as current_span:\n",
    "        if agents:\n",
    "            \n",
    "            # Trace Attributes\n",
    "            current_span.set_attribute(\"user.request\", message)\n",
    "            current_span.set_attribute(\"model.name\", model_llama)\n",
    "            \n",
    "            for index, agent in enumerate(agents):\n",
    "                \n",
    "                # Trace Attributes\n",
    "                current_span.set_attribute(\"agent.name\", agent.name)\n",
    "        \n",
    "                results = await asyncio.gather(\n",
    "                    *[Runner.run(agent, message) for agent in agents]\n",
    "                )\n",
    "\n",
    "                outputs = []\n",
    "\n",
    "                for result in results:\n",
    "                    outputs.append(result.final_output)\n",
    "\n",
    "                combined_outputs = \"\\n\\n--- Option ---\\n\\n\".join(outputs)\n",
    "                best = await Runner.run(agents[-1], combined_outputs)\n",
    "\n",
    "                if outputs:\n",
    "                    total_length = sum(len(output) for output in outputs)\n",
    "                    \n",
    "                    # Add response attributes\n",
    "                    current_span.set_attribute(\"response.length\", total_length)\n",
    "                    # current_span.set_attribute(\"response.preview\", outputs[0][:100] if outputs[0] else \"\")\n",
    "                    current_span.set_attribute(\"response.preview\", outputs[0] if outputs[0] else \"\")\n",
    "        else:\n",
    "            print(\"No additional arguments provided.\")\n",
    "\n",
    "        # outputs = [result.final_output for result in results]\n",
    "        \n",
    "        \n",
    "        for output in outputs:\n",
    "            display(Markdown(f\"# Sales Agent:\\n\\n{output}\\n\\n\"))\n",
    "            display(Markdown(f\"# Sales Picker:\\n\\n{best}\"))\n",
    "        return outputs, best"
   ]
  },
  {
   "cell_type": "code",
   "execution_count": 41,
   "id": "062cd323",
   "metadata": {},
   "outputs": [
    {
     "data": {
      "text/markdown": [
       "# Sales Agent:\n",
       "\n",
       "Subject: Enhance Your Organization's Compliance Readiness with ComplAI\n",
       "\n",
       "Dear [Decision Maker],\n",
       "\n",
       "As a seasoned executive in the [industry/field], you understand the importance of maintaining strong compliance controls to protect your organization and its stakeholders. With the ever-increasing demands from regulators, auditors, and the market at large, ensuring SOC 2 compliance can be an uphill battle.\n",
       "\n",
       "ComplAI's advanced SaaS platform utilizes cutting-edge AI technology to empower organizations like yours with automated control monitoring, customizable reporting, and intuitive audit preparation tools. Our goal is to ease your team's burden while elevating your company's risk posture.\n",
       "\n",
       "Key benefits of our solution include:\n",
       "\n",
       "- **Efficient Control Monitoring**: Continuously verifies SOC 2 compliance requirements, ensuring timely updates and accurate documentation.\n",
       "- **Enhanced Security Posture**: Advanced analytics detects vulnerabilities and weaknesses before they become major issues.\n",
       "- **Simplified Audit Preparation**: Comprehensive tools make the audit process more manageable, reducing stress and costs related to preparation.\n",
       "\n",
       "Would you like to schedule a briefing to discuss how ComplAI can optimize your compliance strategy?\n",
       "\n",
       "Best regards,\n",
       "[Your Name]\n",
       "ComplAILiaison | Phone: [Your Contact Number]\n",
       "\n"
      ],
      "text/plain": [
       "<IPython.core.display.Markdown object>"
      ]
     },
     "metadata": {},
     "output_type": "display_data"
    },
    {
     "data": {
      "text/markdown": [
       "# Sales Picker:\n",
       "\n",
       "RunResult:\n",
       "- Last agent: Agent(name=\"sales_picker\", ...)\n",
       "- Final output (str):\n",
       "    Subject: Enhance Your Organization's Compliance Readiness with ComplAI\n",
       "- 1 new item(s)\n",
       "- 1 raw response(s)\n",
       "- 0 input guardrail result(s)\n",
       "- 0 output guardrail result(s)\n",
       "(See `RunResult` for more details)"
      ],
      "text/plain": [
       "<IPython.core.display.Markdown object>"
      ]
     },
     "metadata": {},
     "output_type": "display_data"
    },
    {
     "data": {
      "text/markdown": [
       "# Sales Agent:\n",
       "\n",
       "Here's a cold sales email with some humor:\n",
       "\n",
       "Subject: Your Audit is No laughing Matter (unless you're prepared)\n",
       "\n",
       "Hi [Name],\n",
       "\n",
       "I'm guessing you're not thrilled about the thought of your upcoming SOC 2 audit. Newsflash: audits are like awkward family reunions, but without the free food.\n",
       "\n",
       "ComplAI to the rescue! Our AI-powered SaaS tool ensures your organization is SOC 2 compliant and prepared for those pesky auditors. No more scrambling around trying to find that elusive piece of documentation or praying you remember all the required security protocols.\n",
       "\n",
       "Our platform helps you:\n",
       "\n",
       "Streamline compliance efforts\n",
       "Identify potential issues before they become major headaches\n",
       "Increase audit success rates (read: reduce your risk of a sleepless night)\n",
       "\n",
       "Want to learn more about how ComplAI can make auditing less painful? Let's chat! I'd be happy to schedule a demo and show you why our tool is the 'audit whisperer' for many companies like yours.\n",
       "\n",
       "Hit reply or schedule a time that works for you: [Calendly Link]\n",
       "\n",
       "Looking forward to helping you ace your next audit!\n",
       "\n",
       "Cheers,\n",
       "[Your Name]\n",
       "ComplAI Sales & Support\n",
       "\n",
       "P.S. We've got a 14-day free trial waiting for you, if you'd rather take it for a spin first. Just sayin'.\n",
       "\n",
       "How's that?\n",
       "\n"
      ],
      "text/plain": [
       "<IPython.core.display.Markdown object>"
      ]
     },
     "metadata": {},
     "output_type": "display_data"
    },
    {
     "data": {
      "text/markdown": [
       "# Sales Picker:\n",
       "\n",
       "RunResult:\n",
       "- Last agent: Agent(name=\"sales_picker\", ...)\n",
       "- Final output (str):\n",
       "    Subject: Enhance Your Organization's Compliance Readiness with ComplAI\n",
       "- 1 new item(s)\n",
       "- 1 raw response(s)\n",
       "- 0 input guardrail result(s)\n",
       "- 0 output guardrail result(s)\n",
       "(See `RunResult` for more details)"
      ],
      "text/plain": [
       "<IPython.core.display.Markdown object>"
      ]
     },
     "metadata": {},
     "output_type": "display_data"
    },
    {
     "data": {
      "text/markdown": [
       "# Sales Agent:\n",
       "\n",
       "Here's a direct and concise cold email:\n",
       "\n",
       "Subject: Simplify Your SOC 2 Compliance Journey\n",
       "\n",
       "Hi [Recipient],\n",
       "\n",
       "As a leader in [Industry], I assume you're aware of the growing importance of cybersecurity and compliance for your organization.\n",
       "\n",
       "At ComplAI, we've developed an AI-powered SaaS tool that streamlines the time-consuming process of achieving SOC 2 compliance. Our platform automates audit preparation, saving you months of manual work and costly delays.\n",
       "\n",
       "Would you like to schedule a quick call to discuss how our solution can help alleviate the burden of compliance on your team?\n",
       "\n",
       "Best,\n",
       "[Your Name]\n",
       "ComplAI\n",
       "\n",
       "This email is short, relevant, and attention grabbing. It:\n",
       "\n",
       "1. Acknowledges the recipient's industry and their likely awareness of cybersecurity's importance.\n",
       "2. Highlights the value proposition: saving time, manual labor, and costly delays.\n",
       "3. Suggests a personal connection with the recipient (a quick call).\n",
       "4. Ends with a clear next step to further discuss the solution.\n",
       "\n",
       "Let me know if you want any variations or adjustments!\n",
       "\n"
      ],
      "text/plain": [
       "<IPython.core.display.Markdown object>"
      ]
     },
     "metadata": {},
     "output_type": "display_data"
    },
    {
     "data": {
      "text/markdown": [
       "# Sales Picker:\n",
       "\n",
       "RunResult:\n",
       "- Last agent: Agent(name=\"sales_picker\", ...)\n",
       "- Final output (str):\n",
       "    Subject: Enhance Your Organization's Compliance Readiness with ComplAI\n",
       "- 1 new item(s)\n",
       "- 1 raw response(s)\n",
       "- 0 input guardrail result(s)\n",
       "- 0 output guardrail result(s)\n",
       "(See `RunResult` for more details)"
      ],
      "text/plain": [
       "<IPython.core.display.Markdown object>"
      ]
     },
     "metadata": {},
     "output_type": "display_data"
    },
    {
     "data": {
      "text/markdown": [
       "# Sales Agent:\n",
       "\n",
       "Here's a sample cold sales email:\n",
       "\n",
       "Subject: Boost Your Website's Visibility\n",
       "\n",
       "Hi John,\n",
       "\n",
       "I came across your website and noticed that it's ranking #4 for \"best coffee shops in [City]\". However, our recent study shows that websites with a SEO audit and optimization can increase their visibility by 300% and drive more quality leads.\n",
       "\n",
       "Would you be open to a complimentary SEO review of your website? We'd love to help you maximize your online presence and reach a wider audience.\n",
       "\n",
       "Best,\n",
       "Emily\n",
       "Founder, OptimizerX\n",
       "\n",
       "This email aims to grab the recipient's attention with relevant information (his website's ranking) and offers a valuable solution to improve it. The tone is professional yet friendly, and the offer is complimentary, which makes it difficult for the recipient to say no.\n",
       "\n"
      ],
      "text/plain": [
       "<IPython.core.display.Markdown object>"
      ]
     },
     "metadata": {},
     "output_type": "display_data"
    },
    {
     "data": {
      "text/markdown": [
       "# Sales Picker:\n",
       "\n",
       "RunResult:\n",
       "- Last agent: Agent(name=\"sales_picker\", ...)\n",
       "- Final output (str):\n",
       "    Subject: Enhance Your Organization's Compliance Readiness with ComplAI\n",
       "- 1 new item(s)\n",
       "- 1 raw response(s)\n",
       "- 0 input guardrail result(s)\n",
       "- 0 output guardrail result(s)\n",
       "(See `RunResult` for more details)"
      ],
      "text/plain": [
       "<IPython.core.display.Markdown object>"
      ]
     },
     "metadata": {},
     "output_type": "display_data"
    }
   ],
   "source": [
    "# Result\n",
    "result, best = await phoenix_tracer(\n",
    "    \"Parallel Cold Emails\", \n",
    "    \"Write a cold sales email.\", \n",
    "    sales_agent1, \n",
    "    sales_agent2, \n",
    "    sales_agent3,\n",
    "    sales_picker\n",
    ")"
   ]
  }
 ],
 "metadata": {
  "kernelspec": {
   "display_name": "agentic",
   "language": "python",
   "name": "python3"
  },
  "language_info": {
   "codemirror_mode": {
    "name": "ipython",
    "version": 3
   },
   "file_extension": ".py",
   "mimetype": "text/x-python",
   "name": "python",
   "nbconvert_exporter": "python",
   "pygments_lexer": "ipython3",
   "version": "3.12.11"
  }
 },
 "nbformat": 4,
 "nbformat_minor": 5
}
