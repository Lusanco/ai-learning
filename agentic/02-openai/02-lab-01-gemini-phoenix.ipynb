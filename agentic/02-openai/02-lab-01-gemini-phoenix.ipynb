{
 "cells": [
  {
   "cell_type": "code",
   "execution_count": 2,
   "id": "d86da83f",
   "metadata": {},
   "outputs": [],
   "source": [
    "# Imports\n",
    "import os\n",
    "import asyncio\n",
    "from typing import cast\n",
    "from dotenv import load_dotenv\n",
    "from typing import Dict\n",
    "from agents import Agent, Runner, OpenAIChatCompletionsModel, AsyncOpenAI\n",
    "from openai.types.responses import ResponseTextDeltaEvent\n",
    "\n",
    "\n",
    "# Arize Phoenix Tracer\n",
    "from phoenix.otel import register\n",
    "from opentelemetry import trace as otel_trace\n",
    "\n",
    "\n",
    "# Markdown output display\n",
    "from IPython.display import Markdown, display"
   ]
  },
  {
   "cell_type": "code",
   "execution_count": 4,
   "id": "178bbe83",
   "metadata": {},
   "outputs": [],
   "source": [
    "# Cast to String\n",
    "def env_to_str(env: str) -> str:\n",
    "    return cast(str, os.getenv(env))"
   ]
  },
  {
   "cell_type": "code",
   "execution_count": 6,
   "id": "057f3999",
   "metadata": {},
   "outputs": [],
   "source": [
    "# Load Environment Variables\n",
    "load_dotenv(override=True)\n",
    "\n",
    "# Gemini Environment Variables\n",
    "gemini_api_key = env_to_str('GEMINI_API_KEY')\n",
    "gemini_base_url = env_to_str('GEMINI_BASE_URL')\n",
    "model_gemini_flash = env_to_str('MODEL_GEMINI_FLASH')\n",
    "\n",
    "# Phoenix Collector Variables\n",
    "phoenix_collector_endpoint = env_to_str(\"PHOENIX_COLLECTOR_ENDPOINT\") or \"http://localhost:6006/v1/traces\"\n",
    "\n",
    "# Maileroo Environment Variables\n",
    "maileroo_api_key = env_to_str(\"MAILEROO_API_KEY\")\n",
    "maileroo_base_url = env_to_str(\"MAILEROO_BASE_URL\")\n",
    "maileroo_template_url = env_to_str(\"MAILEROO_TEMPLATE_URL\")"
   ]
  },
  {
   "cell_type": "code",
   "execution_count": null,
   "id": "d8457437",
   "metadata": {},
   "outputs": [],
   "source": [
    "# Agent Workflow Instructions\n",
    "\n",
    "instructions1 = \"You are a sales agent working for ComplAI, \\\n",
    "a company that provides a SaaS tool for ensuring SOC2 compliance and preparing for audits, powered by AI. \\\n",
    "You write professional, serious cold emails.\"\n",
    "\n",
    "instructions2 = \"You are a humorous, engaging sales agent working for ComplAI, \\\n",
    "a company that provides a SaaS tool for ensuring SOC2 compliance and preparing for audits, powered by AI. \\\n",
    "You write witty, engaging cold emails that are likely to get a response.\"\n",
    "\n",
    "instructions3 = \"You are a busy sales agent working for ComplAI, \\\n",
    "a company that provides a SaaS tool for ensuring SOC2 compliance and preparing for audits, powered by AI. \\\n",
    "You write concise, to the point cold emails.\""
   ]
  },
  {
   "cell_type": "code",
   "execution_count": null,
   "id": "f720087a",
   "metadata": {},
   "outputs": [],
   "source": [
    "# Configure Phoenix Tracer\n",
    "try:\n",
    "    tracer_provider = register(\n",
    "    project_name=\"gemini_phoenix\",\n",
    "    auto_instrument=True,\n",
    "    endpoint=phoenix_collector_endpoint,\n",
    "    set_global_tracer_provider=True\n",
    ")\n",
    "    display(Markdown(\"✅ Phoenix tracer registered successfully\"))\n",
    "except Exception as e:\n",
    "    display(Markdown(f\"❌ Phoenix registration failed: {e}\"))"
   ]
  },
  {
   "cell_type": "code",
   "execution_count": null,
   "id": "3a7488b3",
   "metadata": {},
   "outputs": [],
   "source": [
    "# Gemini Model\n",
    "gemini_model = OpenAIChatCompletionsModel(\n",
    "    model=model_gemini_flash,\n",
    "    openai_client=AsyncOpenAI(\n",
    "        api_key=gemini_api_key, \n",
    "        base_url=gemini_base_url\n",
    "    )\n",
    ")"
   ]
  },
  {
   "cell_type": "code",
   "execution_count": null,
   "id": "0b6aec86",
   "metadata": {},
   "outputs": [],
   "source": [
    "# Agents\n",
    "\n",
    "sales_agent1 = Agent(\n",
    "        name=\"Professional Sales Agent\",\n",
    "        instructions=instructions1,\n",
    "        model=gemini_model\n",
    ")\n",
    "\n",
    "sales_agent2 = Agent(\n",
    "        name=\"Engaging Sales Agent\",\n",
    "        instructions=instructions2,\n",
    "        model=gemini_model\n",
    ")\n",
    "\n",
    "sales_agent3 = Agent(\n",
    "        name=\"Busy Sales Agent\",\n",
    "        instructions=instructions3,\n",
    "        model=gemini_model\n",
    ")"
   ]
  },
  {
   "cell_type": "code",
   "execution_count": null,
   "id": "b875b71b",
   "metadata": {},
   "outputs": [],
   "source": [
    "# Test function with explicit tracing\n",
    "async def gemini_tracer():\n",
    "    tracer = otel_trace.get_tracer(__name__)\n",
    "    with tracer.start_as_current_span(\"Chicken Joke\"):\n",
    "        \n",
    "        # Add custom attributes to the trace\n",
    "        current_span = otel_trace.get_current_span()\n",
    "        current_span.set_attribute(\"user.request\", \"Tell a joke about chickens and roads\")\n",
    "        current_span.set_attribute(\"agent.name\", \"The Jokester\")\n",
    "        current_span.set_attribute(\"model.name\", model_gemini_flash or \"unknown\")\n",
    "        \n",
    "        result = await Runner.run(gemini_agent, \"Tell a joke about chickens and roads.\")\n",
    "        \n",
    "        # Add response attributes\n",
    "        current_span.set_attribute(\"response.length\", len(result.final_output))\n",
    "        current_span.set_attribute(\"response.preview\", result.final_output[:100])\n",
    "        \n",
    "        display(Markdown(result.final_output))\n",
    "        return result.final_output\n",
    " "
   ]
  },
  {
   "cell_type": "code",
   "execution_count": null,
   "id": "062cd323",
   "metadata": {},
   "outputs": [],
   "source": [
    "result = await gemini_tracer()"
   ]
  },
  {
   "cell_type": "markdown",
   "id": "611c1457",
   "metadata": {},
   "source": [
    "**IMPORTANT:**\n",
    "- **THIS EXAMPLE -DOES- USE TRACE**\n",
    "- **ARIZE PHOENIX TRACE:**\n",
    "  - **OLLAMA**\n",
    "  - **GEMINI**"
   ]
  }
 ],
 "metadata": {
  "kernelspec": {
   "display_name": "agentic",
   "language": "python",
   "name": "python3"
  },
  "language_info": {
   "codemirror_mode": {
    "name": "ipython",
    "version": 3
   },
   "file_extension": ".py",
   "mimetype": "text/x-python",
   "name": "python",
   "nbconvert_exporter": "python",
   "pygments_lexer": "ipython3",
   "version": "3.12.11"
  }
 },
 "nbformat": 4,
 "nbformat_minor": 5
}
