{
 "cells": [
  {
   "cell_type": "code",
   "execution_count": null,
   "id": "d86da83f",
   "metadata": {},
   "outputs": [],
   "source": [
    "# Imports\n",
    "import os\n",
    "import asyncio\n",
    "from typing import cast\n",
    "from dotenv import load_dotenv\n",
    "from typing import Dict\n",
    "from agents import Agent, Runner, OpenAIChatCompletionsModel, AsyncOpenAI\n",
    "from openai.types.responses import ResponseTextDeltaEvent\n",
    "\n",
    "\n",
    "# Arize Phoenix Tracer\n",
    "from phoenix.otel import register\n",
    "from opentelemetry import trace as otel_trace\n",
    "\n",
    "\n",
    "# Markdown output display\n",
    "from IPython.display import Markdown, display"
   ]
  },
  {
   "cell_type": "code",
   "execution_count": 2,
   "id": "178bbe83",
   "metadata": {},
   "outputs": [],
   "source": [
    "# Cast to String\n",
    "def env_to_str(env: str) -> str:\n",
    "    return cast(str, os.getenv(env))"
   ]
  },
  {
   "cell_type": "code",
   "execution_count": 3,
   "id": "057f3999",
   "metadata": {},
   "outputs": [],
   "source": [
    "# Load Environment Variables\n",
    "load_dotenv(override=True)\n",
    "\n",
    "# Gemini Environment Variables\n",
    "gemini_api_key = env_to_str('GEMINI_API_KEY')\n",
    "gemini_base_url = env_to_str('GEMINI_BASE_URL')\n",
    "model_gemini_flash = env_to_str('MODEL_GEMINI_FLASH')\n",
    "\n",
    "# Phoenix Collector Variables\n",
    "phoenix_collector_endpoint = env_to_str(\"PHOENIX_COLLECTOR_ENDPOINT\") or \"http://localhost:6006/v1/traces\""
   ]
  },
  {
   "cell_type": "code",
   "execution_count": 4,
   "id": "f720087a",
   "metadata": {},
   "outputs": [
    {
     "name": "stderr",
     "output_type": "stream",
     "text": [
      "DependencyConflict: requested: \"openai-agents >= 0.1.0\" but found: \"openai-agents 0.0.17\"\n",
      "DependencyConflict: requested: \"google-genai\" but found: \"None\"\n"
     ]
    },
    {
     "name": "stdout",
     "output_type": "stream",
     "text": [
      "🔭 OpenTelemetry Tracing Details 🔭\n",
      "|  Phoenix Project: gemini_phoenix\n",
      "|  Span Processor: SimpleSpanProcessor\n",
      "|  Collector Endpoint: http://localhost:6006/v1/traces\n",
      "|  Transport: HTTP + protobuf\n",
      "|  Transport Headers: {}\n",
      "|  \n",
      "|  Using a default SpanProcessor. `add_span_processor` will overwrite this default.\n",
      "|  \n",
      "|  ⚠️ WARNING: It is strongly advised to use a BatchSpanProcessor in production environments.\n",
      "|  \n",
      "|  `register` has set this TracerProvider as the global OpenTelemetry default.\n",
      "|  To disable this behavior, call `register` with `set_global_tracer_provider=False`.\n",
      "\n"
     ]
    },
    {
     "data": {
      "text/markdown": [
       "✅ Phoenix tracer registered successfully"
      ],
      "text/plain": [
       "<IPython.core.display.Markdown object>"
      ]
     },
     "metadata": {},
     "output_type": "display_data"
    }
   ],
   "source": [
    "# Configure Phoenix Tracer\n",
    "try:\n",
    "    tracer_provider = register(\n",
    "    project_name=\"gemini_phoenix\",\n",
    "    auto_instrument=True,\n",
    "    endpoint=phoenix_collector_endpoint,\n",
    "    set_global_tracer_provider=True\n",
    ")\n",
    "    display(Markdown(\"✅ Phoenix tracer registered successfully\"))\n",
    "except Exception as e:\n",
    "    display(Markdown(f\"❌ Phoenix registration failed: {e}\"))"
   ]
  },
  {
   "cell_type": "code",
   "execution_count": 5,
   "id": "3a7488b3",
   "metadata": {},
   "outputs": [],
   "source": [
    "# Gemini Model\n",
    "gemini_model = OpenAIChatCompletionsModel(\n",
    "    model=model_gemini_flash,\n",
    "    openai_client=AsyncOpenAI(\n",
    "        api_key=gemini_api_key, \n",
    "        base_url=gemini_base_url\n",
    "    )\n",
    ")\n",
    "\n",
    "# Gemini Agent\n",
    "gemini_agent = Agent(\n",
    "    name=\"The Jokester\", \n",
    "    instructions=\"You are a joke teller.\", \n",
    "    model=gemini_model\n",
    ")"
   ]
  },
  {
   "cell_type": "code",
   "execution_count": 6,
   "id": "b875b71b",
   "metadata": {},
   "outputs": [],
   "source": [
    "# Test function with explicit tracing\n",
    "async def gemini_tracer():\n",
    "    tracer = otel_trace.get_tracer(__name__)\n",
    "    with tracer.start_as_current_span(\"Chicken Joke\"):\n",
    "        \n",
    "        # Add custom attributes to the trace\n",
    "        current_span = otel_trace.get_current_span()\n",
    "        current_span.set_attribute(\"user.request\", \"Tell a joke about chickens and roads\")\n",
    "        current_span.set_attribute(\"agent.name\", \"The Jokester\")\n",
    "        current_span.set_attribute(\"model.name\", model_gemini_flash or \"unknown\")\n",
    "        \n",
    "        result = await Runner.run(gemini_agent, \"Tell a joke about chickens and roads.\")\n",
    "        \n",
    "        # Add response attributes\n",
    "        current_span.set_attribute(\"response.length\", len(result.final_output))\n",
    "        current_span.set_attribute(\"response.preview\", result.final_output[:100])\n",
    "        \n",
    "        display(Markdown(result.final_output))\n",
    "        return result.final_output\n",
    " "
   ]
  },
  {
   "cell_type": "code",
   "execution_count": 7,
   "id": "062cd323",
   "metadata": {},
   "outputs": [
    {
     "data": {
      "text/markdown": [
       "Why did the chicken cross the playground?\n",
       "\n",
       "To get to the other slide! \n",
       "\n",
       "... I know, I know, it's not the road one. But listen, that one's so overdone! I'm trying to reinvent the chicken-crossing genre! Maybe I'll try again...\n",
       "\n",
       "Why did the chicken cross the road, roll in the mud, and cross back?\n",
       "\n",
       "To be a dirty double-crosser!\n",
       "\n",
       "... Okay, I'll work on my delivery. Maybe I should stick to eggs. They're always good for a yolk. Get it? Yolk? Ah, never mind.\n"
      ],
      "text/plain": [
       "<IPython.core.display.Markdown object>"
      ]
     },
     "metadata": {},
     "output_type": "display_data"
    },
    {
     "name": "stderr",
     "output_type": "stream",
     "text": [
      "[non-fatal] Tracing client error 401: {\n",
      "  \"error\": {\n",
      "    \"message\": \"Incorrect API key provided: ollama_o*********ault. You can find your API key at https://platform.openai.com/account/api-keys.\",\n",
      "    \"type\": \"invalid_request_error\",\n",
      "    \"param\": null,\n",
      "    \"code\": \"invalid_api_key\"\n",
      "  }\n",
      "}\n"
     ]
    }
   ],
   "source": [
    "result = await gemini_tracer()"
   ]
  },
  {
   "cell_type": "markdown",
   "id": "611c1457",
   "metadata": {},
   "source": [
    "**IMPORTANT:**\n",
    "- **THIS EXAMPLE -DOES- USE TRACE**\n",
    "- **ARIZE PHOENIX TRACE:**\n",
    "  - **OLLAMA**\n",
    "  - **GEMINI**"
   ]
  }
 ],
 "metadata": {
  "kernelspec": {
   "display_name": "agentic",
   "language": "python",
   "name": "python3"
  },
  "language_info": {
   "codemirror_mode": {
    "name": "ipython",
    "version": 3
   },
   "file_extension": ".py",
   "mimetype": "text/x-python",
   "name": "python",
   "nbconvert_exporter": "python",
   "pygments_lexer": "ipython3",
   "version": "3.12.11"
  }
 },
 "nbformat": 4,
 "nbformat_minor": 5
}
