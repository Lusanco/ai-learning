{
 "cells": [
  {
   "cell_type": "code",
   "execution_count": 16,
   "id": "d86da83f",
   "metadata": {},
   "outputs": [],
   "source": [
    "# Imports\n",
    "import os\n",
    "from typing import cast\n",
    "from dotenv import load_dotenv\n",
    "from agents import Agent, Runner, trace, OpenAIChatCompletionsModel, AsyncOpenAI\n",
    "\n",
    "# Markdown output display\n",
    "from IPython.display import Markdown, display"
   ]
  },
  {
   "cell_type": "code",
   "execution_count": 17,
   "id": "178bbe83",
   "metadata": {},
   "outputs": [],
   "source": [
    "# Cast to String\n",
    "def env_to_str(env: str) -> str:\n",
    "    return cast(str, os.getenv(env))"
   ]
  },
  {
   "cell_type": "code",
   "execution_count": 18,
   "id": "057f3999",
   "metadata": {},
   "outputs": [],
   "source": [
    "# Load Environment Variables\n",
    "load_dotenv(override=True)\n",
    "\n",
    "# Ollama Environment Variables\n",
    "ollama_api_key = env_to_str('OLLAMA_API_KEY')\n",
    "ollama_base_url = env_to_str('OLLAMA_BASE_URL')\n",
    "model_gemma3 = env_to_str('MODEL_GEMMA3')"
   ]
  },
  {
   "cell_type": "code",
   "execution_count": 19,
   "id": "3a7488b3",
   "metadata": {},
   "outputs": [],
   "source": [
    "# Ollama Model\n",
    "ollama_model = OpenAIChatCompletionsModel(\n",
    "    model=model_gemma3,\n",
    "    openai_client=AsyncOpenAI(api_key=ollama_api_key, base_url=ollama_base_url)\n",
    ")\n",
    "\n",
    "# Ollama Agent\n",
    "ollama_agent = Agent(name=\"The Jokester\", instructions=\"You are a joke teller.\", model=ollama_model)"
   ]
  },
  {
   "cell_type": "code",
   "execution_count": 20,
   "id": "b875b71b",
   "metadata": {},
   "outputs": [
    {
     "data": {
      "text/markdown": [
       "Why did the chicken cross the playground? \n",
       "\n",
       "To get to the other slide!\n",
       "\n",
       "\n",
       "\n",
       "😂🐔\n",
       "\n",
       "\n",
       "\n",
       "Hope that gave you a chuckle! Want to hear another one?"
      ],
      "text/plain": [
       "<IPython.core.display.Markdown object>"
      ]
     },
     "metadata": {},
     "output_type": "display_data"
    }
   ],
   "source": [
    "# Run the joke with Runner.run(agent, prompt) then print final_output\n",
    "\n",
    "with trace(\"Telling a joke\"):\n",
    "    result = await Runner.run(ollama_agent, \"Tell a joke about chickens and roads.\")\n",
    "    display(Markdown(result.final_output))"
   ]
  },
  {
   "cell_type": "markdown",
   "id": "611c1457",
   "metadata": {},
   "source": [
    "**IMPORTANT:**\n",
    "- **THIS EXAMPLE DOES -NOT- USE TRACE**\n",
    "- **OPENAI AGENTS SDK TRACE:**\n",
    "  - **OPENAI**\n",
    "  - **!GEMINI**\n",
    "  - **!OLLAMA**"
   ]
  }
 ],
 "metadata": {
  "kernelspec": {
   "display_name": "agentic",
   "language": "python",
   "name": "python3"
  },
  "language_info": {
   "codemirror_mode": {
    "name": "ipython",
    "version": 3
   },
   "file_extension": ".py",
   "mimetype": "text/x-python",
   "name": "python",
   "nbconvert_exporter": "python",
   "pygments_lexer": "ipython3",
   "version": "3.12.11"
  }
 },
 "nbformat": 4,
 "nbformat_minor": 5
}
